{
 "cells": [
  {
   "attachments": {},
   "cell_type": "markdown",
   "metadata": {},
   "source": [
    "<table style=\"float:left; border:none\">\n",
    "   <tr style=\"border:none\">\n",
    "       <td style=\"border:none\">\n",
    "           <a href=\"https://bokeh.org/\">\n",
    "           <img\n",
    "               src=\"assets/bokeh-transparent.png\"\n",
    "               style=\"width:50px\"\n",
    "           >\n",
    "           </a>\n",
    "       </td>\n",
    "       <td style=\"border:none\">\n",
    "           <h1>Bokeh Tutorial</h1>\n",
    "       </td>\n",
    "   </tr>\n",
    "</table>\n",
    "\n",
    "<div style=\"float:right;\"><h2>13 Exporting and embedding</h2></div>"
   ]
  },
  {
   "attachments": {},
   "cell_type": "markdown",
   "metadata": {},
   "source": [
    "So far, you have used generate interactive Bokeh output directly in Jupyter notebooks.\n",
    "\n",
    "You can also use Bokeh to generate standalone HTML files, or embed Bokeh documents in\n",
    "other contexts.\n",
    "Bokeh also supports export to SVG and PNG files."
   ]
  },
  {
   "attachments": {},
   "cell_type": "markdown",
   "metadata": {},
   "source": [
    "### Standalone HTML files\n",
    "\n",
    "Bokeh allows you to save a document as a standalone HTML file.\n",
    "This is useful for sharing your work with others, or for embedding in a web site.\n",
    "The HTML document that Bokeh creates includes all the data and JavaScript code for\n",
    "your document.\n",
    "\n",
    "By default, most of Bokeh's JavaScript components still need to be loaded from the\n",
    "Content Delivery Network (CDN). This means that the HTML file will not work offline.\n",
    "\n",
    "Creating a standalone HTML file is a two-step process:\n",
    "- First, you use the `output_file()` function to specify some file-related options:\n",
    "    - `filename` is the name of the HTML file to generate\n",
    "    - `title` is the title of the HTML document\n",
    "    - `mode` specifies how BokehJS should be included in the HTML file.\n",
    "        By default, BokehJS will be loaded from the Content Delivery Network (CDN).\n",
    "        This means that the HTML file will not work offline.\n",
    "        To include BokehJS in the HTML file, set `mode` to `\"inline\"`.\n",
    "- Second, you use either `show()` or `save()` to generate the HTML file:\n",
    "    - `save()` will save the HTML file to disk\n",
    "    - `show()` will save the HTML file and open it in a new browser tab\n",
    "\n",
    "Run the following code cell to generate a standalone HTML file:"
   ]
  },
  {
   "cell_type": "code",
   "execution_count": 1,
   "metadata": {},
   "outputs": [
    {
     "data": {
      "text/plain": [
       "'c:\\\\Users\\\\TCM\\\\Documents\\\\GitHub\\\\tutorial\\\\notebooks\\\\custom_filename.html'"
      ]
     },
     "execution_count": 1,
     "metadata": {},
     "output_type": "execute_result"
    }
   ],
   "source": [
    "from bokeh.plotting import figure, output_file, save\n",
    "\n",
    "# prepare some data\n",
    "x = [1, 2, 3, 4, 5]\n",
    "y = [4, 5, 5, 7, 2]\n",
    "\n",
    "# set output to static HTML file\n",
    "output_file(filename=\"custom_filename.html\", title=\"Static HTML file\")\n",
    "\n",
    "# create a new plot\n",
    "p = figure(sizing_mode=\"stretch_width\", height=250)\n",
    "\n",
    "# add a circle renderer\n",
    "circle = p.circle(x, y, fill_color=\"red\", size=15)\n",
    "\n",
    "# save the results to a file\n",
    "# 🔁 replace with show(p) to see the HTML file opened in a browser window\n",
    "save(p)"
   ]
  },
  {
   "attachments": {},
   "cell_type": "markdown",
   "metadata": {},
   "source": [
    "It is important to note that `output_file` initiates a *persistent mode of operation*. That is, all subsequent calls to show will generate output to the specified file. We can \"reset\" where output will go by calling `reset_output`:\n",
    "\n",
    "Calling `output_file` switches Bokeh to file output mode persistently.\n",
    "This means that all subsequent calls to `show` will generate output to the specified file.\n",
    "\n",
    "To reset the output mode, call `reset_output`:"
   ]
  },
  {
   "cell_type": "code",
   "execution_count": 2,
   "metadata": {},
   "outputs": [],
   "source": [
    "from bokeh.io import reset_output\n",
    "\n",
    "reset_output()"
   ]
  },
  {
   "attachments": {},
   "cell_type": "markdown",
   "metadata": {},
   "source": [
    "Since you are currently running Bokeh in a Jupyter notebook, you can also use the\n",
    "`output_notebook()` function. This switch Bokeh back to notebook output mode."
   ]
  },
  {
   "cell_type": "code",
   "execution_count": 4,
   "metadata": {},
   "outputs": [
    {
     "data": {
      "text/html": [
       "<style>\n",
       "        .bk-notebook-logo {\n",
       "            display: block;\n",
       "            width: 20px;\n",
       "            height: 20px;\n",
       "            background-image: url(data:image/png;base64,iVBORw0KGgoAAAANSUhEUgAAABQAAAAUCAYAAACNiR0NAAAABHNCSVQICAgIfAhkiAAAAAlwSFlzAAALEgAACxIB0t1+/AAAABx0RVh0U29mdHdhcmUAQWRvYmUgRmlyZXdvcmtzIENTNui8sowAAAOkSURBVDiNjZRtaJVlGMd/1/08zzln5zjP1LWcU9N0NkN8m2CYjpgQYQXqSs0I84OLIC0hkEKoPtiH3gmKoiJDU7QpLgoLjLIQCpEsNJ1vqUOdO7ppbuec5+V+rj4ctwzd8IIbbi6u+8f1539dt3A78eXC7QizUF7gyV1fD1Yqg4JWz84yffhm0qkFqBogB9rM8tZdtwVsPUhWhGcFJngGeWrPzHm5oaMmkfEg1usvLFyc8jLRqDOMru7AyC8saQr7GG7f5fvDeH7Ej8CM66nIF+8yngt6HWaKh7k49Soy9nXurCi1o3qUbS3zWfrYeQDTB/Qj6kX6Ybhw4B+bOYoLKCC9H3Nu/leUTZ1JdRWkkn2ldcCamzrcf47KKXdAJllSlxAOkRgyHsGC/zRday5Qld9DyoM4/q/rUoy/CXh3jzOu3bHUVZeU+DEn8FInkPBFlu3+nW3Nw0mk6vCDiWg8CeJaxEwuHS3+z5RgY+YBR6V1Z1nxSOfoaPa4LASWxxdNp+VWTk7+4vzaou8v8PN+xo+KY2xsw6une2frhw05CTYOmQvsEhjhWjn0bmXPjpE1+kplmmkP3suftwTubK9Vq22qKmrBhpY4jvd5afdRA3wGjFAgcnTK2s4hY0/GPNIb0nErGMCRxWOOX64Z8RAC4oCXdklmEvcL8o0BfkNK4lUg9HTl+oPlQxdNo3Mg4Nv175e/1LDGzZen30MEjRUtmXSfiTVu1kK8W4txyV6BMKlbgk3lMwYCiusNy9fVfvvwMxv8Ynl6vxoByANLTWplvuj/nF9m2+PDtt1eiHPBr1oIfhCChQMBw6Aw0UulqTKZdfVvfG7VcfIqLG9bcldL/+pdWTLxLUy8Qq38heUIjh4XlzZxzQm19lLFlr8vdQ97rjZVOLf8nclzckbcD4wxXMidpX30sFd37Fv/GtwwhzhxGVAprjbg0gCAEeIgwCZyTV2Z1REEW8O4py0wsjeloKoMr6iCY6dP92H6Vw/oTyICIthibxjm/DfN9lVz8IqtqKYLUXfoKVMVQVVJOElGjrnnUt9T9wbgp8AyYKaGlqingHZU/uG2NTZSVqwHQTWkx9hxjkpWDaCg6Ckj5qebgBVbT3V3NNXMSiWSDdGV3hrtzla7J+duwPOToIg42ChPQOQjspnSlp1V+Gjdged7+8UN5CRAV7a5EdFNwCjEaBR27b3W890TE7g24NAP/mMDXRWrGoFPQI9ls/MWO2dWFAar/xcOIImbbpA3zgAAAABJRU5ErkJggg==);\n",
       "        }\n",
       "    </style>\n",
       "    <div>\n",
       "        <a href=\"https://bokeh.org\" target=\"_blank\" class=\"bk-notebook-logo\"></a>\n",
       "        <span id=\"p1239\">Loading BokehJS ...</span>\n",
       "    </div>\n"
      ]
     },
     "metadata": {},
     "output_type": "display_data"
    },
    {
     "data": {
      "application/javascript": "(function(root) {\n  function now() {\n    return new Date();\n  }\n\n  const force = true;\n\n  if (typeof root._bokeh_onload_callbacks === \"undefined\" || force === true) {\n    root._bokeh_onload_callbacks = [];\n    root._bokeh_is_loading = undefined;\n  }\n\nconst JS_MIME_TYPE = 'application/javascript';\n  const HTML_MIME_TYPE = 'text/html';\n  const EXEC_MIME_TYPE = 'application/vnd.bokehjs_exec.v0+json';\n  const CLASS_NAME = 'output_bokeh rendered_html';\n\n  /**\n   * Render data to the DOM node\n   */\n  function render(props, node) {\n    const script = document.createElement(\"script\");\n    node.appendChild(script);\n  }\n\n  /**\n   * Handle when an output is cleared or removed\n   */\n  function handleClearOutput(event, handle) {\n    const cell = handle.cell;\n\n    const id = cell.output_area._bokeh_element_id;\n    const server_id = cell.output_area._bokeh_server_id;\n    // Clean up Bokeh references\n    if (id != null && id in Bokeh.index) {\n      Bokeh.index[id].model.document.clear();\n      delete Bokeh.index[id];\n    }\n\n    if (server_id !== undefined) {\n      // Clean up Bokeh references\n      const cmd_clean = \"from bokeh.io.state import curstate; print(curstate().uuid_to_server['\" + server_id + \"'].get_sessions()[0].document.roots[0]._id)\";\n      cell.notebook.kernel.execute(cmd_clean, {\n        iopub: {\n          output: function(msg) {\n            const id = msg.content.text.trim();\n            if (id in Bokeh.index) {\n              Bokeh.index[id].model.document.clear();\n              delete Bokeh.index[id];\n            }\n          }\n        }\n      });\n      // Destroy server and session\n      const cmd_destroy = \"import bokeh.io.notebook as ion; ion.destroy_server('\" + server_id + \"')\";\n      cell.notebook.kernel.execute(cmd_destroy);\n    }\n  }\n\n  /**\n   * Handle when a new output is added\n   */\n  function handleAddOutput(event, handle) {\n    const output_area = handle.output_area;\n    const output = handle.output;\n\n    // limit handleAddOutput to display_data with EXEC_MIME_TYPE content only\n    if ((output.output_type != \"display_data\") || (!Object.prototype.hasOwnProperty.call(output.data, EXEC_MIME_TYPE))) {\n      return\n    }\n\n    const toinsert = output_area.element.find(\".\" + CLASS_NAME.split(' ')[0]);\n\n    if (output.metadata[EXEC_MIME_TYPE][\"id\"] !== undefined) {\n      toinsert[toinsert.length - 1].firstChild.textContent = output.data[JS_MIME_TYPE];\n      // store reference to embed id on output_area\n      output_area._bokeh_element_id = output.metadata[EXEC_MIME_TYPE][\"id\"];\n    }\n    if (output.metadata[EXEC_MIME_TYPE][\"server_id\"] !== undefined) {\n      const bk_div = document.createElement(\"div\");\n      bk_div.innerHTML = output.data[HTML_MIME_TYPE];\n      const script_attrs = bk_div.children[0].attributes;\n      for (let i = 0; i < script_attrs.length; i++) {\n        toinsert[toinsert.length - 1].firstChild.setAttribute(script_attrs[i].name, script_attrs[i].value);\n        toinsert[toinsert.length - 1].firstChild.textContent = bk_div.children[0].textContent\n      }\n      // store reference to server id on output_area\n      output_area._bokeh_server_id = output.metadata[EXEC_MIME_TYPE][\"server_id\"];\n    }\n  }\n\n  function register_renderer(events, OutputArea) {\n\n    function append_mime(data, metadata, element) {\n      // create a DOM node to render to\n      const toinsert = this.create_output_subarea(\n        metadata,\n        CLASS_NAME,\n        EXEC_MIME_TYPE\n      );\n      this.keyboard_manager.register_events(toinsert);\n      // Render to node\n      const props = {data: data, metadata: metadata[EXEC_MIME_TYPE]};\n      render(props, toinsert[toinsert.length - 1]);\n      element.append(toinsert);\n      return toinsert\n    }\n\n    /* Handle when an output is cleared or removed */\n    events.on('clear_output.CodeCell', handleClearOutput);\n    events.on('delete.Cell', handleClearOutput);\n\n    /* Handle when a new output is added */\n    events.on('output_added.OutputArea', handleAddOutput);\n\n    /**\n     * Register the mime type and append_mime function with output_area\n     */\n    OutputArea.prototype.register_mime_type(EXEC_MIME_TYPE, append_mime, {\n      /* Is output safe? */\n      safe: true,\n      /* Index of renderer in `output_area.display_order` */\n      index: 0\n    });\n  }\n\n  // register the mime type if in Jupyter Notebook environment and previously unregistered\n  if (root.Jupyter !== undefined) {\n    const events = require('base/js/events');\n    const OutputArea = require('notebook/js/outputarea').OutputArea;\n\n    if (OutputArea.prototype.mime_types().indexOf(EXEC_MIME_TYPE) == -1) {\n      register_renderer(events, OutputArea);\n    }\n  }\n  if (typeof (root._bokeh_timeout) === \"undefined\" || force === true) {\n    root._bokeh_timeout = Date.now() + 5000;\n    root._bokeh_failed_load = false;\n  }\n\n  const NB_LOAD_WARNING = {'data': {'text/html':\n     \"<div style='background-color: #fdd'>\\n\"+\n     \"<p>\\n\"+\n     \"BokehJS does not appear to have successfully loaded. If loading BokehJS from CDN, this \\n\"+\n     \"may be due to a slow or bad network connection. Possible fixes:\\n\"+\n     \"</p>\\n\"+\n     \"<ul>\\n\"+\n     \"<li>re-rerun `output_notebook()` to attempt to load from CDN again, or</li>\\n\"+\n     \"<li>use INLINE resources instead, as so:</li>\\n\"+\n     \"</ul>\\n\"+\n     \"<code>\\n\"+\n     \"from bokeh.resources import INLINE\\n\"+\n     \"output_notebook(resources=INLINE)\\n\"+\n     \"</code>\\n\"+\n     \"</div>\"}};\n\n  function display_loaded() {\n    const el = document.getElementById(\"p1239\");\n    if (el != null) {\n      el.textContent = \"BokehJS is loading...\";\n    }\n    if (root.Bokeh !== undefined) {\n      if (el != null) {\n        el.textContent = \"BokehJS \" + root.Bokeh.version + \" successfully loaded.\";\n      }\n    } else if (Date.now() < root._bokeh_timeout) {\n      setTimeout(display_loaded, 100)\n    }\n  }\n\n  function run_callbacks() {\n    try {\n      root._bokeh_onload_callbacks.forEach(function(callback) {\n        if (callback != null)\n          callback();\n      });\n    } finally {\n      delete root._bokeh_onload_callbacks\n    }\n    console.debug(\"Bokeh: all callbacks have finished\");\n  }\n\n  function load_libs(css_urls, js_urls, callback) {\n    if (css_urls == null) css_urls = [];\n    if (js_urls == null) js_urls = [];\n\n    root._bokeh_onload_callbacks.push(callback);\n    if (root._bokeh_is_loading > 0) {\n      console.debug(\"Bokeh: BokehJS is being loaded, scheduling callback at\", now());\n      return null;\n    }\n    if (js_urls == null || js_urls.length === 0) {\n      run_callbacks();\n      return null;\n    }\n    console.debug(\"Bokeh: BokehJS not loaded, scheduling load and callback at\", now());\n    root._bokeh_is_loading = css_urls.length + js_urls.length;\n\n    function on_load() {\n      root._bokeh_is_loading--;\n      if (root._bokeh_is_loading === 0) {\n        console.debug(\"Bokeh: all BokehJS libraries/stylesheets loaded\");\n        run_callbacks()\n      }\n    }\n\n    function on_error(url) {\n      console.error(\"failed to load \" + url);\n    }\n\n    for (let i = 0; i < css_urls.length; i++) {\n      const url = css_urls[i];\n      const element = document.createElement(\"link\");\n      element.onload = on_load;\n      element.onerror = on_error.bind(null, url);\n      element.rel = \"stylesheet\";\n      element.type = \"text/css\";\n      element.href = url;\n      console.debug(\"Bokeh: injecting link tag for BokehJS stylesheet: \", url);\n      document.body.appendChild(element);\n    }\n\n    for (let i = 0; i < js_urls.length; i++) {\n      const url = js_urls[i];\n      const element = document.createElement('script');\n      element.onload = on_load;\n      element.onerror = on_error.bind(null, url);\n      element.async = false;\n      element.src = url;\n      console.debug(\"Bokeh: injecting script tag for BokehJS library: \", url);\n      document.head.appendChild(element);\n    }\n  };\n\n  function inject_raw_css(css) {\n    const element = document.createElement(\"style\");\n    element.appendChild(document.createTextNode(css));\n    document.body.appendChild(element);\n  }\n\n  const js_urls = [\"https://cdn.bokeh.org/bokeh/release/bokeh-3.0.3.min.js\", \"https://cdn.bokeh.org/bokeh/release/bokeh-gl-3.0.3.min.js\", \"https://cdn.bokeh.org/bokeh/release/bokeh-widgets-3.0.3.min.js\", \"https://cdn.bokeh.org/bokeh/release/bokeh-tables-3.0.3.min.js\", \"https://cdn.bokeh.org/bokeh/release/bokeh-mathjax-3.0.3.min.js\"];\n  const css_urls = [];\n\n  const inline_js = [    function(Bokeh) {\n      Bokeh.set_log_level(\"info\");\n    },\nfunction(Bokeh) {\n    }\n  ];\n\n  function run_inline_js() {\n    if (root.Bokeh !== undefined || force === true) {\n          for (let i = 0; i < inline_js.length; i++) {\n      inline_js[i].call(root, root.Bokeh);\n    }\nif (force === true) {\n        display_loaded();\n      }} else if (Date.now() < root._bokeh_timeout) {\n      setTimeout(run_inline_js, 100);\n    } else if (!root._bokeh_failed_load) {\n      console.log(\"Bokeh: BokehJS failed to load within specified timeout.\");\n      root._bokeh_failed_load = true;\n    } else if (force !== true) {\n      const cell = $(document.getElementById(\"p1239\")).parents('.cell').data().cell;\n      cell.output_area.append_execute_result(NB_LOAD_WARNING)\n    }\n  }\n\n  if (root._bokeh_is_loading === 0) {\n    console.debug(\"Bokeh: BokehJS loaded, going straight to plotting\");\n    run_inline_js();\n  } else {\n    load_libs(css_urls, js_urls, function() {\n      console.debug(\"Bokeh: BokehJS plotting callback run at\", now());\n      run_inline_js();\n    });\n  }\n}(window));",
      "application/vnd.bokehjs_load.v0+json": ""
     },
     "metadata": {},
     "output_type": "display_data"
    }
   ],
   "source": [
    "from bokeh.io import output_notebook\n",
    "\n",
    "output_notebook()"
   ]
  },
  {
   "attachments": {},
   "cell_type": "markdown",
   "metadata": {},
   "source": [
    "### Embedding Bokeh documents\n",
    "\n",
    "Using the `output_file()` function creates a file that contains nothing but the Bokeh\n",
    "document.\n",
    "However, you can also embed Bokeh documents as an element of a larger web page.\n",
    "This way, you can include Bokeh in an Jinja template, for example.\n",
    "\n",
    "One way to do this is to use the `components()` function.\n",
    "This function returns a tuple containing two elements:\n",
    "* The first element is a `script` element that contains the JavaScript code for the\n",
    "    Bokeh document.\n",
    "* The second element is a `div` element that contains the HTML code for the Bokeh\n",
    "    document.\n",
    "\n",
    "You can then use these elements in your own HTML code.\n",
    "\n",
    "The following code cell shows how to use the `components()` function:"
   ]
  },
  {
   "cell_type": "code",
   "execution_count": 5,
   "metadata": {},
   "outputs": [],
   "source": [
    "# from bokeh.plotting import figure\n",
    "from bokeh.embed import components\n",
    "\n",
    "plot = figure()\n",
    "plot.circle([1, 2], [3, 4])\n",
    "\n",
    "script, div = components(plot)"
   ]
  },
  {
   "attachments": {},
   "cell_type": "markdown",
   "metadata": {},
   "source": [
    "This is the script generated by this example:"
   ]
  },
  {
   "cell_type": "code",
   "execution_count": 6,
   "metadata": {},
   "outputs": [
    {
     "data": {
      "text/plain": [
       "'    <script type=\"text/javascript\">\\n        (function() {\\n  const fn = function() {\\n    Bokeh.safely(function() {\\n      (function(root) {\\n        function embed_document(root) {\\n        const docs_json = \\'{\"7d8bce51-e834-48af-95b9-64d7fb48e0fb\":{\"version\":\"3.0.3\",\"title\":\"Bokeh Application\",\"defs\":[],\"roots\":[{\"type\":\"object\",\"name\":\"Figure\",\"id\":\"p1240\",\"attributes\":{\"x_range\":{\"type\":\"object\",\"name\":\"DataRange1d\",\"id\":\"p1242\"},\"y_range\":{\"type\":\"object\",\"name\":\"DataRange1d\",\"id\":\"p1241\"},\"x_scale\":{\"type\":\"object\",\"name\":\"LinearScale\",\"id\":\"p1253\"},\"y_scale\":{\"type\":\"object\",\"name\":\"LinearScale\",\"id\":\"p1255\"},\"title\":{\"type\":\"object\",\"name\":\"Title\",\"id\":\"p1248\"},\"renderers\":[{\"type\":\"object\",\"name\":\"GlyphRenderer\",\"id\":\"p1292\",\"attributes\":{\"data_source\":{\"type\":\"object\",\"name\":\"ColumnDataSource\",\"id\":\"p1286\",\"attributes\":{\"selected\":{\"type\":\"object\",\"name\":\"Selection\",\"id\":\"p1288\",\"attributes\":{\"indices\":[],\"line_indices\":[]}},\"selection_policy\":{\"type\":\"object\",\"name\":\"UnionRenderers\",\"id\":\"p1287\"},\"data\":{\"type\":\"map\",\"entries\":[[\"x\",[1,2]],[\"y\",[3,4]]]}}},\"view\":{\"type\":\"object\",\"name\":\"CDSView\",\"id\":\"p1293\",\"attributes\":{\"filter\":{\"type\":\"object\",\"name\":\"AllIndices\",\"id\":\"p1294\"}}},\"glyph\":{\"type\":\"object\",\"name\":\"Circle\",\"id\":\"p1289\",\"attributes\":{\"x\":{\"type\":\"field\",\"field\":\"x\"},\"y\":{\"type\":\"field\",\"field\":\"y\"},\"line_color\":{\"type\":\"value\",\"value\":\"#1f77b4\"},\"fill_color\":{\"type\":\"value\",\"value\":\"#1f77b4\"}}},\"nonselection_glyph\":{\"type\":\"object\",\"name\":\"Circle\",\"id\":\"p1290\",\"attributes\":{\"x\":{\"type\":\"field\",\"field\":\"x\"},\"y\":{\"type\":\"field\",\"field\":\"y\"},\"line_color\":{\"type\":\"value\",\"value\":\"#1f77b4\"},\"line_alpha\":{\"type\":\"value\",\"value\":0.1},\"fill_color\":{\"type\":\"value\",\"value\":\"#1f77b4\"},\"fill_alpha\":{\"type\":\"value\",\"value\":0.1},\"hatch_alpha\":{\"type\":\"value\",\"value\":0.1}}},\"muted_glyph\":{\"type\":\"object\",\"name\":\"Circle\",\"id\":\"p1291\",\"attributes\":{\"x\":{\"type\":\"field\",\"field\":\"x\"},\"y\":{\"type\":\"field\",\"field\":\"y\"},\"line_color\":{\"type\":\"value\",\"value\":\"#1f77b4\"},\"line_alpha\":{\"type\":\"value\",\"value\":0.2},\"fill_color\":{\"type\":\"value\",\"value\":\"#1f77b4\"},\"fill_alpha\":{\"type\":\"value\",\"value\":0.2},\"hatch_alpha\":{\"type\":\"value\",\"value\":0.2}}}}}],\"toolbar\":{\"type\":\"object\",\"name\":\"Toolbar\",\"id\":\"p1245\",\"attributes\":{\"tools\":[{\"type\":\"object\",\"name\":\"PanTool\",\"id\":\"p1271\"},{\"type\":\"object\",\"name\":\"WheelZoomTool\",\"id\":\"p1272\"},{\"type\":\"object\",\"name\":\"BoxZoomTool\",\"id\":\"p1273\",\"attributes\":{\"overlay\":{\"type\":\"object\",\"name\":\"BoxAnnotation\",\"id\":\"p1274\",\"attributes\":{\"syncable\":false,\"level\":\"overlay\",\"visible\":false,\"left_units\":\"canvas\",\"right_units\":\"canvas\",\"bottom_units\":\"canvas\",\"top_units\":\"canvas\",\"line_color\":\"black\",\"line_alpha\":1.0,\"line_width\":2,\"line_dash\":[4,4],\"fill_color\":\"lightgrey\",\"fill_alpha\":0.5}}}},{\"type\":\"object\",\"name\":\"SaveTool\",\"id\":\"p1275\"},{\"type\":\"object\",\"name\":\"ResetTool\",\"id\":\"p1276\"},{\"type\":\"object\",\"name\":\"HelpTool\",\"id\":\"p1277\"}]}},\"left\":[{\"type\":\"object\",\"name\":\"LinearAxis\",\"id\":\"p1264\",\"attributes\":{\"ticker\":{\"type\":\"object\",\"name\":\"BasicTicker\",\"id\":\"p1265\",\"attributes\":{\"mantissas\":[1,2,5]}},\"formatter\":{\"type\":\"object\",\"name\":\"BasicTickFormatter\",\"id\":\"p1266\"},\"major_label_policy\":{\"type\":\"object\",\"name\":\"AllLabels\",\"id\":\"p1267\"}}}],\"below\":[{\"type\":\"object\",\"name\":\"LinearAxis\",\"id\":\"p1257\",\"attributes\":{\"ticker\":{\"type\":\"object\",\"name\":\"BasicTicker\",\"id\":\"p1258\",\"attributes\":{\"mantissas\":[1,2,5]}},\"formatter\":{\"type\":\"object\",\"name\":\"BasicTickFormatter\",\"id\":\"p1259\"},\"major_label_policy\":{\"type\":\"object\",\"name\":\"AllLabels\",\"id\":\"p1260\"}}}],\"center\":[{\"type\":\"object\",\"name\":\"Grid\",\"id\":\"p1263\",\"attributes\":{\"axis\":{\"id\":\"p1257\"}}},{\"type\":\"object\",\"name\":\"Grid\",\"id\":\"p1270\",\"attributes\":{\"dimension\":1,\"axis\":{\"id\":\"p1264\"}}}]}}]}}\\';\\n        const render_items = [{\"docid\":\"7d8bce51-e834-48af-95b9-64d7fb48e0fb\",\"roots\":{\"p1240\":\"e839c050-2b9f-42cd-9c10-a87014ec5895\"},\"root_ids\":[\"p1240\"]}];\\n        root.Bokeh.embed.embed_items(docs_json, render_items);\\n        }\\n        if (root.Bokeh !== undefined) {\\n          embed_document(root);\\n        } else {\\n          let attempts = 0;\\n          const timer = setInterval(function(root) {\\n            if (root.Bokeh !== undefined) {\\n              clearInterval(timer);\\n              embed_document(root);\\n            } else {\\n              attempts++;\\n              if (attempts > 100) {\\n                clearInterval(timer);\\n                console.log(\"Bokeh: ERROR: Unable to run BokehJS code because BokehJS library is missing\");\\n              }\\n            }\\n          }, 10, root)\\n        }\\n      })(window);\\n    });\\n  };\\n  if (document.readyState != \"loading\") fn();\\n  else document.addEventListener(\"DOMContentLoaded\", fn);\\n})();\\n    </script>\\n'"
      ]
     },
     "execution_count": 6,
     "metadata": {},
     "output_type": "execute_result"
    }
   ],
   "source": [
    "script"
   ]
  },
  {
   "attachments": {},
   "cell_type": "markdown",
   "metadata": {},
   "source": [
    "And this is the div to embed in the HTML page:"
   ]
  },
  {
   "cell_type": "code",
   "execution_count": 7,
   "metadata": {},
   "outputs": [
    {
     "data": {
      "text/plain": [
       "'<div id=\"e839c050-2b9f-42cd-9c10-a87014ec5895\" data-root-id=\"p1240\" style=\"display: contents;\"></div>'"
      ]
     },
     "execution_count": 7,
     "metadata": {},
     "output_type": "execute_result"
    }
   ],
   "source": [
    "div"
   ]
  },
  {
   "attachments": {},
   "cell_type": "markdown",
   "metadata": {},
   "source": [
    "There are several more options for exporting and embedding Bokeh documents.\n",
    "See [Web pages](https://docs.bokeh.org/en/latest/docs/user_guide/output/embed.html)\n",
    "in the user guide for more information."
   ]
  },
  {
   "attachments": {},
   "cell_type": "markdown",
   "metadata": {},
   "source": [
    "### SVG and PNG export\n",
    "\n",
    "In addition to storing visualizations in HTML, you can also export a Bokeh document as\n",
    "an SVG or PNG file.\n",
    "\n",
    "Before you can use these file export options, you need to install the `selenium` Python\n",
    "package:"
   ]
  },
  {
   "cell_type": "code",
   "execution_count": 8,
   "metadata": {},
   "outputs": [
    {
     "name": "stdout",
     "output_type": "stream",
     "text": [
      "Requirement already satisfied: selenium in c:\\users\\tcm\\miniconda3\\envs\\bk-tutorial\\lib\\site-packages (4.7.2)\n",
      "Requirement already satisfied: urllib3[socks]~=1.26 in c:\\users\\tcm\\miniconda3\\envs\\bk-tutorial\\lib\\site-packages (from selenium) (1.26.9)\n",
      "Requirement already satisfied: certifi>=2021.10.8 in c:\\users\\tcm\\miniconda3\\envs\\bk-tutorial\\lib\\site-packages (from selenium) (2022.9.24)\n",
      "Requirement already satisfied: trio-websocket~=0.9 in c:\\users\\tcm\\miniconda3\\envs\\bk-tutorial\\lib\\site-packages (from selenium) (0.9.2)\n",
      "Requirement already satisfied: trio~=0.17 in c:\\users\\tcm\\miniconda3\\envs\\bk-tutorial\\lib\\site-packages (from selenium) (0.22.0)\n",
      "Requirement already satisfied: cffi>=1.14 in c:\\users\\tcm\\miniconda3\\envs\\bk-tutorial\\lib\\site-packages (from trio~=0.17->selenium) (1.15.0)\n",
      "Requirement already satisfied: exceptiongroup>=1.0.0rc9 in c:\\users\\tcm\\miniconda3\\envs\\bk-tutorial\\lib\\site-packages (from trio~=0.17->selenium) (1.1.0)\n",
      "Requirement already satisfied: sortedcontainers in c:\\users\\tcm\\miniconda3\\envs\\bk-tutorial\\lib\\site-packages (from trio~=0.17->selenium) (2.4.0)\n",
      "Requirement already satisfied: attrs>=19.2.0 in c:\\users\\tcm\\miniconda3\\envs\\bk-tutorial\\lib\\site-packages (from trio~=0.17->selenium) (21.4.0)\n",
      "Requirement already satisfied: async-generator>=1.9 in c:\\users\\tcm\\miniconda3\\envs\\bk-tutorial\\lib\\site-packages (from trio~=0.17->selenium) (1.10)\n",
      "Requirement already satisfied: outcome in c:\\users\\tcm\\miniconda3\\envs\\bk-tutorial\\lib\\site-packages (from trio~=0.17->selenium) (1.2.0)\n",
      "Requirement already satisfied: sniffio in c:\\users\\tcm\\miniconda3\\envs\\bk-tutorial\\lib\\site-packages (from trio~=0.17->selenium) (1.3.0)\n",
      "Requirement already satisfied: idna in c:\\users\\tcm\\miniconda3\\envs\\bk-tutorial\\lib\\site-packages (from trio~=0.17->selenium) (3.3)\n",
      "Requirement already satisfied: wsproto>=0.14 in c:\\users\\tcm\\miniconda3\\envs\\bk-tutorial\\lib\\site-packages (from trio-websocket~=0.9->selenium) (1.2.0)\n",
      "Requirement already satisfied: PySocks!=1.5.7,<2.0,>=1.5.6 in c:\\users\\tcm\\miniconda3\\envs\\bk-tutorial\\lib\\site-packages (from urllib3[socks]~=1.26->selenium) (1.7.1)\n",
      "Requirement already satisfied: pycparser in c:\\users\\tcm\\miniconda3\\envs\\bk-tutorial\\lib\\site-packages (from cffi>=1.14->trio~=0.17->selenium) (2.21)\n",
      "Requirement already satisfied: h11<1,>=0.9.0 in c:\\users\\tcm\\miniconda3\\envs\\bk-tutorial\\lib\\site-packages (from wsproto>=0.14->trio-websocket~=0.9->selenium) (0.14.0)\n"
     ]
    }
   ],
   "source": [
    "!pip install selenium"
   ]
  },
  {
   "attachments": {},
   "cell_type": "markdown",
   "metadata": {},
   "source": [
    "See [Additional dependencies](https://docs.bokeh.org/en/latest/docs/user_guide/output/export.html#additional-dependencies)\n",
    "in the user guide for more details and options.\n",
    "\n",
    "After installing selenium, you can use the `export_png()` function:"
   ]
  },
  {
   "cell_type": "code",
   "execution_count": 16,
   "metadata": {},
   "outputs": [
    {
     "data": {
      "text/plain": [
       "'c:\\\\Users\\\\TCM\\\\Documents\\\\GitHub\\\\tutorial\\\\notebooks\\\\plot.png'"
      ]
     },
     "execution_count": 16,
     "metadata": {},
     "output_type": "execute_result"
    }
   ],
   "source": [
    "from bokeh.io import export_png\n",
    "\n",
    "p = figure(width=300, height=300)\n",
    "circle = p.circle([1, 2, 3], [2, 5, 4])\n",
    "\n",
    "# save the results to a file\n",
    "export_png(p, filename=\"plot.png\")"
   ]
  },
  {
   "attachments": {},
   "cell_type": "markdown",
   "metadata": {},
   "source": [
    "This is the resulting PNG file:"
   ]
  },
  {
   "cell_type": "code",
   "execution_count": 17,
   "metadata": {},
   "outputs": [
    {
     "data": {
      "image/png": "[encoded data removed]",
      "text/plain": [
       "<IPython.core.display.Image object>"
      ]
     },
     "metadata": {},
     "output_type": "display_data"
    }
   ],
   "source": [
    "from IPython.display import display, Image\n",
    "\n",
    "display(Image(filename=export_png(p)))"
   ]
  },
  {
   "attachments": {},
   "cell_type": "markdown",
   "metadata": {},
   "source": [
    "Similarly, you can also export a Bokeh document as an SVG file:"
   ]
  },
  {
   "cell_type": "code",
   "execution_count": 18,
   "metadata": {},
   "outputs": [
    {
     "data": {
      "text/plain": [
       "['plot.svg']"
      ]
     },
     "execution_count": 18,
     "metadata": {},
     "output_type": "execute_result"
    }
   ],
   "source": [
    "from bokeh.io import export_svg\n",
    "\n",
    "export_svg(p, filename=\"plot.svg\")"
   ]
  },
  {
   "attachments": {},
   "cell_type": "markdown",
   "metadata": {},
   "source": [
    "The resulting SVG looks like this:"
   ]
  },
  {
   "cell_type": "code",
   "execution_count": 19,
   "metadata": {},
   "outputs": [
    {
     "data": {
      "image/svg+xml": "<svg xmlns=\"http://www.w3.org/2000/svg\" version=\"1.1\" width=\"300\" height=\"300\"><defs/><image width=\"300\" height=\"300\" preserveAspectRatio=\"none\" href=\"data:image/png;base64,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\"/></svg>",
      "text/plain": [
       "<IPython.core.display.SVG object>"
      ]
     },
     "metadata": {},
     "output_type": "display_data"
    }
   ],
   "source": [
    "from IPython.display import SVG\n",
    "\n",
    "display(SVG(filename=export_svg(p)[0]))"
   ]
  },
  {
   "attachments": {},
   "cell_type": "markdown",
   "metadata": {},
   "source": [
    "For more information about exporting to PNG and SVG, see\n",
    "[PNG and SVG export](https://docs.bokeh.org/en/latest/docs/user_guide/output/export.html)\n",
    "in the user guide."
   ]
  },
  {
   "cell_type": "markdown",
   "metadata": {},
   "source": [
    "# Next section\n",
    "\n",
    "[TBD, placeholder]"
   ]
  }
 ],
 "metadata": {
  "kernelspec": {
   "display_name": "Python 3 (ipykernel)",
   "language": "python",
   "name": "python3"
  },
  "language_info": {
   "codemirror_mode": {
    "name": "ipython",
    "version": 3
   },
   "file_extension": ".py",
   "mimetype": "text/x-python",
   "name": "python",
   "nbconvert_exporter": "python",
   "pygments_lexer": "ipython3",
   "version": "3.10.8 | packaged by conda-forge | (main, Nov 22 2022, 08:16:53) [MSC v.1929 64 bit (AMD64)]"
  },
  "vscode": {
   "interpreter": {
    "hash": "ab488fdb8b9aa36105a44cbd221df14ac07fc4003f76992d613ea31bfd3a4f61"
   }
  }
 },
 "nbformat": 4,
 "nbformat_minor": 2
}
