{
 "cells": [
  {
   "cell_type": "markdown",
   "metadata": {},
   "source": [
    "<table style=\"float:left; border:none\">\n",
    "   <tr style=\"border:none\">\n",
    "       <td style=\"border:none\">\n",
    "           <a href=\"https://bokeh.org/\">\n",
    "           <img\n",
    "               src=\"assets/bokeh-transparent.png\"\n",
    "               style=\"width:50px\"\n",
    "           >\n",
    "           </a>\n",
    "       </td>\n",
    "       <td style=\"border:none\">\n",
    "           <h1>Bokeh Tutorial</h1>\n",
    "       </td>\n",
    "   </tr>\n",
    "</table>\n",
    "\n",
    "<div style=\"float:right;\"><h2>03 Basic Concepts</h2></div>"
   ]
  },
  {
   "cell_type": "code",
   "execution_count": 29,
   "metadata": {},
   "outputs": [
    {
     "data": {
      "text/html": [
       "\n",
       "    <div class=\"bk-root\">\n",
       "        <a href=\"https://bokeh.org\" target=\"_blank\" class=\"bk-logo bk-logo-small bk-logo-notebook\"></a>\n",
       "        <span id=\"4592\">Loading BokehJS ...</span>\n",
       "    </div>"
      ]
     },
     "metadata": {},
     "output_type": "display_data"
    },
    {
     "data": {
      "application/javascript": "\n(function(root) {\n  function now() {\n    return new Date();\n  }\n\n  const force = true;\n\n  if (typeof root._bokeh_onload_callbacks === \"undefined\" || force === true) {\n    root._bokeh_onload_callbacks = [];\n    root._bokeh_is_loading = undefined;\n  }\n\n  const JS_MIME_TYPE = 'application/javascript';\n  const HTML_MIME_TYPE = 'text/html';\n  const EXEC_MIME_TYPE = 'application/vnd.bokehjs_exec.v0+json';\n  const CLASS_NAME = 'output_bokeh rendered_html';\n\n  /**\n   * Render data to the DOM node\n   */\n  function render(props, node) {\n    const script = document.createElement(\"script\");\n    node.appendChild(script);\n  }\n\n  /**\n   * Handle when an output is cleared or removed\n   */\n  function handleClearOutput(event, handle) {\n    const cell = handle.cell;\n\n    const id = cell.output_area._bokeh_element_id;\n    const server_id = cell.output_area._bokeh_server_id;\n    // Clean up Bokeh references\n    if (id != null && id in Bokeh.index) {\n      Bokeh.index[id].model.document.clear();\n      delete Bokeh.index[id];\n    }\n\n    if (server_id !== undefined) {\n      // Clean up Bokeh references\n      const cmd_clean = \"from bokeh.io.state import curstate; print(curstate().uuid_to_server['\" + server_id + \"'].get_sessions()[0].document.roots[0]._id)\";\n      cell.notebook.kernel.execute(cmd_clean, {\n        iopub: {\n          output: function(msg) {\n            const id = msg.content.text.trim();\n            if (id in Bokeh.index) {\n              Bokeh.index[id].model.document.clear();\n              delete Bokeh.index[id];\n            }\n          }\n        }\n      });\n      // Destroy server and session\n      const cmd_destroy = \"import bokeh.io.notebook as ion; ion.destroy_server('\" + server_id + \"')\";\n      cell.notebook.kernel.execute(cmd_destroy);\n    }\n  }\n\n  /**\n   * Handle when a new output is added\n   */\n  function handleAddOutput(event, handle) {\n    const output_area = handle.output_area;\n    const output = handle.output;\n\n    // limit handleAddOutput to display_data with EXEC_MIME_TYPE content only\n    if ((output.output_type != \"display_data\") || (!Object.prototype.hasOwnProperty.call(output.data, EXEC_MIME_TYPE))) {\n      return\n    }\n\n    const toinsert = output_area.element.find(\".\" + CLASS_NAME.split(' ')[0]);\n\n    if (output.metadata[EXEC_MIME_TYPE][\"id\"] !== undefined) {\n      toinsert[toinsert.length - 1].firstChild.textContent = output.data[JS_MIME_TYPE];\n      // store reference to embed id on output_area\n      output_area._bokeh_element_id = output.metadata[EXEC_MIME_TYPE][\"id\"];\n    }\n    if (output.metadata[EXEC_MIME_TYPE][\"server_id\"] !== undefined) {\n      const bk_div = document.createElement(\"div\");\n      bk_div.innerHTML = output.data[HTML_MIME_TYPE];\n      const script_attrs = bk_div.children[0].attributes;\n      for (let i = 0; i < script_attrs.length; i++) {\n        toinsert[toinsert.length - 1].firstChild.setAttribute(script_attrs[i].name, script_attrs[i].value);\n        toinsert[toinsert.length - 1].firstChild.textContent = bk_div.children[0].textContent\n      }\n      // store reference to server id on output_area\n      output_area._bokeh_server_id = output.metadata[EXEC_MIME_TYPE][\"server_id\"];\n    }\n  }\n\n  function register_renderer(events, OutputArea) {\n\n    function append_mime(data, metadata, element) {\n      // create a DOM node to render to\n      const toinsert = this.create_output_subarea(\n        metadata,\n        CLASS_NAME,\n        EXEC_MIME_TYPE\n      );\n      this.keyboard_manager.register_events(toinsert);\n      // Render to node\n      const props = {data: data, metadata: metadata[EXEC_MIME_TYPE]};\n      render(props, toinsert[toinsert.length - 1]);\n      element.append(toinsert);\n      return toinsert\n    }\n\n    /* Handle when an output is cleared or removed */\n    events.on('clear_output.CodeCell', handleClearOutput);\n    events.on('delete.Cell', handleClearOutput);\n\n    /* Handle when a new output is added */\n    events.on('output_added.OutputArea', handleAddOutput);\n\n    /**\n     * Register the mime type and append_mime function with output_area\n     */\n    OutputArea.prototype.register_mime_type(EXEC_MIME_TYPE, append_mime, {\n      /* Is output safe? */\n      safe: true,\n      /* Index of renderer in `output_area.display_order` */\n      index: 0\n    });\n  }\n\n  // register the mime type if in Jupyter Notebook environment and previously unregistered\n  if (root.Jupyter !== undefined) {\n    const events = require('base/js/events');\n    const OutputArea = require('notebook/js/outputarea').OutputArea;\n\n    if (OutputArea.prototype.mime_types().indexOf(EXEC_MIME_TYPE) == -1) {\n      register_renderer(events, OutputArea);\n    }\n  }\n\n  \n  if (typeof (root._bokeh_timeout) === \"undefined\" || force === true) {\n    root._bokeh_timeout = Date.now() + 5000;\n    root._bokeh_failed_load = false;\n  }\n\n  const NB_LOAD_WARNING = {'data': {'text/html':\n     \"<div style='background-color: #fdd'>\\n\"+\n     \"<p>\\n\"+\n     \"BokehJS does not appear to have successfully loaded. If loading BokehJS from CDN, this \\n\"+\n     \"may be due to a slow or bad network connection. Possible fixes:\\n\"+\n     \"</p>\\n\"+\n     \"<ul>\\n\"+\n     \"<li>re-rerun `output_notebook()` to attempt to load from CDN again, or</li>\\n\"+\n     \"<li>use INLINE resources instead, as so:</li>\\n\"+\n     \"</ul>\\n\"+\n     \"<code>\\n\"+\n     \"from bokeh.resources import INLINE\\n\"+\n     \"output_notebook(resources=INLINE)\\n\"+\n     \"</code>\\n\"+\n     \"</div>\"}};\n\n  function display_loaded() {\n    const el = document.getElementById(\"4592\");\n    if (el != null) {\n      el.textContent = \"BokehJS is loading...\";\n    }\n    if (root.Bokeh !== undefined) {\n      if (el != null) {\n        el.textContent = \"BokehJS \" + root.Bokeh.version + \" successfully loaded.\";\n      }\n    } else if (Date.now() < root._bokeh_timeout) {\n      setTimeout(display_loaded, 100)\n    }\n  }\n\n\n  function run_callbacks() {\n    try {\n      root._bokeh_onload_callbacks.forEach(function(callback) {\n        if (callback != null)\n          callback();\n      });\n    } finally {\n      delete root._bokeh_onload_callbacks\n    }\n    console.debug(\"Bokeh: all callbacks have finished\");\n  }\n\n  function load_libs(css_urls, js_urls, callback) {\n    if (css_urls == null) css_urls = [];\n    if (js_urls == null) js_urls = [];\n\n    root._bokeh_onload_callbacks.push(callback);\n    if (root._bokeh_is_loading > 0) {\n      console.debug(\"Bokeh: BokehJS is being loaded, scheduling callback at\", now());\n      return null;\n    }\n    if (js_urls == null || js_urls.length === 0) {\n      run_callbacks();\n      return null;\n    }\n    console.debug(\"Bokeh: BokehJS not loaded, scheduling load and callback at\", now());\n    root._bokeh_is_loading = css_urls.length + js_urls.length;\n\n    function on_load() {\n      root._bokeh_is_loading--;\n      if (root._bokeh_is_loading === 0) {\n        console.debug(\"Bokeh: all BokehJS libraries/stylesheets loaded\");\n        run_callbacks()\n      }\n    }\n\n    function on_error(url) {\n      console.error(\"failed to load \" + url);\n    }\n\n    for (let i = 0; i < css_urls.length; i++) {\n      const url = css_urls[i];\n      const element = document.createElement(\"link\");\n      element.onload = on_load;\n      element.onerror = on_error.bind(null, url);\n      element.rel = \"stylesheet\";\n      element.type = \"text/css\";\n      element.href = url;\n      console.debug(\"Bokeh: injecting link tag for BokehJS stylesheet: \", url);\n      document.body.appendChild(element);\n    }\n\n    for (let i = 0; i < js_urls.length; i++) {\n      const url = js_urls[i];\n      const element = document.createElement('script');\n      element.onload = on_load;\n      element.onerror = on_error.bind(null, url);\n      element.async = false;\n      element.src = url;\n      console.debug(\"Bokeh: injecting script tag for BokehJS library: \", url);\n      document.head.appendChild(element);\n    }\n  };\n\n  function inject_raw_css(css) {\n    const element = document.createElement(\"style\");\n    element.appendChild(document.createTextNode(css));\n    document.body.appendChild(element);\n  }\n\n  \n  const js_urls = [\"https://cdn.bokeh.org/bokeh/release/bokeh-2.4.2.min.js\", \"https://cdn.bokeh.org/bokeh/release/bokeh-gl-2.4.2.min.js\", \"https://cdn.bokeh.org/bokeh/release/bokeh-widgets-2.4.2.min.js\", \"https://cdn.bokeh.org/bokeh/release/bokeh-tables-2.4.2.min.js\", \"https://cdn.bokeh.org/bokeh/release/bokeh-mathjax-2.4.2.min.js\"];\n  const css_urls = [];\n  \n\n  const inline_js = [\n    function(Bokeh) {\n      Bokeh.set_log_level(\"info\");\n    },\n    function(Bokeh) {\n    \n    \n    }\n  ];\n\n  function run_inline_js() {\n    \n    if (root.Bokeh !== undefined || force === true) {\n      \n    for (let i = 0; i < inline_js.length; i++) {\n      inline_js[i].call(root, root.Bokeh);\n    }\n    if (force === true) {\n        display_loaded();\n      }} else if (Date.now() < root._bokeh_timeout) {\n      setTimeout(run_inline_js, 100);\n    } else if (!root._bokeh_failed_load) {\n      console.log(\"Bokeh: BokehJS failed to load within specified timeout.\");\n      root._bokeh_failed_load = true;\n    } else if (force !== true) {\n      const cell = $(document.getElementById(\"4592\")).parents('.cell').data().cell;\n      cell.output_area.append_execute_result(NB_LOAD_WARNING)\n    }\n\n  }\n\n  if (root._bokeh_is_loading === 0) {\n    console.debug(\"Bokeh: BokehJS loaded, going straight to plotting\");\n    run_inline_js();\n  } else {\n    load_libs(css_urls, js_urls, function() {\n      console.debug(\"Bokeh: BokehJS plotting callback run at\", now());\n      run_inline_js();\n    });\n  }\n}(window));",
      "application/vnd.bokehjs_load.v0+json": ""
     },
     "metadata": {},
     "output_type": "display_data"
    }
   ],
   "source": [
    "from bokeh.io import output_notebook, show\n",
    "output_notebook()"
   ]
  },
  {
   "cell_type": "markdown",
   "metadata": {},
   "source": [
    "This chapter provides a quick introduction to the core components of Bokeh.\n",
    "You will also learn about the most important concepts behind Bokeh."
   ]
  },
  {
   "cell_type": "markdown",
   "metadata": {},
   "source": [
    "## Bokeh components\n",
    "\n",
    "Bokeh allows you to use Python to build interactive visualizations that run in a\n",
    "web browser. To make this possible, Bokeh includes a JavaScript library called\n",
    "BokehJS. BokehJS is responsible for rendering the visualizations in the browser.\n",
    "\n",
    "When you create a visualization with Bokeh in Python, Bokeh converts this\n",
    "visualization into a JSON file. This JSON file is then sent to BokehJS, and\n",
    "BokehJS renders the visualization in the browser.\n",
    "\n",
    "![Flow chart showing that the Python objects on Bokeh's Python-side are\n",
    "connected to the BokehJS JavaScript library on the browser-side through JSON\n",
    "](bokeh_bokehjs.svg)\n",
    "\n",
    "This tutorial focuses on using Bokeh in Python which generates the BokehJS code\n",
    "automatically. However, you can also use BokehJS directly in JavaScript. For\n",
    "more information, see the chapter\n",
    "[BokehJS](https://docs.bokeh.org/en/latest/docs/user_guide/advanced/bokehjs.html)\n",
    "in the Bokeh user guide."
   ]
  },
  {
   "cell_type": "markdown",
   "metadata": {},
   "source": [
    "## Bokeh Interfaces\n",
    "\n",
    "You can interact with Bokeh using one of the following two interfaces:\n",
    "\n",
    "* The high-level **bokeh.plotting** interface: This is Bokeh’s primary\n",
    "interface. It is general-purpose interface which is similar to the plotting\n",
    "interfaces of libraries such as [Matplotlib](http://matplotlib.org/) or\n",
    "[Matlab](http://www.mathworks.com/products/matlab/). The bokeh.plotting takes\n",
    "care of many aspects of your plot automatically. Therefore, it makes it easy to focus\n",
    "getting quick results from your data.\n",
    "\n",
    "* The low-level **bokeh.models** interface: This interface gives you full\n",
    "control over all aspects of your plot. This interface requires you to define\n",
    "all aspects of your plot manually. You can also use this low-level interface to\n",
    "further customize a plot you have created with the high-level bokeh.plotting\n",
    "interface.\n",
    "\n",
    "This tutorial focuses on the bokeh.plotting interface. Objects from\n",
    "`bokeh.models` are used when necessary. For more information,\n",
    "see [Interfaces](https://docs.bokeh.org/en/latest/docs/user_guide/intro.html#interfaces)\n",
    "in the Bokeh user guide."
   ]
  },
  {
   "cell_type": "markdown",
   "metadata": {},
   "source": [
    "## Bokeh building Blocks\n",
    "\n",
    "Interactive Bokeh visualizations can combine several different building blocks:\n",
    "\n",
    "### Plots\n",
    "\n",
    "The most common element in a Bokeh visualization is a plot. A plot is a\n",
    "graphical representation of data. It consists of elements like glyphs, axes,\n",
    "legends, and annotations:"
   ]
  },
  {
   "cell_type": "code",
   "execution_count": 30,
   "metadata": {},
   "outputs": [
    {
     "name": "stderr",
     "output_type": "stream",
     "text": [
      "BokehDeprecationWarning: 'legend' keyword is deprecated, use explicit 'legend_label', 'legend_field', or 'legend_group' keywords instead\n"
     ]
    },
    {
     "data": {
      "text/html": [
       "\n",
       "\n",
       "\n",
       "\n",
       "\n",
       "\n",
       "  <div class=\"bk-root\" id=\"ea5d9565-4ef5-4dfe-a573-08850d913da8\" data-root-id=\"4593\"></div>\n"
      ]
     },
     "metadata": {},
     "output_type": "display_data"
    },
    {
     "data": {
      "application/javascript": "(function(root) {\n  function embed_document(root) {\n    \n  const docs_json = {\"55b1548d-1dc1-4b32-b1d1-07df27066105\":{\"defs\":[],\"roots\":{\"references\":[{\"attributes\":{\"below\":[{\"id\":\"4602\"}],\"center\":[{\"id\":\"4605\"},{\"id\":\"4609\"},{\"id\":\"4641\"}],\"height\":200,\"left\":[{\"id\":\"4606\"}],\"renderers\":[{\"id\":\"4628\"}],\"title\":{\"id\":\"4630\"},\"toolbar\":{\"id\":\"4617\"},\"width\":400,\"x_range\":{\"id\":\"4594\"},\"x_scale\":{\"id\":\"4598\"},\"y_range\":{\"id\":\"4596\"},\"y_scale\":{\"id\":\"4600\"}},\"id\":\"4593\",\"subtype\":\"Figure\",\"type\":\"Plot\"},{\"attributes\":{\"coordinates\":null,\"group\":null,\"items\":[{\"id\":\"4642\"}]},\"id\":\"4641\",\"type\":\"Legend\"},{\"attributes\":{},\"id\":\"4594\",\"type\":\"DataRange1d\"},{\"attributes\":{\"bottom_units\":\"screen\",\"coordinates\":null,\"fill_alpha\":0.5,\"fill_color\":\"lightgrey\",\"group\":null,\"left_units\":\"screen\",\"level\":\"overlay\",\"line_alpha\":1.0,\"line_color\":\"black\",\"line_dash\":[4,4],\"line_width\":2,\"right_units\":\"screen\",\"syncable\":false,\"top_units\":\"screen\"},\"id\":\"4616\",\"type\":\"BoxAnnotation\"},{\"attributes\":{\"source\":{\"id\":\"4624\"}},\"id\":\"4629\",\"type\":\"CDSView\"},{\"attributes\":{},\"id\":\"4637\",\"type\":\"AllLabels\"},{\"attributes\":{},\"id\":\"4596\",\"type\":\"DataRange1d\"},{\"attributes\":{},\"id\":\"4638\",\"type\":\"UnionRenderers\"},{\"attributes\":{\"coordinates\":null,\"formatter\":{\"id\":\"4636\"},\"group\":null,\"major_label_policy\":{\"id\":\"4637\"},\"ticker\":{\"id\":\"4603\"}},\"id\":\"4602\",\"type\":\"LinearAxis\"},{\"attributes\":{},\"id\":\"4639\",\"type\":\"Selection\"},{\"attributes\":{},\"id\":\"4598\",\"type\":\"LinearScale\"},{\"attributes\":{},\"id\":\"4615\",\"type\":\"HelpTool\"},{\"attributes\":{},\"id\":\"4600\",\"type\":\"LinearScale\"},{\"attributes\":{\"coordinates\":null,\"group\":null},\"id\":\"4630\",\"type\":\"Title\"},{\"attributes\":{},\"id\":\"4633\",\"type\":\"BasicTickFormatter\"},{\"attributes\":{},\"id\":\"4603\",\"type\":\"BasicTicker\"},{\"attributes\":{},\"id\":\"4607\",\"type\":\"BasicTicker\"},{\"attributes\":{\"axis\":{\"id\":\"4602\"},\"coordinates\":null,\"group\":null,\"ticker\":null},\"id\":\"4605\",\"type\":\"Grid\"},{\"attributes\":{\"data\":{\"x\":[1,2,3,4,5],\"y\":[1,2,3,4,5]},\"selected\":{\"id\":\"4639\"},\"selection_policy\":{\"id\":\"4638\"}},\"id\":\"4624\",\"type\":\"ColumnDataSource\"},{\"attributes\":{\"tools\":[{\"id\":\"4610\"},{\"id\":\"4611\"},{\"id\":\"4612\"},{\"id\":\"4613\"},{\"id\":\"4614\"},{\"id\":\"4615\"}]},\"id\":\"4617\",\"type\":\"Toolbar\"},{\"attributes\":{\"axis\":{\"id\":\"4606\"},\"coordinates\":null,\"dimension\":1,\"group\":null,\"ticker\":null},\"id\":\"4609\",\"type\":\"Grid\"},{\"attributes\":{\"line_alpha\":0.2,\"line_color\":\"#1f77b4\",\"x\":{\"field\":\"x\"},\"y\":{\"field\":\"y\"}},\"id\":\"4627\",\"type\":\"Line\"},{\"attributes\":{\"line_alpha\":0.1,\"line_color\":\"#1f77b4\",\"x\":{\"field\":\"x\"},\"y\":{\"field\":\"y\"}},\"id\":\"4626\",\"type\":\"Line\"},{\"attributes\":{\"line_color\":\"#1f77b4\",\"x\":{\"field\":\"x\"},\"y\":{\"field\":\"y\"}},\"id\":\"4625\",\"type\":\"Line\"},{\"attributes\":{},\"id\":\"4611\",\"type\":\"WheelZoomTool\"},{\"attributes\":{},\"id\":\"4610\",\"type\":\"PanTool\"},{\"attributes\":{\"coordinates\":null,\"data_source\":{\"id\":\"4624\"},\"glyph\":{\"id\":\"4625\"},\"group\":null,\"hover_glyph\":null,\"muted_glyph\":{\"id\":\"4627\"},\"nonselection_glyph\":{\"id\":\"4626\"},\"view\":{\"id\":\"4629\"}},\"id\":\"4628\",\"type\":\"GlyphRenderer\"},{\"attributes\":{\"overlay\":{\"id\":\"4616\"}},\"id\":\"4612\",\"type\":\"BoxZoomTool\"},{\"attributes\":{},\"id\":\"4613\",\"type\":\"SaveTool\"},{\"attributes\":{},\"id\":\"4634\",\"type\":\"AllLabels\"},{\"attributes\":{},\"id\":\"4614\",\"type\":\"ResetTool\"},{\"attributes\":{\"coordinates\":null,\"formatter\":{\"id\":\"4633\"},\"group\":null,\"major_label_policy\":{\"id\":\"4634\"},\"ticker\":{\"id\":\"4607\"}},\"id\":\"4606\",\"type\":\"LinearAxis\"},{\"attributes\":{\"label\":{\"value\":\"Temp.\"},\"renderers\":[{\"id\":\"4628\"}]},\"id\":\"4642\",\"type\":\"LegendItem\"},{\"attributes\":{},\"id\":\"4636\",\"type\":\"BasicTickFormatter\"}],\"root_ids\":[\"4593\"]},\"title\":\"Bokeh Application\",\"version\":\"2.4.2\"}};\n  const render_items = [{\"docid\":\"55b1548d-1dc1-4b32-b1d1-07df27066105\",\"root_ids\":[\"4593\"],\"roots\":{\"4593\":\"ea5d9565-4ef5-4dfe-a573-08850d913da8\"}}];\n  root.Bokeh.embed.embed_items_notebook(docs_json, render_items);\n\n  }\n  if (root.Bokeh !== undefined) {\n    embed_document(root);\n  } else {\n    let attempts = 0;\n    const timer = setInterval(function(root) {\n      if (root.Bokeh !== undefined) {\n        clearInterval(timer);\n        embed_document(root);\n      } else {\n        attempts++;\n        if (attempts > 100) {\n          clearInterval(timer);\n          console.log(\"Bokeh: ERROR: Unable to run BokehJS code because BokehJS library is missing\");\n        }\n      }\n    }, 10, root)\n  }\n})(window);",
      "application/vnd.bokehjs_exec.v0+json": ""
     },
     "metadata": {
      "application/vnd.bokehjs_exec.v0+json": {
       "id": "4593"
      }
     },
     "output_type": "display_data"
    }
   ],
   "source": [
    "from bokeh.plotting import figure, show\n",
    "\n",
    "# generate some values\n",
    "x = y = list(range(1,6))\n",
    "\n",
    "# create a new plot\n",
    "p = figure(width=400, height=200)\n",
    "# add a line renderer and legend to the plot\n",
    "p.line(x, y, legend=\"Temp.\")\n",
    "\n",
    "# show the results\n",
    "show(p)"
   ]
  },
  {
   "cell_type": "markdown",
   "metadata": {},
   "source": [
    "Bokeh plots can also contain interactive tools in a toolbar. By default, the\n",
    "following tools are included:\n",
    "\n",
    "* Pan: Pan the plot horizontally and vertically.\n",
    "* Box Zoom: Zoom in and out of the plot by selecting a rectangular area.\n",
    "* Wheel Zoom: Zoom in and out of the plot using the mouse wheel.\n",
    "* Save: Save the plot as a PNG file.\n",
    "* Reset: Reset the plot to its original state.\n",
    "* Help: Opens a help page with information about the tools available in Bokeh."
   ]
  },
  {
   "cell_type": "markdown",
   "metadata": {},
   "source": [
    "\n",
    "### Widgets\n",
    "\n",
    "In addition to plots, you can also add widgets to your visualization. Widgets\n",
    "are interactive elements that allow you to control or automate aspects of your\n",
    "visualization.\n",
    "\n",
    "The following example creates a slider widget for defining a date range:"
   ]
  },
  {
   "cell_type": "code",
   "execution_count": 31,
   "metadata": {},
   "outputs": [
    {
     "data": {
      "text/html": [
       "\n",
       "\n",
       "\n",
       "\n",
       "\n",
       "\n",
       "  <div class=\"bk-root\" id=\"af4a785a-3857-4213-9aa6-f0bd19873996\" data-root-id=\"4872\"></div>\n"
      ]
     },
     "metadata": {},
     "output_type": "display_data"
    },
    {
     "data": {
      "application/javascript": "(function(root) {\n  function embed_document(root) {\n    \n  const docs_json = {\"f0fbb0aa-04c1-4f5e-aa4a-96a16caf3a26\":{\"defs\":[],\"roots\":{\"references\":[{\"attributes\":{\"end\":1680220800000.0,\"start\":1656633600000.0,\"value\":[1664582400000.0,1672444800000.0]},\"id\":\"4872\",\"type\":\"DateRangeSlider\"}],\"root_ids\":[\"4872\"]},\"title\":\"Bokeh Application\",\"version\":\"2.4.2\"}};\n  const render_items = [{\"docid\":\"f0fbb0aa-04c1-4f5e-aa4a-96a16caf3a26\",\"root_ids\":[\"4872\"],\"roots\":{\"4872\":\"af4a785a-3857-4213-9aa6-f0bd19873996\"}}];\n  root.Bokeh.embed.embed_items_notebook(docs_json, render_items);\n\n  }\n  if (root.Bokeh !== undefined) {\n    embed_document(root);\n  } else {\n    let attempts = 0;\n    const timer = setInterval(function(root) {\n      if (root.Bokeh !== undefined) {\n        clearInterval(timer);\n        embed_document(root);\n      } else {\n        attempts++;\n        if (attempts > 100) {\n          clearInterval(timer);\n          console.log(\"Bokeh: ERROR: Unable to run BokehJS code because BokehJS library is missing\");\n        }\n      }\n    }, 10, root)\n  }\n})(window);",
      "application/vnd.bokehjs_exec.v0+json": ""
     },
     "metadata": {
      "application/vnd.bokehjs_exec.v0+json": {
       "id": "4872"
      }
     },
     "output_type": "display_data"
    }
   ],
   "source": [
    "from bokeh.models import DateRangeSlider\n",
    "\n",
    "date_range_slider = DateRangeSlider(value=(\"2022-10-01\", \"2022-12-31\"),\n",
    "                                    start=\"2022-07-01\", end=\"2023-03-31\")\n",
    "\n",
    "show(date_range_slider)"
   ]
  },
  {
   "cell_type": "markdown",
   "metadata": {},
   "source": [
    "In the following chapters of this tutorial, you will learn how to create and\n",
    "customize both plots and widgets. You will also learn how to combine plots and\n",
    "widgets, and create interactive visualizations."
   ]
  }
 ],
 "metadata": {
  "kernelspec": {
   "display_name": "Python 3.10.4 ('bk-tutorial')",
   "language": "python",
   "name": "python3"
  },
  "language_info": {
   "codemirror_mode": {
    "name": "ipython",
    "version": 3
   },
   "file_extension": ".py",
   "mimetype": "text/x-python",
   "name": "python",
   "nbconvert_exporter": "python",
   "pygments_lexer": "ipython3",
   "version": "3.10.4"
  },
  "orig_nbformat": 4,
  "vscode": {
   "interpreter": {
    "hash": "ab488fdb8b9aa36105a44cbd221df14ac07fc4003f76992d613ea31bfd3a4f61"
   }
  }
 },
 "nbformat": 4,
 "nbformat_minor": 2
}
