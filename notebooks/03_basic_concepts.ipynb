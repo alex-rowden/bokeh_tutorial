{
 "cells": [
  {
   "cell_type": "markdown",
   "metadata": {},
   "source": [
    "<table style=\"float:left; border:none\">\n",
    "   <tr style=\"border:none\">\n",
    "       <td style=\"border:none\">\n",
    "           <a href=\"https://bokeh.org/\">\n",
    "           <img\n",
    "               src=\"assets/bokeh-transparent.png\"\n",
    "               style=\"width:50px\"\n",
    "           >\n",
    "           </a>\n",
    "       </td>\n",
    "       <td style=\"border:none\">\n",
    "           <h1>Bokeh Tutorial</h1>\n",
    "       </td>\n",
    "   </tr>\n",
    "</table>\n",
    "\n",
    "<div style=\"float:right;\"><h2>03 Basic Concepts</h2></div>"
   ]
  },
  {
   "cell_type": "code",
   "execution_count": null,
   "metadata": {},
   "outputs": [],
   "source": [
    "from bokeh.io import output_notebook\n",
    "\n",
    "output_notebook()"
   ]
  },
  {
   "cell_type": "markdown",
   "metadata": {},
   "source": [
    "This chapter provides a quick introduction to the core components of Bokeh.\n",
    "You will also learn about the most important concepts behind Bokeh."
   ]
  },
  {
   "cell_type": "markdown",
   "metadata": {},
   "source": [
    "### Bokeh components\n",
    "\n",
    "Bokeh allows you to use Python to build interactive visualizations that run in a\n",
    "web browser. To make this possible, Bokeh includes a JavaScript library called\n",
    "BokehJS. BokehJS is responsible for rendering the visualizations in the browser.\n",
    "\n",
    "When you create a visualization with Bokeh in Python, Bokeh converts this\n",
    "visualization into a JSON file. This JSON file is then sent to BokehJS, and\n",
    "BokehJS renders the visualization in the browser.\n",
    "\n",
    "![Flow chart showing that the Python objects on Bokeh's Python-side are\n",
    "connected to the BokehJS JavaScript library on the browser-side through JSON\n",
    "](assets/bokeh_bokehjs.svg)\n",
    "\n",
    "This tutorial focuses on using Bokeh in Python which generates the BokehJS code\n",
    "automatically. However, you can also use BokehJS directly in JavaScript. For\n",
    "more information, see the chapter\n",
    "[BokehJS](https://docs.bokeh.org/en/latest/docs/user_guide/advanced/bokehjs.html)\n",
    "in the Bokeh user guide."
   ]
  },
  {
   "cell_type": "markdown",
   "metadata": {},
   "source": [
    "### Bokeh Interfaces\n",
    "\n",
    "You can interact with Bokeh using one of the following two interfaces:\n",
    "\n",
    "* The high-level **bokeh.plotting** interface: This is Bokeh’s primary\n",
    "interface. It is general-purpose interface which is similar to the plotting\n",
    "interfaces of libraries such as [Matplotlib](http://matplotlib.org/) or\n",
    "[Matlab](http://www.mathworks.com/products/matlab/). The bokeh.plotting takes\n",
    "care of many aspects of your plot automatically. Therefore, it makes it easy to focus\n",
    "getting quick results from your data.\n",
    "\n",
    "* The low-level **bokeh.models** interface: This interface gives you full\n",
    "control over all aspects of your plot. This interface requires you to define\n",
    "all aspects of your plot manually. You can also use this low-level interface to\n",
    "further customize a plot you have created with the high-level bokeh.plotting\n",
    "interface.\n",
    "\n",
    "This tutorial focuses on the bokeh.plotting interface. Objects from\n",
    "`bokeh.models` are used when necessary. For more information,\n",
    "see [Interfaces](https://docs.bokeh.org/en/latest/docs/user_guide/intro.html#interfaces)\n",
    "in the Bokeh user guide."
   ]
  },
  {
   "cell_type": "markdown",
   "metadata": {},
   "source": [
    "### Bokeh Building Blocks\n",
    "\n",
    "On the most general level, all Bokeh visualizations are called **documents**.\n",
    "A Bokeh document can contain lots of different elements. The most common\n",
    "building blocks of a Bokeh document are:\n",
    "\n",
    "#### Plots\n",
    "\n",
    "The most common element in a Bokeh visualization is a plot. A plot is a\n",
    "graphical representation of data. It consists of elements like glyphs, axes,\n",
    "legends, and annotations:"
   ]
  },
  {
   "cell_type": "code",
   "execution_count": null,
   "metadata": {},
   "outputs": [],
   "source": [
    "from bokeh.plotting import figure, show\n",
    "\n",
    "# generate some values\n",
    "x = list(range(1, 50))\n",
    "y = [pow(x, 2) for x in x]\n",
    "\n",
    "# create a new plot\n",
    "p = figure()\n",
    "# add a line renderer and legend to the plot\n",
    "p.line(x, y, legend_label=\"Temp.\")\n",
    "\n",
    "# show the results\n",
    "show(p)"
   ]
  },
  {
   "attachments": {},
   "cell_type": "markdown",
   "metadata": {},
   "source": [
    "Bokeh plots can also contain interactive tools in a toolbar. By default, the\n",
    "following tools are included:\n",
    "\n",
    "* ![Pan icon](assets/toolbar_icons/pan.svg) Pan: Pan the plot horizontally and vertically.\n",
    "* ![Pan icon](assets/toolbar_icons/box-zoom.svg ) Box Zoom: Zoom in and out of the plot by selecting a rectangular area.\n",
    "* ![Pan icon](assets/toolbar_icons/WheelZoom.png) Wheel Zoom: Zoom in and out of the plot using the mouse wheel.\n",
    "* ![Pan icon](assets/toolbar_icons/save.svg) Save: Save the plot as a PNG file.\n",
    "* ![Pan icon](assets/toolbar_icons/refresh.svg) Reset: Reset the plot to its original state.\n",
    "* ![Pan icon](assets/toolbar_icons/help.svg) Help: Opens a help page with information about the tools available in Bokeh."
   ]
  },
  {
   "cell_type": "markdown",
   "metadata": {},
   "source": [
    "#### Glyphs\n",
    "\n",
    "A glyph is a visual representation of data. In the example above, the line representing\n",
    "the x and y data is a line glyph. Bokeh supports many different kinds of glyphs to use\n",
    "inside of plots. You will use some of the most common glyphs throughout this tutorial."
   ]
  },
  {
   "cell_type": "markdown",
   "metadata": {},
   "source": [
    "\n",
    "#### Widgets\n",
    "\n",
    "In addition to plots, you can also add widgets to your visualization. Widgets\n",
    "are interactive elements that allow you to control or automate aspects of your\n",
    "visualization.\n",
    "\n",
    "The following example creates a slider widget for defining a date range:"
   ]
  },
  {
   "cell_type": "code",
   "execution_count": null,
   "metadata": {},
   "outputs": [],
   "source": [
    "from bokeh.models import DateRangeSlider\n",
    "\n",
    "date_range_slider = DateRangeSlider(\n",
    "    value=(\"2022-10-01\", \"2022-12-31\"), start=\"2022-07-01\", end=\"2023-03-31\"\n",
    ")\n",
    "\n",
    "show(date_range_slider)"
   ]
  },
  {
   "cell_type": "markdown",
   "metadata": {},
   "source": [
    "#### Layouts\n",
    "\n",
    "A Bokeh document can consist of a single plot. However, you can also combine several\n",
    "plots and widges into a more complex visualization. To combine multiple elements in one\n",
    "document is called a **layout**. Bokeh provides several different layout options to\n",
    "arrange your plots and widgets in a document.\n",
    "\n",
    "For example:"
   ]
  },
  {
   "cell_type": "code",
   "execution_count": null,
   "metadata": {},
   "outputs": [],
   "source": [
    "from bokeh.layouts import row\n",
    "from bokeh.plotting import figure, show\n",
    "\n",
    "# prepare some data\n",
    "x = list(range(11))\n",
    "y0 = x\n",
    "y1 = [10 - i for i in x]\n",
    "y2 = [abs(i - 5) for i in x]\n",
    "\n",
    "# create three plots with one renderer each\n",
    "s1 = figure(width=250, height=250, background_fill_color=\"#fafafa\")\n",
    "s1.circle(x, y0, size=12, color=\"#53777a\", alpha=0.8)\n",
    "\n",
    "s2 = figure(width=250, height=250, background_fill_color=\"#fafafa\")\n",
    "s2.triangle(x, y1, size=12, color=\"#c02942\", alpha=0.8)\n",
    "\n",
    "s3 = figure(width=250, height=250, background_fill_color=\"#fafafa\")\n",
    "s3.square(x, y2, size=12, color=\"#d95b43\", alpha=0.8)\n",
    "\n",
    "# put the results in a row and show\n",
    "show(row(s1, s2, s3))"
   ]
  },
  {
   "cell_type": "markdown",
   "metadata": {},
   "source": [
    "You will learn more about layouts in the chapter [TBD]"
   ]
  },
  {
   "cell_type": "markdown",
   "metadata": {},
   "source": [
    "# Next section\n",
    "\n",
    "In the following chapters of this tutorial, you will learn how to create and\n",
    "customize plots, glyphs, widgets, layouts, and several other of Bokeh's components.\n",
    "\n",
    "Chapter 04 introduces the bokeh.plotting interface and shows you how to create\n",
    "your first Bokeh plot."
   ]
  }
 ],
 "metadata": {
  "kernelspec": {
   "display_name": "Python 3 (ipykernel)",
   "language": "python",
   "name": "python3"
  },
  "language_info": {
   "codemirror_mode": {
    "name": "ipython",
    "version": 3
   },
   "file_extension": ".py",
   "mimetype": "text/x-python",
   "name": "python",
   "nbconvert_exporter": "python",
   "pygments_lexer": "ipython3",
   "version": "3.10.4"
  },
  "vscode": {
   "interpreter": {
    "hash": "ab488fdb8b9aa36105a44cbd221df14ac07fc4003f76992d613ea31bfd3a4f61"
   }
  }
 },
 "nbformat": 4,
 "nbformat_minor": 2
}
