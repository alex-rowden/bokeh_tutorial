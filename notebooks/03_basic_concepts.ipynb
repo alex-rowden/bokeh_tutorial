{
 "cells": [
  {
   "cell_type": "markdown",
   "metadata": {},
   "source": [
    "# 02 Bokeh Installation and Setup\n",
    "This chapter provides a quick introduction to the core components of Bokeh.\n",
    "You will also learn about the most important concepts behind Bokeh."
   ]
  },
  {
   "cell_type": "markdown",
   "metadata": {},
   "source": []
  },
  {
   "cell_type": "markdown",
   "metadata": {},
   "source": [
    "\n",
    "## Bokeh components\n",
    "\n",
    "Bokeh\n",
    "\n",
    "BokehJS\n",
    "\n",
    "-> JSON model\n",
    "\n",
    "## Key concepts\n",
    "\n",
    "Plotting/Models interfaces\n",
    "\n",
    "Building blocks:\n",
    "\n",
    "Widgets\n",
    "\n",
    "Plots\n",
    "\n",
    "Layouts\n",
    "\n",
    "Renderer\n",
    "\n",
    "\n",
    "\n",
    "\n"
   ]
  },
  {
   "cell_type": "code",
   "execution_count": null,
   "metadata": {},
   "outputs": [],
   "source": []
  }
 ],
 "metadata": {
  "kernelspec": {
   "display_name": "Python 3.10.4 ('bk-tutorial')",
   "language": "python",
   "name": "python3"
  },
  "language_info": {
   "name": "python",
   "version": "3.10.4"
  },
  "orig_nbformat": 4,
  "vscode": {
   "interpreter": {
    "hash": "ab488fdb8b9aa36105a44cbd221df14ac07fc4003f76992d613ea31bfd3a4f61"
   }
  }
 },
 "nbformat": 4,
 "nbformat_minor": 2
}
