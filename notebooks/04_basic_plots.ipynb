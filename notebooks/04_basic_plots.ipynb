{
 "cells": [
  {
   "cell_type": "markdown",
   "metadata": {},
   "source": [
    "<table style=\"float:left; border:none\">\n",
    "   <tr style=\"border:none\">\n",
    "       <td style=\"border:none\">\n",
    "           <a href=\"https://bokeh.org/\">\n",
    "           <img\n",
    "               src=\"assets/bokeh-transparent.png\"\n",
    "               style=\"width:50px\"\n",
    "           >\n",
    "           </a>\n",
    "       </td>\n",
    "       <td style=\"border:none\">\n",
    "           <h1>Bokeh Tutorial</h1>\n",
    "       </td>\n",
    "   </tr>\n",
    "</table>\n",
    "\n",
    "<div style=\"float:right;\"><h2>04 Basic Plotting</h2></div>"
   ]
  },
  {
   "cell_type": "code",
   "execution_count": 1,
   "metadata": {},
   "outputs": [
    {
     "data": {
      "text/html": [
       "\n",
       "    <div class=\"bk-root\">\n",
       "        <a href=\"https://bokeh.org\" target=\"_blank\" class=\"bk-logo bk-logo-small bk-logo-notebook\"></a>\n",
       "        <span id=\"1001\">Loading BokehJS ...</span>\n",
       "    </div>"
      ]
     },
     "metadata": {},
     "output_type": "display_data"
    },
    {
     "data": {
      "application/javascript": "\n(function(root) {\n  function now() {\n    return new Date();\n  }\n\n  const force = true;\n\n  if (typeof root._bokeh_onload_callbacks === \"undefined\" || force === true) {\n    root._bokeh_onload_callbacks = [];\n    root._bokeh_is_loading = undefined;\n  }\n\n  const JS_MIME_TYPE = 'application/javascript';\n  const HTML_MIME_TYPE = 'text/html';\n  const EXEC_MIME_TYPE = 'application/vnd.bokehjs_exec.v0+json';\n  const CLASS_NAME = 'output_bokeh rendered_html';\n\n  /**\n   * Render data to the DOM node\n   */\n  function render(props, node) {\n    const script = document.createElement(\"script\");\n    node.appendChild(script);\n  }\n\n  /**\n   * Handle when an output is cleared or removed\n   */\n  function handleClearOutput(event, handle) {\n    const cell = handle.cell;\n\n    const id = cell.output_area._bokeh_element_id;\n    const server_id = cell.output_area._bokeh_server_id;\n    // Clean up Bokeh references\n    if (id != null && id in Bokeh.index) {\n      Bokeh.index[id].model.document.clear();\n      delete Bokeh.index[id];\n    }\n\n    if (server_id !== undefined) {\n      // Clean up Bokeh references\n      const cmd_clean = \"from bokeh.io.state import curstate; print(curstate().uuid_to_server['\" + server_id + \"'].get_sessions()[0].document.roots[0]._id)\";\n      cell.notebook.kernel.execute(cmd_clean, {\n        iopub: {\n          output: function(msg) {\n            const id = msg.content.text.trim();\n            if (id in Bokeh.index) {\n              Bokeh.index[id].model.document.clear();\n              delete Bokeh.index[id];\n            }\n          }\n        }\n      });\n      // Destroy server and session\n      const cmd_destroy = \"import bokeh.io.notebook as ion; ion.destroy_server('\" + server_id + \"')\";\n      cell.notebook.kernel.execute(cmd_destroy);\n    }\n  }\n\n  /**\n   * Handle when a new output is added\n   */\n  function handleAddOutput(event, handle) {\n    const output_area = handle.output_area;\n    const output = handle.output;\n\n    // limit handleAddOutput to display_data with EXEC_MIME_TYPE content only\n    if ((output.output_type != \"display_data\") || (!Object.prototype.hasOwnProperty.call(output.data, EXEC_MIME_TYPE))) {\n      return\n    }\n\n    const toinsert = output_area.element.find(\".\" + CLASS_NAME.split(' ')[0]);\n\n    if (output.metadata[EXEC_MIME_TYPE][\"id\"] !== undefined) {\n      toinsert[toinsert.length - 1].firstChild.textContent = output.data[JS_MIME_TYPE];\n      // store reference to embed id on output_area\n      output_area._bokeh_element_id = output.metadata[EXEC_MIME_TYPE][\"id\"];\n    }\n    if (output.metadata[EXEC_MIME_TYPE][\"server_id\"] !== undefined) {\n      const bk_div = document.createElement(\"div\");\n      bk_div.innerHTML = output.data[HTML_MIME_TYPE];\n      const script_attrs = bk_div.children[0].attributes;\n      for (let i = 0; i < script_attrs.length; i++) {\n        toinsert[toinsert.length - 1].firstChild.setAttribute(script_attrs[i].name, script_attrs[i].value);\n        toinsert[toinsert.length - 1].firstChild.textContent = bk_div.children[0].textContent\n      }\n      // store reference to server id on output_area\n      output_area._bokeh_server_id = output.metadata[EXEC_MIME_TYPE][\"server_id\"];\n    }\n  }\n\n  function register_renderer(events, OutputArea) {\n\n    function append_mime(data, metadata, element) {\n      // create a DOM node to render to\n      const toinsert = this.create_output_subarea(\n        metadata,\n        CLASS_NAME,\n        EXEC_MIME_TYPE\n      );\n      this.keyboard_manager.register_events(toinsert);\n      // Render to node\n      const props = {data: data, metadata: metadata[EXEC_MIME_TYPE]};\n      render(props, toinsert[toinsert.length - 1]);\n      element.append(toinsert);\n      return toinsert\n    }\n\n    /* Handle when an output is cleared or removed */\n    events.on('clear_output.CodeCell', handleClearOutput);\n    events.on('delete.Cell', handleClearOutput);\n\n    /* Handle when a new output is added */\n    events.on('output_added.OutputArea', handleAddOutput);\n\n    /**\n     * Register the mime type and append_mime function with output_area\n     */\n    OutputArea.prototype.register_mime_type(EXEC_MIME_TYPE, append_mime, {\n      /* Is output safe? */\n      safe: true,\n      /* Index of renderer in `output_area.display_order` */\n      index: 0\n    });\n  }\n\n  // register the mime type if in Jupyter Notebook environment and previously unregistered\n  if (root.Jupyter !== undefined) {\n    const events = require('base/js/events');\n    const OutputArea = require('notebook/js/outputarea').OutputArea;\n\n    if (OutputArea.prototype.mime_types().indexOf(EXEC_MIME_TYPE) == -1) {\n      register_renderer(events, OutputArea);\n    }\n  }\n\n  \n  if (typeof (root._bokeh_timeout) === \"undefined\" || force === true) {\n    root._bokeh_timeout = Date.now() + 5000;\n    root._bokeh_failed_load = false;\n  }\n\n  const NB_LOAD_WARNING = {'data': {'text/html':\n     \"<div style='background-color: #fdd'>\\n\"+\n     \"<p>\\n\"+\n     \"BokehJS does not appear to have successfully loaded. If loading BokehJS from CDN, this \\n\"+\n     \"may be due to a slow or bad network connection. Possible fixes:\\n\"+\n     \"</p>\\n\"+\n     \"<ul>\\n\"+\n     \"<li>re-rerun `output_notebook()` to attempt to load from CDN again, or</li>\\n\"+\n     \"<li>use INLINE resources instead, as so:</li>\\n\"+\n     \"</ul>\\n\"+\n     \"<code>\\n\"+\n     \"from bokeh.resources import INLINE\\n\"+\n     \"output_notebook(resources=INLINE)\\n\"+\n     \"</code>\\n\"+\n     \"</div>\"}};\n\n  function display_loaded() {\n    const el = document.getElementById(\"1001\");\n    if (el != null) {\n      el.textContent = \"BokehJS is loading...\";\n    }\n    if (root.Bokeh !== undefined) {\n      if (el != null) {\n        el.textContent = \"BokehJS \" + root.Bokeh.version + \" successfully loaded.\";\n      }\n    } else if (Date.now() < root._bokeh_timeout) {\n      setTimeout(display_loaded, 100)\n    }\n  }\n\n\n  function run_callbacks() {\n    try {\n      root._bokeh_onload_callbacks.forEach(function(callback) {\n        if (callback != null)\n          callback();\n      });\n    } finally {\n      delete root._bokeh_onload_callbacks\n    }\n    console.debug(\"Bokeh: all callbacks have finished\");\n  }\n\n  function load_libs(css_urls, js_urls, callback) {\n    if (css_urls == null) css_urls = [];\n    if (js_urls == null) js_urls = [];\n\n    root._bokeh_onload_callbacks.push(callback);\n    if (root._bokeh_is_loading > 0) {\n      console.debug(\"Bokeh: BokehJS is being loaded, scheduling callback at\", now());\n      return null;\n    }\n    if (js_urls == null || js_urls.length === 0) {\n      run_callbacks();\n      return null;\n    }\n    console.debug(\"Bokeh: BokehJS not loaded, scheduling load and callback at\", now());\n    root._bokeh_is_loading = css_urls.length + js_urls.length;\n\n    function on_load() {\n      root._bokeh_is_loading--;\n      if (root._bokeh_is_loading === 0) {\n        console.debug(\"Bokeh: all BokehJS libraries/stylesheets loaded\");\n        run_callbacks()\n      }\n    }\n\n    function on_error(url) {\n      console.error(\"failed to load \" + url);\n    }\n\n    for (let i = 0; i < css_urls.length; i++) {\n      const url = css_urls[i];\n      const element = document.createElement(\"link\");\n      element.onload = on_load;\n      element.onerror = on_error.bind(null, url);\n      element.rel = \"stylesheet\";\n      element.type = \"text/css\";\n      element.href = url;\n      console.debug(\"Bokeh: injecting link tag for BokehJS stylesheet: \", url);\n      document.body.appendChild(element);\n    }\n\n    for (let i = 0; i < js_urls.length; i++) {\n      const url = js_urls[i];\n      const element = document.createElement('script');\n      element.onload = on_load;\n      element.onerror = on_error.bind(null, url);\n      element.async = false;\n      element.src = url;\n      console.debug(\"Bokeh: injecting script tag for BokehJS library: \", url);\n      document.head.appendChild(element);\n    }\n  };\n\n  function inject_raw_css(css) {\n    const element = document.createElement(\"style\");\n    element.appendChild(document.createTextNode(css));\n    document.body.appendChild(element);\n  }\n\n  \n  const js_urls = [\"https://cdn.bokeh.org/bokeh/release/bokeh-2.4.2.min.js\", \"https://cdn.bokeh.org/bokeh/release/bokeh-gl-2.4.2.min.js\", \"https://cdn.bokeh.org/bokeh/release/bokeh-widgets-2.4.2.min.js\", \"https://cdn.bokeh.org/bokeh/release/bokeh-tables-2.4.2.min.js\", \"https://cdn.bokeh.org/bokeh/release/bokeh-mathjax-2.4.2.min.js\"];\n  const css_urls = [];\n  \n\n  const inline_js = [\n    function(Bokeh) {\n      Bokeh.set_log_level(\"info\");\n    },\n    function(Bokeh) {\n    \n    \n    }\n  ];\n\n  function run_inline_js() {\n    \n    if (root.Bokeh !== undefined || force === true) {\n      \n    for (let i = 0; i < inline_js.length; i++) {\n      inline_js[i].call(root, root.Bokeh);\n    }\n    if (force === true) {\n        display_loaded();\n      }} else if (Date.now() < root._bokeh_timeout) {\n      setTimeout(run_inline_js, 100);\n    } else if (!root._bokeh_failed_load) {\n      console.log(\"Bokeh: BokehJS failed to load within specified timeout.\");\n      root._bokeh_failed_load = true;\n    } else if (force !== true) {\n      const cell = $(document.getElementById(\"1001\")).parents('.cell').data().cell;\n      cell.output_area.append_execute_result(NB_LOAD_WARNING)\n    }\n\n  }\n\n  if (root._bokeh_is_loading === 0) {\n    console.debug(\"Bokeh: BokehJS loaded, going straight to plotting\");\n    run_inline_js();\n  } else {\n    load_libs(css_urls, js_urls, function() {\n      console.debug(\"Bokeh: BokehJS plotting callback run at\", now());\n      run_inline_js();\n    });\n  }\n}(window));",
      "application/vnd.bokehjs_load.v0+json": ""
     },
     "metadata": {},
     "output_type": "display_data"
    }
   ],
   "source": [
    "# activate notebook output\n",
    "from bokeh.io import output_notebook\n",
    "output_notebook()\n",
    "\n",
    "# load tutorial data set\n",
    "import sys\n",
    "sys.path.append('../data')\n",
    "from carriers_data import CarrierDataSet\n",
    "data = CarrierDataSet()"
   ]
  },
  {
   "cell_type": "markdown",
   "metadata": {},
   "source": [
    "This chapter introduces several basic plots, using the `bokeh.plotting` interface.\n",
    "\n",
    "Building plots with the `bokeh.plotting` interface follows this\n",
    "general pattern:\n",
    "\n",
    "* You first define a basic figure, using most of the defaults that Bokeh\n",
    "provides.\n",
    "* You then customize specific elements of the figure to fit your needs.\n",
    "\n",
    "This way, you can build a fully functional, interactive plot with just a few\n",
    "lines of code."
   ]
  },
  {
   "cell_type": "markdown",
   "metadata": {},
   "source": [
    "### Basic plot setup\n",
    "\n",
    "All plots based on the `bokeh.plotting` interface use the `figure()` function to\n",
    "create a new plot.\n",
    "\n",
    "The first step is usually to import `figure` from `bokeh.plotting`:"
   ]
  },
  {
   "cell_type": "code",
   "execution_count": 2,
   "metadata": {},
   "outputs": [],
   "source": [
    "from bokeh.plotting import figure"
   ]
  },
  {
   "cell_type": "markdown",
   "metadata": {},
   "source": [
    "The next step is to create a new plot with the `figure()` function:"
   ]
  },
  {
   "cell_type": "code",
   "execution_count": 3,
   "metadata": {},
   "outputs": [],
   "source": [
    "plot = figure()"
   ]
  },
  {
   "cell_type": "markdown",
   "metadata": {},
   "source": [
    "You can add several optional arguments to the `figure()` function. For now,\n",
    "just use `height` and `width` to define the size of the plot:"
   ]
  },
  {
   "cell_type": "code",
   "execution_count": 4,
   "metadata": {},
   "outputs": [],
   "source": [
    "plot = figure(height=300, width=300)"
   ]
  },
  {
   "cell_type": "markdown",
   "metadata": {},
   "source": [
    "You can think of using the `figure()` function as creating a blank canvas.\n",
    "Once you have created the canvas, you can add glyphs to create a plot.\n",
    "\n",
    "### Adding a line chart\n",
    "\n",
    "To add a line chart, use the `line()` function. \n",
    "\n",
    "This function requires some data to visualize as an input. For now, use a simple\n",
    "list of numbers. One list for the y axis and one for the x axis:"
   ]
  },
  {
   "cell_type": "code",
   "execution_count": 5,
   "metadata": {},
   "outputs": [
    {
     "data": {
      "text/html": [
       "<div style=\"display: table;\"><div style=\"display: table-row;\"><div style=\"display: table-cell;\"><b title=\"bokeh.models.renderers.GlyphRenderer\">GlyphRenderer</b>(</div><div style=\"display: table-cell;\">id&nbsp;=&nbsp;'1069', <span id=\"1072\" style=\"cursor: pointer;\">&hellip;)</span></div></div><div class=\"1071\" style=\"display: none;\"><div style=\"display: table-cell;\"></div><div style=\"display: table-cell;\">coordinates&nbsp;=&nbsp;None,</div></div><div class=\"1071\" style=\"display: none;\"><div style=\"display: table-cell;\"></div><div style=\"display: table-cell;\">data_source&nbsp;=&nbsp;ColumnDataSource(id='1065', ...),</div></div><div class=\"1071\" style=\"display: none;\"><div style=\"display: table-cell;\"></div><div style=\"display: table-cell;\">glyph&nbsp;=&nbsp;Line(id='1066', ...),</div></div><div class=\"1071\" style=\"display: none;\"><div style=\"display: table-cell;\"></div><div style=\"display: table-cell;\">group&nbsp;=&nbsp;None,</div></div><div class=\"1071\" style=\"display: none;\"><div style=\"display: table-cell;\"></div><div style=\"display: table-cell;\">hover_glyph&nbsp;=&nbsp;None,</div></div><div class=\"1071\" style=\"display: none;\"><div style=\"display: table-cell;\"></div><div style=\"display: table-cell;\">js_event_callbacks&nbsp;=&nbsp;{},</div></div><div class=\"1071\" style=\"display: none;\"><div style=\"display: table-cell;\"></div><div style=\"display: table-cell;\">js_property_callbacks&nbsp;=&nbsp;{},</div></div><div class=\"1071\" style=\"display: none;\"><div style=\"display: table-cell;\"></div><div style=\"display: table-cell;\">level&nbsp;=&nbsp;'glyph',</div></div><div class=\"1071\" style=\"display: none;\"><div style=\"display: table-cell;\"></div><div style=\"display: table-cell;\">muted&nbsp;=&nbsp;False,</div></div><div class=\"1071\" style=\"display: none;\"><div style=\"display: table-cell;\"></div><div style=\"display: table-cell;\">muted_glyph&nbsp;=&nbsp;Line(id='1068', ...),</div></div><div class=\"1071\" style=\"display: none;\"><div style=\"display: table-cell;\"></div><div style=\"display: table-cell;\">name&nbsp;=&nbsp;None,</div></div><div class=\"1071\" style=\"display: none;\"><div style=\"display: table-cell;\"></div><div style=\"display: table-cell;\">nonselection_glyph&nbsp;=&nbsp;Line(id='1067', ...),</div></div><div class=\"1071\" style=\"display: none;\"><div style=\"display: table-cell;\"></div><div style=\"display: table-cell;\">selection_glyph&nbsp;=&nbsp;'auto',</div></div><div class=\"1071\" style=\"display: none;\"><div style=\"display: table-cell;\"></div><div style=\"display: table-cell;\">subscribed_events&nbsp;=&nbsp;[],</div></div><div class=\"1071\" style=\"display: none;\"><div style=\"display: table-cell;\"></div><div style=\"display: table-cell;\">syncable&nbsp;=&nbsp;True,</div></div><div class=\"1071\" style=\"display: none;\"><div style=\"display: table-cell;\"></div><div style=\"display: table-cell;\">tags&nbsp;=&nbsp;[],</div></div><div class=\"1071\" style=\"display: none;\"><div style=\"display: table-cell;\"></div><div style=\"display: table-cell;\">view&nbsp;=&nbsp;CDSView(id='1070', ...),</div></div><div class=\"1071\" style=\"display: none;\"><div style=\"display: table-cell;\"></div><div style=\"display: table-cell;\">visible&nbsp;=&nbsp;True,</div></div><div class=\"1071\" style=\"display: none;\"><div style=\"display: table-cell;\"></div><div style=\"display: table-cell;\">x_range_name&nbsp;=&nbsp;'default',</div></div><div class=\"1071\" style=\"display: none;\"><div style=\"display: table-cell;\"></div><div style=\"display: table-cell;\">y_range_name&nbsp;=&nbsp;'default')</div></div></div>\n",
       "<script>\n",
       "(function() {\n",
       "  let expanded = false;\n",
       "  const ellipsis = document.getElementById(\"1072\");\n",
       "  ellipsis.addEventListener(\"click\", function() {\n",
       "    const rows = document.getElementsByClassName(\"1071\");\n",
       "    for (let i = 0; i < rows.length; i++) {\n",
       "      const el = rows[i];\n",
       "      el.style.display = expanded ? \"none\" : \"table-row\";\n",
       "    }\n",
       "    ellipsis.innerHTML = expanded ? \"&hellip;)\" : \"&lsaquo;&lsaquo;&lsaquo;\";\n",
       "    expanded = !expanded;\n",
       "  });\n",
       "})();\n",
       "</script>\n"
      ],
      "text/plain": [
       "GlyphRenderer(id='1069', ...)"
      ]
     },
     "execution_count": 5,
     "metadata": {},
     "output_type": "execute_result"
    }
   ],
   "source": [
    "# define some data\n",
    "x = [1, 2, 3, 4, 5]\n",
    "y = [6, 7, 2, 1, 5]\n",
    "# use your plot's line() function to create a line plot with this data\n",
    "plot.line(x, y)"
   ]
  },
  {
   "cell_type": "markdown",
   "metadata": {},
   "source": [
    "The `line()` function returns a `GlyphRenderer` object. This represents the\n",
    "glyph that you have added to your plot.\n",
    "\n",
    "You now have a basic figure (created with `figure()`) and a line glyph (created\n",
    "with `line()`).\n",
    "The final step is to display the plot.\n",
    "Bokeh provides a `show()` function to display the plot:"
   ]
  },
  {
   "cell_type": "code",
   "execution_count": 6,
   "metadata": {},
   "outputs": [
    {
     "data": {
      "text/html": [
       "\n",
       "\n",
       "\n",
       "\n",
       "\n",
       "\n",
       "  <div class=\"bk-root\" id=\"c91a8c15-46e7-4250-b58d-8d453a11fb3c\" data-root-id=\"1034\"></div>\n"
      ]
     },
     "metadata": {},
     "output_type": "display_data"
    },
    {
     "data": {
      "application/javascript": "(function(root) {\n  function embed_document(root) {\n    \n  const docs_json = {\"b9bd147f-7bb8-45fe-87fb-38c102c7143c\":{\"defs\":[],\"roots\":{\"references\":[{\"attributes\":{\"below\":[{\"id\":\"1043\"}],\"center\":[{\"id\":\"1046\"},{\"id\":\"1050\"}],\"height\":300,\"left\":[{\"id\":\"1047\"}],\"renderers\":[{\"id\":\"1069\"}],\"title\":{\"id\":\"1073\"},\"toolbar\":{\"id\":\"1058\"},\"width\":300,\"x_range\":{\"id\":\"1035\"},\"x_scale\":{\"id\":\"1039\"},\"y_range\":{\"id\":\"1037\"},\"y_scale\":{\"id\":\"1041\"}},\"id\":\"1034\",\"subtype\":\"Figure\",\"type\":\"Plot\"},{\"attributes\":{\"overlay\":{\"id\":\"1057\"}},\"id\":\"1053\",\"type\":\"BoxZoomTool\"},{\"attributes\":{\"data\":{\"x\":[1,2,3,4,5],\"y\":[6,7,2,1,5]},\"selected\":{\"id\":\"1082\"},\"selection_policy\":{\"id\":\"1081\"}},\"id\":\"1065\",\"type\":\"ColumnDataSource\"},{\"attributes\":{},\"id\":\"1054\",\"type\":\"SaveTool\"},{\"attributes\":{},\"id\":\"1055\",\"type\":\"ResetTool\"},{\"attributes\":{},\"id\":\"1077\",\"type\":\"AllLabels\"},{\"attributes\":{\"bottom_units\":\"screen\",\"coordinates\":null,\"fill_alpha\":0.5,\"fill_color\":\"lightgrey\",\"group\":null,\"left_units\":\"screen\",\"level\":\"overlay\",\"line_alpha\":1.0,\"line_color\":\"black\",\"line_dash\":[4,4],\"line_width\":2,\"right_units\":\"screen\",\"syncable\":false,\"top_units\":\"screen\"},\"id\":\"1057\",\"type\":\"BoxAnnotation\"},{\"attributes\":{},\"id\":\"1048\",\"type\":\"BasicTicker\"},{\"attributes\":{},\"id\":\"1081\",\"type\":\"UnionRenderers\"},{\"attributes\":{\"line_color\":\"#1f77b4\",\"x\":{\"field\":\"x\"},\"y\":{\"field\":\"y\"}},\"id\":\"1066\",\"type\":\"Line\"},{\"attributes\":{\"tools\":[{\"id\":\"1051\"},{\"id\":\"1052\"},{\"id\":\"1053\"},{\"id\":\"1054\"},{\"id\":\"1055\"},{\"id\":\"1056\"}]},\"id\":\"1058\",\"type\":\"Toolbar\"},{\"attributes\":{\"line_alpha\":0.1,\"line_color\":\"#1f77b4\",\"x\":{\"field\":\"x\"},\"y\":{\"field\":\"y\"}},\"id\":\"1067\",\"type\":\"Line\"},{\"attributes\":{\"line_alpha\":0.2,\"line_color\":\"#1f77b4\",\"x\":{\"field\":\"x\"},\"y\":{\"field\":\"y\"}},\"id\":\"1068\",\"type\":\"Line\"},{\"attributes\":{\"coordinates\":null,\"group\":null},\"id\":\"1073\",\"type\":\"Title\"},{\"attributes\":{},\"id\":\"1076\",\"type\":\"BasicTickFormatter\"},{\"attributes\":{},\"id\":\"1044\",\"type\":\"BasicTicker\"},{\"attributes\":{},\"id\":\"1080\",\"type\":\"AllLabels\"},{\"attributes\":{},\"id\":\"1082\",\"type\":\"Selection\"},{\"attributes\":{},\"id\":\"1056\",\"type\":\"HelpTool\"},{\"attributes\":{\"axis\":{\"id\":\"1043\"},\"coordinates\":null,\"group\":null,\"ticker\":null},\"id\":\"1046\",\"type\":\"Grid\"},{\"attributes\":{\"coordinates\":null,\"formatter\":{\"id\":\"1076\"},\"group\":null,\"major_label_policy\":{\"id\":\"1077\"},\"ticker\":{\"id\":\"1048\"}},\"id\":\"1047\",\"type\":\"LinearAxis\"},{\"attributes\":{},\"id\":\"1037\",\"type\":\"DataRange1d\"},{\"attributes\":{\"axis\":{\"id\":\"1047\"},\"coordinates\":null,\"dimension\":1,\"group\":null,\"ticker\":null},\"id\":\"1050\",\"type\":\"Grid\"},{\"attributes\":{\"source\":{\"id\":\"1065\"}},\"id\":\"1070\",\"type\":\"CDSView\"},{\"attributes\":{},\"id\":\"1035\",\"type\":\"DataRange1d\"},{\"attributes\":{\"coordinates\":null,\"data_source\":{\"id\":\"1065\"},\"glyph\":{\"id\":\"1066\"},\"group\":null,\"hover_glyph\":null,\"muted_glyph\":{\"id\":\"1068\"},\"nonselection_glyph\":{\"id\":\"1067\"},\"view\":{\"id\":\"1070\"}},\"id\":\"1069\",\"type\":\"GlyphRenderer\"},{\"attributes\":{},\"id\":\"1041\",\"type\":\"LinearScale\"},{\"attributes\":{},\"id\":\"1039\",\"type\":\"LinearScale\"},{\"attributes\":{\"coordinates\":null,\"formatter\":{\"id\":\"1079\"},\"group\":null,\"major_label_policy\":{\"id\":\"1080\"},\"ticker\":{\"id\":\"1044\"}},\"id\":\"1043\",\"type\":\"LinearAxis\"},{\"attributes\":{},\"id\":\"1079\",\"type\":\"BasicTickFormatter\"},{\"attributes\":{},\"id\":\"1052\",\"type\":\"WheelZoomTool\"},{\"attributes\":{},\"id\":\"1051\",\"type\":\"PanTool\"}],\"root_ids\":[\"1034\"]},\"title\":\"Bokeh Application\",\"version\":\"2.4.2\"}};\n  const render_items = [{\"docid\":\"b9bd147f-7bb8-45fe-87fb-38c102c7143c\",\"root_ids\":[\"1034\"],\"roots\":{\"1034\":\"c91a8c15-46e7-4250-b58d-8d453a11fb3c\"}}];\n  root.Bokeh.embed.embed_items_notebook(docs_json, render_items);\n\n  }\n  if (root.Bokeh !== undefined) {\n    embed_document(root);\n  } else {\n    let attempts = 0;\n    const timer = setInterval(function(root) {\n      if (root.Bokeh !== undefined) {\n        clearInterval(timer);\n        embed_document(root);\n      } else {\n        attempts++;\n        if (attempts > 100) {\n          clearInterval(timer);\n          console.log(\"Bokeh: ERROR: Unable to run BokehJS code because BokehJS library is missing\");\n        }\n      }\n    }, 10, root)\n  }\n})(window);",
      "application/vnd.bokehjs_exec.v0+json": ""
     },
     "metadata": {
      "application/vnd.bokehjs_exec.v0+json": {
       "id": "1034"
      }
     },
     "output_type": "display_data"
    }
   ],
   "source": [
    "from bokeh.plotting import show\n",
    "show(plot)"
   ]
  },
  {
   "cell_type": "markdown",
   "metadata": {},
   "source": [
    "The next cell contains all the code necessary to create a line chart.\n",
    "\n",
    "Try changing some of the parameters of the `figure()` and `line()` functions.\n",
    "The code cell contains some comments with suggestions for what to try.\n",
    "\n",
    "When you have made your changes, rerun this cell to see how the output changes:"
   ]
  },
  {
   "cell_type": "code",
   "execution_count": 7,
   "metadata": {},
   "outputs": [
    {
     "data": {
      "text/html": [
       "\n",
       "\n",
       "\n",
       "\n",
       "\n",
       "\n",
       "  <div class=\"bk-root\" id=\"762f939a-5be6-4910-850d-7e2efde915ac\" data-root-id=\"1139\"></div>\n"
      ]
     },
     "metadata": {},
     "output_type": "display_data"
    },
    {
     "data": {
      "application/javascript": "(function(root) {\n  function embed_document(root) {\n    \n  const docs_json = {\"a788bf08-5c4a-4949-b7de-bd868911c2d1\":{\"defs\":[],\"roots\":{\"references\":[{\"attributes\":{\"below\":[{\"id\":\"1148\"}],\"center\":[{\"id\":\"1151\"},{\"id\":\"1155\"}],\"height\":300,\"left\":[{\"id\":\"1152\"}],\"renderers\":[{\"id\":\"1174\"}],\"title\":{\"id\":\"1187\"},\"toolbar\":{\"id\":\"1163\"},\"width\":300,\"x_range\":{\"id\":\"1140\"},\"x_scale\":{\"id\":\"1144\"},\"y_range\":{\"id\":\"1142\"},\"y_scale\":{\"id\":\"1146\"}},\"id\":\"1139\",\"subtype\":\"Figure\",\"type\":\"Plot\"},{\"attributes\":{},\"id\":\"1140\",\"type\":\"DataRange1d\"},{\"attributes\":{},\"id\":\"1190\",\"type\":\"BasicTickFormatter\"},{\"attributes\":{\"coordinates\":null,\"data_source\":{\"id\":\"1170\"},\"glyph\":{\"id\":\"1171\"},\"group\":null,\"hover_glyph\":null,\"muted_glyph\":{\"id\":\"1173\"},\"nonselection_glyph\":{\"id\":\"1172\"},\"view\":{\"id\":\"1175\"}},\"id\":\"1174\",\"type\":\"GlyphRenderer\"},{\"attributes\":{\"coordinates\":null,\"formatter\":{\"id\":\"1193\"},\"group\":null,\"major_label_policy\":{\"id\":\"1194\"},\"ticker\":{\"id\":\"1149\"}},\"id\":\"1148\",\"type\":\"LinearAxis\"},{\"attributes\":{},\"id\":\"1196\",\"type\":\"Selection\"},{\"attributes\":{\"bottom_units\":\"screen\",\"coordinates\":null,\"fill_alpha\":0.5,\"fill_color\":\"lightgrey\",\"group\":null,\"left_units\":\"screen\",\"level\":\"overlay\",\"line_alpha\":1.0,\"line_color\":\"black\",\"line_dash\":[4,4],\"line_width\":2,\"right_units\":\"screen\",\"syncable\":false,\"top_units\":\"screen\"},\"id\":\"1162\",\"type\":\"BoxAnnotation\"},{\"attributes\":{},\"id\":\"1191\",\"type\":\"AllLabels\"},{\"attributes\":{},\"id\":\"1144\",\"type\":\"LinearScale\"},{\"attributes\":{\"coordinates\":null,\"formatter\":{\"id\":\"1190\"},\"group\":null,\"major_label_policy\":{\"id\":\"1191\"},\"ticker\":{\"id\":\"1153\"}},\"id\":\"1152\",\"type\":\"LinearAxis\"},{\"attributes\":{\"tools\":[{\"id\":\"1156\"},{\"id\":\"1157\"},{\"id\":\"1158\"},{\"id\":\"1159\"},{\"id\":\"1160\"},{\"id\":\"1161\"}]},\"id\":\"1163\",\"type\":\"Toolbar\"},{\"attributes\":{\"coordinates\":null,\"group\":null},\"id\":\"1187\",\"type\":\"Title\"},{\"attributes\":{},\"id\":\"1149\",\"type\":\"BasicTicker\"},{\"attributes\":{},\"id\":\"1161\",\"type\":\"HelpTool\"},{\"attributes\":{},\"id\":\"1146\",\"type\":\"LinearScale\"},{\"attributes\":{},\"id\":\"1142\",\"type\":\"DataRange1d\"},{\"attributes\":{\"line_color\":\"#1f77b4\",\"x\":{\"field\":\"x\"},\"y\":{\"field\":\"y\"}},\"id\":\"1171\",\"type\":\"Line\"},{\"attributes\":{},\"id\":\"1195\",\"type\":\"UnionRenderers\"},{\"attributes\":{},\"id\":\"1193\",\"type\":\"BasicTickFormatter\"},{\"attributes\":{\"axis\":{\"id\":\"1148\"},\"coordinates\":null,\"group\":null,\"ticker\":null},\"id\":\"1151\",\"type\":\"Grid\"},{\"attributes\":{\"data\":{\"x\":[1,2,3,4,5],\"y\":[6,7,2,1,5]},\"selected\":{\"id\":\"1196\"},\"selection_policy\":{\"id\":\"1195\"}},\"id\":\"1170\",\"type\":\"ColumnDataSource\"},{\"attributes\":{\"line_alpha\":0.1,\"line_color\":\"#1f77b4\",\"x\":{\"field\":\"x\"},\"y\":{\"field\":\"y\"}},\"id\":\"1172\",\"type\":\"Line\"},{\"attributes\":{\"axis\":{\"id\":\"1152\"},\"coordinates\":null,\"dimension\":1,\"group\":null,\"ticker\":null},\"id\":\"1155\",\"type\":\"Grid\"},{\"attributes\":{},\"id\":\"1153\",\"type\":\"BasicTicker\"},{\"attributes\":{\"source\":{\"id\":\"1170\"}},\"id\":\"1175\",\"type\":\"CDSView\"},{\"attributes\":{\"line_alpha\":0.2,\"line_color\":\"#1f77b4\",\"x\":{\"field\":\"x\"},\"y\":{\"field\":\"y\"}},\"id\":\"1173\",\"type\":\"Line\"},{\"attributes\":{},\"id\":\"1157\",\"type\":\"WheelZoomTool\"},{\"attributes\":{},\"id\":\"1156\",\"type\":\"PanTool\"},{\"attributes\":{},\"id\":\"1194\",\"type\":\"AllLabels\"},{\"attributes\":{\"overlay\":{\"id\":\"1162\"}},\"id\":\"1158\",\"type\":\"BoxZoomTool\"},{\"attributes\":{},\"id\":\"1159\",\"type\":\"SaveTool\"},{\"attributes\":{},\"id\":\"1160\",\"type\":\"ResetTool\"}],\"root_ids\":[\"1139\"]},\"title\":\"Bokeh Application\",\"version\":\"2.4.2\"}};\n  const render_items = [{\"docid\":\"a788bf08-5c4a-4949-b7de-bd868911c2d1\",\"root_ids\":[\"1139\"],\"roots\":{\"1139\":\"762f939a-5be6-4910-850d-7e2efde915ac\"}}];\n  root.Bokeh.embed.embed_items_notebook(docs_json, render_items);\n\n  }\n  if (root.Bokeh !== undefined) {\n    embed_document(root);\n  } else {\n    let attempts = 0;\n    const timer = setInterval(function(root) {\n      if (root.Bokeh !== undefined) {\n        clearInterval(timer);\n        embed_document(root);\n      } else {\n        attempts++;\n        if (attempts > 100) {\n          clearInterval(timer);\n          console.log(\"Bokeh: ERROR: Unable to run BokehJS code because BokehJS library is missing\");\n        }\n      }\n    }, 10, root)\n  }\n})(window);",
      "application/vnd.bokehjs_exec.v0+json": ""
     },
     "metadata": {
      "application/vnd.bokehjs_exec.v0+json": {
       "id": "1139"
      }
     },
     "output_type": "display_data"
    }
   ],
   "source": [
    "from bokeh.plotting import figure, show\n",
    "\n",
    "## uncomment and adjust some of the additional parameters to see what they do\n",
    "plot = figure(\n",
    "    height=300,\n",
    "    width=300,\n",
    "    # title='Basic Line Plot',\n",
    "    #  x_axis_label='x',\n",
    "    #  y_axis_label='y'\n",
    "    )\n",
    "\n",
    "## replace some of the values with different numbers to see how the plot changes\n",
    "x = [1, 2, 3, 4, 5]\n",
    "y = [6, 7, 2, 1, 5]\n",
    "\n",
    "## uncomment and adjust some of the additional parameters to see what they do\n",
    "plot.line(\n",
    "    x, y,\n",
    "    # legend_label=\"Temperature\",\n",
    "    # line_width=2,\n",
    "    # line_color=\"red\",\n",
    "    )\n",
    "\n",
    "show(plot)"
   ]
  },
  {
   "cell_type": "markdown",
   "metadata": {},
   "source": [
    "### Line chart example\n",
    "Let's create a line chart with some real data from the dashboard you are\n",
    "building.\n",
    "We will use the total number of passengers on flights for each month in 2021.\n",
    "\n",
    "For convenience, the data for this tutorial is available in a class that you\n",
    "already imported at the top of this notebook. We are using a data frame called\n",
    "`monthly_values_df`:"
   ]
  },
  {
   "cell_type": "code",
   "execution_count": 8,
   "metadata": {},
   "outputs": [
    {
     "data": {
      "text/html": [
       "<div>\n",
       "<style scoped>\n",
       "    .dataframe tbody tr th:only-of-type {\n",
       "        vertical-align: middle;\n",
       "    }\n",
       "\n",
       "    .dataframe tbody tr th {\n",
       "        vertical-align: top;\n",
       "    }\n",
       "\n",
       "    .dataframe thead th {\n",
       "        text-align: right;\n",
       "    }\n",
       "</style>\n",
       "<table border=\"1\" class=\"dataframe\">\n",
       "  <thead>\n",
       "    <tr style=\"text-align: right;\">\n",
       "      <th></th>\n",
       "      <th>passengers</th>\n",
       "      <th>freight</th>\n",
       "      <th>mail</th>\n",
       "      <th>month_name</th>\n",
       "    </tr>\n",
       "    <tr>\n",
       "      <th>month</th>\n",
       "      <th></th>\n",
       "      <th></th>\n",
       "      <th></th>\n",
       "      <th></th>\n",
       "    </tr>\n",
       "  </thead>\n",
       "  <tbody>\n",
       "    <tr>\n",
       "      <th>1</th>\n",
       "      <td>23895970</td>\n",
       "      <td>87598694</td>\n",
       "      <td>46968436</td>\n",
       "      <td>January</td>\n",
       "    </tr>\n",
       "    <tr>\n",
       "      <th>2</th>\n",
       "      <td>23970797</td>\n",
       "      <td>91949788</td>\n",
       "      <td>38184246</td>\n",
       "      <td>February</td>\n",
       "    </tr>\n",
       "    <tr>\n",
       "      <th>3</th>\n",
       "      <td>38529707</td>\n",
       "      <td>110337215</td>\n",
       "      <td>44435455</td>\n",
       "      <td>March</td>\n",
       "    </tr>\n",
       "    <tr>\n",
       "      <th>4</th>\n",
       "      <td>42939029</td>\n",
       "      <td>107077739</td>\n",
       "      <td>46288794</td>\n",
       "      <td>April</td>\n",
       "    </tr>\n",
       "    <tr>\n",
       "      <th>5</th>\n",
       "      <td>51766337</td>\n",
       "      <td>115079453</td>\n",
       "      <td>44898759</td>\n",
       "      <td>May</td>\n",
       "    </tr>\n",
       "  </tbody>\n",
       "</table>\n",
       "</div>"
      ],
      "text/plain": [
       "       passengers    freight      mail month_name\n",
       "month                                            \n",
       "1        23895970   87598694  46968436    January\n",
       "2        23970797   91949788  38184246   February\n",
       "3        38529707  110337215  44435455      March\n",
       "4        42939029  107077739  46288794      April\n",
       "5        51766337  115079453  44898759        May"
      ]
     },
     "execution_count": 8,
     "metadata": {},
     "output_type": "execute_result"
    }
   ],
   "source": [
    "monthly_values_df = data.get_monthly_values()\n",
    "monthly_values_df.head()"
   ]
  },
  {
   "cell_type": "markdown",
   "metadata": {},
   "source": [
    "For now, we will only use the `passengers` column and the month number from the\n",
    "DataFrame's index.\n",
    "\n",
    "Use `figure()` with the `height`, `width` and `title` parameters to create a new\n",
    "plot. Next, load the data from the `monthly_values_df` data frame. Use this data\n",
    "do add a line glyph to the plot, using `line()` with some of the parameters you\n",
    "saw above. Finally, use `show()` to display the plot:"
   ]
  },
  {
   "cell_type": "code",
   "execution_count": 9,
   "metadata": {},
   "outputs": [
    {
     "data": {
      "text/html": [
       "\n",
       "\n",
       "\n",
       "\n",
       "\n",
       "\n",
       "  <div class=\"bk-root\" id=\"cdeea98f-f7bc-451f-86f8-d9a907e6c340\" data-root-id=\"1253\"></div>\n"
      ]
     },
     "metadata": {},
     "output_type": "display_data"
    },
    {
     "data": {
      "application/javascript": "(function(root) {\n  function embed_document(root) {\n    \n  const docs_json = {\"a995e46f-ff85-4aac-b325-d60134c43d40\":{\"defs\":[],\"roots\":{\"references\":[{\"attributes\":{\"below\":[{\"id\":\"1264\"}],\"center\":[{\"id\":\"1267\"},{\"id\":\"1271\"},{\"id\":\"1302\"}],\"height\":300,\"left\":[{\"id\":\"1268\"}],\"renderers\":[{\"id\":\"1290\"}],\"title\":{\"id\":\"1254\"},\"toolbar\":{\"id\":\"1279\"},\"x_range\":{\"id\":\"1256\"},\"x_scale\":{\"id\":\"1260\"},\"y_range\":{\"id\":\"1258\"},\"y_scale\":{\"id\":\"1262\"}},\"id\":\"1253\",\"subtype\":\"Figure\",\"type\":\"Plot\"},{\"attributes\":{\"coordinates\":null,\"group\":null,\"items\":[{\"id\":\"1303\"}]},\"id\":\"1302\",\"type\":\"Legend\"},{\"attributes\":{},\"id\":\"1300\",\"type\":\"Selection\"},{\"attributes\":{\"tools\":[{\"id\":\"1272\"},{\"id\":\"1273\"},{\"id\":\"1274\"},{\"id\":\"1275\"},{\"id\":\"1276\"},{\"id\":\"1277\"}]},\"id\":\"1279\",\"type\":\"Toolbar\"},{\"attributes\":{},\"id\":\"1273\",\"type\":\"WheelZoomTool\"},{\"attributes\":{},\"id\":\"1260\",\"type\":\"LinearScale\"},{\"attributes\":{},\"id\":\"1276\",\"type\":\"ResetTool\"},{\"attributes\":{},\"id\":\"1275\",\"type\":\"SaveTool\"},{\"attributes\":{},\"id\":\"1272\",\"type\":\"PanTool\"},{\"attributes\":{\"overlay\":{\"id\":\"1278\"}},\"id\":\"1274\",\"type\":\"BoxZoomTool\"},{\"attributes\":{\"line_color\":\"blue\",\"line_width\":3,\"x\":{\"field\":\"x\"},\"y\":{\"field\":\"y\"}},\"id\":\"1287\",\"type\":\"Line\"},{\"attributes\":{\"axis\":{\"id\":\"1264\"},\"coordinates\":null,\"group\":null,\"ticker\":null},\"id\":\"1267\",\"type\":\"Grid\"},{\"attributes\":{},\"id\":\"1298\",\"type\":\"AllLabels\"},{\"attributes\":{},\"id\":\"1269\",\"type\":\"BasicTicker\"},{\"attributes\":{\"axis\":{\"id\":\"1268\"},\"coordinates\":null,\"dimension\":1,\"group\":null,\"ticker\":null},\"id\":\"1271\",\"type\":\"Grid\"},{\"attributes\":{},\"id\":\"1295\",\"type\":\"AllLabels\"},{\"attributes\":{},\"id\":\"1256\",\"type\":\"DataRange1d\"},{\"attributes\":{},\"id\":\"1297\",\"type\":\"BasicTickFormatter\"},{\"attributes\":{},\"id\":\"1258\",\"type\":\"DataRange1d\"},{\"attributes\":{\"coordinates\":null,\"group\":null,\"text\":\"Domestic Airline Passengers (2021)\"},\"id\":\"1254\",\"type\":\"Title\"},{\"attributes\":{\"bottom_units\":\"screen\",\"coordinates\":null,\"fill_alpha\":0.5,\"fill_color\":\"lightgrey\",\"group\":null,\"left_units\":\"screen\",\"level\":\"overlay\",\"line_alpha\":1.0,\"line_color\":\"black\",\"line_dash\":[4,4],\"line_width\":2,\"right_units\":\"screen\",\"syncable\":false,\"top_units\":\"screen\"},\"id\":\"1278\",\"type\":\"BoxAnnotation\"},{\"attributes\":{},\"id\":\"1265\",\"type\":\"BasicTicker\"},{\"attributes\":{\"data\":{\"x\":[1,2,3,4,5,6,7,8,9,10,11,12],\"y\":[23895970,23970797,38529707,42939029,51766337,58928348,65267892,58895098,52791205,59338631,58559178,58331414]},\"selected\":{\"id\":\"1300\"},\"selection_policy\":{\"id\":\"1299\"}},\"id\":\"1286\",\"type\":\"ColumnDataSource\"},{\"attributes\":{},\"id\":\"1294\",\"type\":\"BasicTickFormatter\"},{\"attributes\":{\"coordinates\":null,\"formatter\":{\"id\":\"1294\"},\"group\":null,\"major_label_policy\":{\"id\":\"1295\"},\"ticker\":{\"id\":\"1269\"}},\"id\":\"1268\",\"type\":\"LinearAxis\"},{\"attributes\":{\"coordinates\":null,\"formatter\":{\"id\":\"1297\"},\"group\":null,\"major_label_policy\":{\"id\":\"1298\"},\"ticker\":{\"id\":\"1265\"}},\"id\":\"1264\",\"type\":\"LinearAxis\"},{\"attributes\":{},\"id\":\"1277\",\"type\":\"HelpTool\"},{\"attributes\":{},\"id\":\"1262\",\"type\":\"LinearScale\"},{\"attributes\":{\"line_alpha\":0.2,\"line_color\":\"blue\",\"line_width\":3,\"x\":{\"field\":\"x\"},\"y\":{\"field\":\"y\"}},\"id\":\"1289\",\"type\":\"Line\"},{\"attributes\":{\"line_alpha\":0.1,\"line_color\":\"blue\",\"line_width\":3,\"x\":{\"field\":\"x\"},\"y\":{\"field\":\"y\"}},\"id\":\"1288\",\"type\":\"Line\"},{\"attributes\":{\"source\":{\"id\":\"1286\"}},\"id\":\"1291\",\"type\":\"CDSView\"},{\"attributes\":{},\"id\":\"1299\",\"type\":\"UnionRenderers\"},{\"attributes\":{\"label\":{\"value\":\"Passengers\"},\"renderers\":[{\"id\":\"1290\"}]},\"id\":\"1303\",\"type\":\"LegendItem\"},{\"attributes\":{\"coordinates\":null,\"data_source\":{\"id\":\"1286\"},\"glyph\":{\"id\":\"1287\"},\"group\":null,\"hover_glyph\":null,\"muted_glyph\":{\"id\":\"1289\"},\"nonselection_glyph\":{\"id\":\"1288\"},\"view\":{\"id\":\"1291\"}},\"id\":\"1290\",\"type\":\"GlyphRenderer\"}],\"root_ids\":[\"1253\"]},\"title\":\"Bokeh Application\",\"version\":\"2.4.2\"}};\n  const render_items = [{\"docid\":\"a995e46f-ff85-4aac-b325-d60134c43d40\",\"root_ids\":[\"1253\"],\"roots\":{\"1253\":\"cdeea98f-f7bc-451f-86f8-d9a907e6c340\"}}];\n  root.Bokeh.embed.embed_items_notebook(docs_json, render_items);\n\n  }\n  if (root.Bokeh !== undefined) {\n    embed_document(root);\n  } else {\n    let attempts = 0;\n    const timer = setInterval(function(root) {\n      if (root.Bokeh !== undefined) {\n        clearInterval(timer);\n        embed_document(root);\n      } else {\n        attempts++;\n        if (attempts > 100) {\n          clearInterval(timer);\n          console.log(\"Bokeh: ERROR: Unable to run BokehJS code because BokehJS library is missing\");\n        }\n      }\n    }, 10, root)\n  }\n})(window);",
      "application/vnd.bokehjs_exec.v0+json": ""
     },
     "metadata": {
      "application/vnd.bokehjs_exec.v0+json": {
       "id": "1253"
      }
     },
     "output_type": "display_data"
    }
   ],
   "source": [
    "# set up the plot\n",
    "plot = figure(\n",
    "    height=300, width=600,\n",
    "    title='Domestic Airline Passengers (2021)',\n",
    "    )\n",
    "\n",
    "# use data from the monthly_values_df DataFrame\n",
    "x = monthly_values_df.index # x-axis is the number of the month\n",
    "y = monthly_values_df['passengers'] # y-axis is the number of passengers\n",
    "\n",
    "# add a line glyph to the plot\n",
    "plot.line(\n",
    "    x, y,\n",
    "    legend_label=\"Passengers\",\n",
    "    line_width=3,\n",
    "    line_color=\"blue\",\n",
    "    )\n",
    "\n",
    "show(plot)"
   ]
  },
  {
   "cell_type": "markdown",
   "metadata": {},
   "source": [
    "## Scatter Plots\n",
    "\n",
    "A scatter plot is a plot that uses multiple points to visualize data. These\n",
    "points can be represented by different shapes, such as circles, squares, or\n",
    "custom images.\n",
    "\n",
    "Creating a scatter plot follow a similar pattern as creating a line chart:\n",
    "\n",
    "1. Create a new figure using the `figure()` function.\n",
    "2. Add the scatter plot points to the figure using a glyph function\n",
    "(such as `circle()` or `square()`).\n",
    "3. Display the plot using the `show()` function.\n",
    "\n",
    "For example:"
   ]
  },
  {
   "cell_type": "code",
   "execution_count": 10,
   "metadata": {},
   "outputs": [
    {
     "data": {
      "text/html": [
       "\n",
       "\n",
       "\n",
       "\n",
       "\n",
       "\n",
       "  <div class=\"bk-root\" id=\"5989ad98-9e86-49ec-b836-b6ec4d44b4b0\" data-root-id=\"1386\"></div>\n"
      ]
     },
     "metadata": {},
     "output_type": "display_data"
    },
    {
     "data": {
      "application/javascript": "(function(root) {\n  function embed_document(root) {\n    \n  const docs_json = {\"6860db10-fe6e-48f6-89d8-a0d65c49efbd\":{\"defs\":[],\"roots\":{\"references\":[{\"attributes\":{\"below\":[{\"id\":\"1395\"}],\"center\":[{\"id\":\"1398\"},{\"id\":\"1402\"}],\"height\":200,\"left\":[{\"id\":\"1399\"}],\"renderers\":[{\"id\":\"1421\"}],\"title\":{\"id\":\"1455\"},\"toolbar\":{\"id\":\"1410\"},\"width\":400,\"x_range\":{\"id\":\"1387\"},\"x_scale\":{\"id\":\"1391\"},\"y_range\":{\"id\":\"1389\"},\"y_scale\":{\"id\":\"1393\"}},\"id\":\"1386\",\"subtype\":\"Figure\",\"type\":\"Plot\"},{\"attributes\":{\"fill_alpha\":{\"value\":0.1},\"fill_color\":{\"value\":\"#1f77b4\"},\"hatch_alpha\":{\"value\":0.1},\"line_alpha\":{\"value\":0.1},\"line_color\":{\"value\":\"#1f77b4\"},\"size\":{\"value\":15},\"x\":{\"field\":\"x\"},\"y\":{\"field\":\"y\"}},\"id\":\"1419\",\"type\":\"Circle\"},{\"attributes\":{},\"id\":\"1393\",\"type\":\"LinearScale\"},{\"attributes\":{\"source\":{\"id\":\"1417\"}},\"id\":\"1422\",\"type\":\"CDSView\"},{\"attributes\":{},\"id\":\"1408\",\"type\":\"HelpTool\"},{\"attributes\":{},\"id\":\"1396\",\"type\":\"BasicTicker\"},{\"attributes\":{\"axis\":{\"id\":\"1395\"},\"coordinates\":null,\"group\":null,\"ticker\":null},\"id\":\"1398\",\"type\":\"Grid\"},{\"attributes\":{},\"id\":\"1391\",\"type\":\"LinearScale\"},{\"attributes\":{\"data\":{\"x\":[1,2,3,4,5],\"y\":[6,7,2,4,5]},\"selected\":{\"id\":\"1464\"},\"selection_policy\":{\"id\":\"1463\"}},\"id\":\"1417\",\"type\":\"ColumnDataSource\"},{\"attributes\":{},\"id\":\"1463\",\"type\":\"UnionRenderers\"},{\"attributes\":{},\"id\":\"1464\",\"type\":\"Selection\"},{\"attributes\":{\"coordinates\":null,\"formatter\":{\"id\":\"1458\"},\"group\":null,\"major_label_policy\":{\"id\":\"1459\"},\"ticker\":{\"id\":\"1400\"}},\"id\":\"1399\",\"type\":\"LinearAxis\"},{\"attributes\":{\"coordinates\":null,\"group\":null},\"id\":\"1455\",\"type\":\"Title\"},{\"attributes\":{\"axis\":{\"id\":\"1399\"},\"coordinates\":null,\"dimension\":1,\"group\":null,\"ticker\":null},\"id\":\"1402\",\"type\":\"Grid\"},{\"attributes\":{},\"id\":\"1404\",\"type\":\"WheelZoomTool\"},{\"attributes\":{},\"id\":\"1400\",\"type\":\"BasicTicker\"},{\"attributes\":{},\"id\":\"1403\",\"type\":\"PanTool\"},{\"attributes\":{\"tools\":[{\"id\":\"1403\"},{\"id\":\"1404\"},{\"id\":\"1405\"},{\"id\":\"1406\"},{\"id\":\"1407\"},{\"id\":\"1408\"}]},\"id\":\"1410\",\"type\":\"Toolbar\"},{\"attributes\":{},\"id\":\"1387\",\"type\":\"DataRange1d\"},{\"attributes\":{},\"id\":\"1407\",\"type\":\"ResetTool\"},{\"attributes\":{},\"id\":\"1406\",\"type\":\"SaveTool\"},{\"attributes\":{\"bottom_units\":\"screen\",\"coordinates\":null,\"fill_alpha\":0.5,\"fill_color\":\"lightgrey\",\"group\":null,\"left_units\":\"screen\",\"level\":\"overlay\",\"line_alpha\":1.0,\"line_color\":\"black\",\"line_dash\":[4,4],\"line_width\":2,\"right_units\":\"screen\",\"syncable\":false,\"top_units\":\"screen\"},\"id\":\"1409\",\"type\":\"BoxAnnotation\"},{\"attributes\":{\"overlay\":{\"id\":\"1409\"}},\"id\":\"1405\",\"type\":\"BoxZoomTool\"},{\"attributes\":{\"coordinates\":null,\"formatter\":{\"id\":\"1461\"},\"group\":null,\"major_label_policy\":{\"id\":\"1462\"},\"ticker\":{\"id\":\"1396\"}},\"id\":\"1395\",\"type\":\"LinearAxis\"},{\"attributes\":{\"coordinates\":null,\"data_source\":{\"id\":\"1417\"},\"glyph\":{\"id\":\"1418\"},\"group\":null,\"hover_glyph\":null,\"muted_glyph\":{\"id\":\"1420\"},\"nonselection_glyph\":{\"id\":\"1419\"},\"view\":{\"id\":\"1422\"}},\"id\":\"1421\",\"type\":\"GlyphRenderer\"},{\"attributes\":{},\"id\":\"1461\",\"type\":\"BasicTickFormatter\"},{\"attributes\":{},\"id\":\"1458\",\"type\":\"BasicTickFormatter\"},{\"attributes\":{},\"id\":\"1462\",\"type\":\"AllLabels\"},{\"attributes\":{},\"id\":\"1459\",\"type\":\"AllLabels\"},{\"attributes\":{\"fill_color\":{\"value\":\"#1f77b4\"},\"line_color\":{\"value\":\"#1f77b4\"},\"size\":{\"value\":15},\"x\":{\"field\":\"x\"},\"y\":{\"field\":\"y\"}},\"id\":\"1418\",\"type\":\"Circle\"},{\"attributes\":{\"fill_alpha\":{\"value\":0.2},\"fill_color\":{\"value\":\"#1f77b4\"},\"hatch_alpha\":{\"value\":0.2},\"line_alpha\":{\"value\":0.2},\"line_color\":{\"value\":\"#1f77b4\"},\"size\":{\"value\":15},\"x\":{\"field\":\"x\"},\"y\":{\"field\":\"y\"}},\"id\":\"1420\",\"type\":\"Circle\"},{\"attributes\":{},\"id\":\"1389\",\"type\":\"DataRange1d\"}],\"root_ids\":[\"1386\"]},\"title\":\"Bokeh Application\",\"version\":\"2.4.2\"}};\n  const render_items = [{\"docid\":\"6860db10-fe6e-48f6-89d8-a0d65c49efbd\",\"root_ids\":[\"1386\"],\"roots\":{\"1386\":\"5989ad98-9e86-49ec-b836-b6ec4d44b4b0\"}}];\n  root.Bokeh.embed.embed_items_notebook(docs_json, render_items);\n\n  }\n  if (root.Bokeh !== undefined) {\n    embed_document(root);\n  } else {\n    let attempts = 0;\n    const timer = setInterval(function(root) {\n      if (root.Bokeh !== undefined) {\n        clearInterval(timer);\n        embed_document(root);\n      } else {\n        attempts++;\n        if (attempts > 100) {\n          clearInterval(timer);\n          console.log(\"Bokeh: ERROR: Unable to run BokehJS code because BokehJS library is missing\");\n        }\n      }\n    }, 10, root)\n  }\n})(window);",
      "application/vnd.bokehjs_exec.v0+json": ""
     },
     "metadata": {
      "application/vnd.bokehjs_exec.v0+json": {
       "id": "1386"
      }
     },
     "output_type": "display_data"
    }
   ],
   "source": [
    "# create a new plot using the figure function\n",
    "p = figure(width=400, height=200)\n",
    "\n",
    "# add a circle renderer with x and y coordinates and size\n",
    "p.circle([1, 2, 3, 4, 5], [6, 7, 2, 4, 5], size=15)\n",
    "\n",
    "show(p) # show the results"
   ]
  },
  {
   "cell_type": "markdown",
   "metadata": {},
   "source": [
    "Changing the shapes used to represent the points in your scatter plot is easy.\n",
    "Just swap out the `circle()` function for a different glyph function.\n",
    "\n",
    "The cell below contains a scatter plot with different scatter markers that you\n",
    "can try. This example also uses additional arguments to change the color\n",
    "(`color`) and opacity (`alpha`) of the points.\n",
    "\n",
    "Uncomment a glyph function and rerun the cell to see the result:"
   ]
  },
  {
   "cell_type": "code",
   "execution_count": 11,
   "metadata": {},
   "outputs": [
    {
     "data": {
      "text/html": [
       "\n",
       "\n",
       "\n",
       "\n",
       "\n",
       "\n",
       "  <div class=\"bk-root\" id=\"b9d3d335-1364-4106-a98f-5b97be1ba392\" data-root-id=\"1521\"></div>\n"
      ]
     },
     "metadata": {},
     "output_type": "display_data"
    },
    {
     "data": {
      "application/javascript": "(function(root) {\n  function embed_document(root) {\n    \n  const docs_json = {\"9c773b2d-9597-4fde-acc0-00962f9224e4\":{\"defs\":[],\"roots\":{\"references\":[{\"attributes\":{\"below\":[{\"id\":\"1530\"}],\"center\":[{\"id\":\"1533\"},{\"id\":\"1537\"}],\"height\":200,\"left\":[{\"id\":\"1534\"}],\"renderers\":[{\"id\":\"1556\"}],\"title\":{\"id\":\"1601\"},\"toolbar\":{\"id\":\"1545\"},\"width\":400,\"x_range\":{\"id\":\"1522\"},\"x_scale\":{\"id\":\"1526\"},\"y_range\":{\"id\":\"1524\"},\"y_scale\":{\"id\":\"1528\"}},\"id\":\"1521\",\"subtype\":\"Figure\",\"type\":\"Plot\"},{\"attributes\":{},\"id\":\"1543\",\"type\":\"HelpTool\"},{\"attributes\":{\"fill_alpha\":{\"value\":0.5},\"fill_color\":{\"value\":\"red\"},\"hatch_alpha\":{\"value\":0.5},\"hatch_color\":{\"value\":\"red\"},\"line_alpha\":{\"value\":0.5},\"line_color\":{\"value\":\"red\"},\"marker\":{\"value\":\"triangle\"},\"size\":{\"value\":15},\"x\":{\"field\":\"x\"},\"y\":{\"field\":\"y\"}},\"id\":\"1553\",\"type\":\"Scatter\"},{\"attributes\":{},\"id\":\"1608\",\"type\":\"AllLabels\"},{\"attributes\":{},\"id\":\"1605\",\"type\":\"AllLabels\"},{\"attributes\":{},\"id\":\"1604\",\"type\":\"BasicTickFormatter\"},{\"attributes\":{},\"id\":\"1522\",\"type\":\"DataRange1d\"},{\"attributes\":{\"source\":{\"id\":\"1552\"}},\"id\":\"1557\",\"type\":\"CDSView\"},{\"attributes\":{\"tools\":[{\"id\":\"1538\"},{\"id\":\"1539\"},{\"id\":\"1540\"},{\"id\":\"1541\"},{\"id\":\"1542\"},{\"id\":\"1543\"}]},\"id\":\"1545\",\"type\":\"Toolbar\"},{\"attributes\":{\"coordinates\":null,\"formatter\":{\"id\":\"1607\"},\"group\":null,\"major_label_policy\":{\"id\":\"1608\"},\"ticker\":{\"id\":\"1531\"}},\"id\":\"1530\",\"type\":\"LinearAxis\"},{\"attributes\":{},\"id\":\"1526\",\"type\":\"LinearScale\"},{\"attributes\":{},\"id\":\"1528\",\"type\":\"LinearScale\"},{\"attributes\":{\"data\":{\"x\":[1,2,3,4,5],\"y\":[6,7,2,4,5]},\"selected\":{\"id\":\"1610\"},\"selection_policy\":{\"id\":\"1609\"}},\"id\":\"1552\",\"type\":\"ColumnDataSource\"},{\"attributes\":{},\"id\":\"1524\",\"type\":\"DataRange1d\"},{\"attributes\":{\"coordinates\":null,\"formatter\":{\"id\":\"1604\"},\"group\":null,\"major_label_policy\":{\"id\":\"1605\"},\"ticker\":{\"id\":\"1535\"}},\"id\":\"1534\",\"type\":\"LinearAxis\"},{\"attributes\":{\"bottom_units\":\"screen\",\"coordinates\":null,\"fill_alpha\":0.5,\"fill_color\":\"lightgrey\",\"group\":null,\"left_units\":\"screen\",\"level\":\"overlay\",\"line_alpha\":1.0,\"line_color\":\"black\",\"line_dash\":[4,4],\"line_width\":2,\"right_units\":\"screen\",\"syncable\":false,\"top_units\":\"screen\"},\"id\":\"1544\",\"type\":\"BoxAnnotation\"},{\"attributes\":{},\"id\":\"1610\",\"type\":\"Selection\"},{\"attributes\":{},\"id\":\"1607\",\"type\":\"BasicTickFormatter\"},{\"attributes\":{},\"id\":\"1609\",\"type\":\"UnionRenderers\"},{\"attributes\":{\"coordinates\":null,\"data_source\":{\"id\":\"1552\"},\"glyph\":{\"id\":\"1553\"},\"group\":null,\"hover_glyph\":null,\"muted_glyph\":{\"id\":\"1555\"},\"nonselection_glyph\":{\"id\":\"1554\"},\"view\":{\"id\":\"1557\"}},\"id\":\"1556\",\"type\":\"GlyphRenderer\"},{\"attributes\":{},\"id\":\"1542\",\"type\":\"ResetTool\"},{\"attributes\":{},\"id\":\"1541\",\"type\":\"SaveTool\"},{\"attributes\":{\"overlay\":{\"id\":\"1544\"}},\"id\":\"1540\",\"type\":\"BoxZoomTool\"},{\"attributes\":{},\"id\":\"1538\",\"type\":\"PanTool\"},{\"attributes\":{},\"id\":\"1539\",\"type\":\"WheelZoomTool\"},{\"attributes\":{},\"id\":\"1535\",\"type\":\"BasicTicker\"},{\"attributes\":{\"axis\":{\"id\":\"1534\"},\"coordinates\":null,\"dimension\":1,\"group\":null,\"ticker\":null},\"id\":\"1537\",\"type\":\"Grid\"},{\"attributes\":{\"fill_alpha\":{\"value\":0.1},\"fill_color\":{\"value\":\"red\"},\"hatch_alpha\":{\"value\":0.1},\"hatch_color\":{\"value\":\"red\"},\"line_alpha\":{\"value\":0.1},\"line_color\":{\"value\":\"red\"},\"marker\":{\"value\":\"triangle\"},\"size\":{\"value\":15},\"x\":{\"field\":\"x\"},\"y\":{\"field\":\"y\"}},\"id\":\"1554\",\"type\":\"Scatter\"},{\"attributes\":{\"fill_alpha\":{\"value\":0.2},\"fill_color\":{\"value\":\"red\"},\"hatch_alpha\":{\"value\":0.2},\"hatch_color\":{\"value\":\"red\"},\"line_alpha\":{\"value\":0.2},\"line_color\":{\"value\":\"red\"},\"marker\":{\"value\":\"triangle\"},\"size\":{\"value\":15},\"x\":{\"field\":\"x\"},\"y\":{\"field\":\"y\"}},\"id\":\"1555\",\"type\":\"Scatter\"},{\"attributes\":{\"axis\":{\"id\":\"1530\"},\"coordinates\":null,\"group\":null,\"ticker\":null},\"id\":\"1533\",\"type\":\"Grid\"},{\"attributes\":{\"coordinates\":null,\"group\":null},\"id\":\"1601\",\"type\":\"Title\"},{\"attributes\":{},\"id\":\"1531\",\"type\":\"BasicTicker\"}],\"root_ids\":[\"1521\"]},\"title\":\"Bokeh Application\",\"version\":\"2.4.2\"}};\n  const render_items = [{\"docid\":\"9c773b2d-9597-4fde-acc0-00962f9224e4\",\"root_ids\":[\"1521\"],\"roots\":{\"1521\":\"b9d3d335-1364-4106-a98f-5b97be1ba392\"}}];\n  root.Bokeh.embed.embed_items_notebook(docs_json, render_items);\n\n  }\n  if (root.Bokeh !== undefined) {\n    embed_document(root);\n  } else {\n    let attempts = 0;\n    const timer = setInterval(function(root) {\n      if (root.Bokeh !== undefined) {\n        clearInterval(timer);\n        embed_document(root);\n      } else {\n        attempts++;\n        if (attempts > 100) {\n          clearInterval(timer);\n          console.log(\"Bokeh: ERROR: Unable to run BokehJS code because BokehJS library is missing\");\n        }\n      }\n    }, 10, root)\n  }\n})(window);",
      "application/vnd.bokehjs_exec.v0+json": ""
     },
     "metadata": {
      "application/vnd.bokehjs_exec.v0+json": {
       "id": "1521"
      }
     },
     "output_type": "display_data"
    }
   ],
   "source": [
    "# create a new plot and defien some data\n",
    "p = figure(width=400, height=200)\n",
    "x = [1, 2, 3, 4, 5]\n",
    "y = [6, 7, 2, 4, 5]\n",
    "\n",
    "# use one the different glyph functions to see what they do\n",
    "p.triangle(x, y, size=15, color=\"red\", alpha=0.5)\n",
    "# p.triangle_dot(x, y, size=15, color=\"yellow\", alpha=0.5)\n",
    "# p.square(x, y, size=15, color=\"pink\", alpha=0.5)\n",
    "# p.square_dot(x, y, size=15, color=\"blue\", alpha=0.5)\n",
    "# p.square_cross(x, y, size=15, color=\"green\", alpha=0.5)\n",
    "# p.square_pin(x, y, size=15, color=\"maroon\", alpha=0.5)\n",
    "# p.asterisk(x, y, size=15, color=\"orange\", alpha=0.5)\n",
    "\n",
    "show(p) # show the results"
   ]
  },
  {
   "cell_type": "markdown",
   "metadata": {},
   "source": [
    "See [Scatter markers](https://docs.bokeh.org/en/latest/docs/user_guide/basic/scatters.html#scatter-markers)\n",
    "in the Bokeh user guide for an overview of all available scatter markers."
   ]
  },
  {
   "cell_type": "markdown",
   "metadata": {},
   "source": [
    "### Combining glyphs in a single plot\n",
    "\n",
    "So far, you have created a single line chart and a single scatter plot.\n",
    "However, you can also combine multiple glyphs in a single plot.\n",
    "\n",
    "All you need to do is call multiple glyph functions on the same figure:"
   ]
  },
  {
   "cell_type": "code",
   "execution_count": 12,
   "metadata": {},
   "outputs": [
    {
     "data": {
      "text/html": [
       "\n",
       "\n",
       "\n",
       "\n",
       "\n",
       "\n",
       "  <div class=\"bk-root\" id=\"23b9a60b-3ad3-48df-8041-4b08723a16d1\" data-root-id=\"1667\"></div>\n"
      ]
     },
     "metadata": {},
     "output_type": "display_data"
    },
    {
     "data": {
      "application/javascript": "(function(root) {\n  function embed_document(root) {\n    \n  const docs_json = {\"346c9d0d-671d-4031-b3b5-cd3f785b7d44\":{\"defs\":[],\"roots\":{\"references\":[{\"attributes\":{\"below\":[{\"id\":\"1676\"}],\"center\":[{\"id\":\"1679\"},{\"id\":\"1683\"}],\"height\":300,\"left\":[{\"id\":\"1680\"}],\"renderers\":[{\"id\":\"1702\"},{\"id\":\"1708\"}],\"title\":{\"id\":\"1764\"},\"toolbar\":{\"id\":\"1691\"},\"width\":300,\"x_range\":{\"id\":\"1668\"},\"x_scale\":{\"id\":\"1672\"},\"y_range\":{\"id\":\"1670\"},\"y_scale\":{\"id\":\"1674\"}},\"id\":\"1667\",\"subtype\":\"Figure\",\"type\":\"Plot\"},{\"attributes\":{},\"id\":\"1774\",\"type\":\"UnionRenderers\"},{\"attributes\":{\"bottom_units\":\"screen\",\"coordinates\":null,\"fill_alpha\":0.5,\"fill_color\":\"lightgrey\",\"group\":null,\"left_units\":\"screen\",\"level\":\"overlay\",\"line_alpha\":1.0,\"line_color\":\"black\",\"line_dash\":[4,4],\"line_width\":2,\"right_units\":\"screen\",\"syncable\":false,\"top_units\":\"screen\"},\"id\":\"1690\",\"type\":\"BoxAnnotation\"},{\"attributes\":{},\"id\":\"1775\",\"type\":\"Selection\"},{\"attributes\":{\"source\":{\"id\":\"1704\"}},\"id\":\"1709\",\"type\":\"CDSView\"},{\"attributes\":{},\"id\":\"1767\",\"type\":\"BasicTickFormatter\"},{\"attributes\":{\"source\":{\"id\":\"1698\"}},\"id\":\"1703\",\"type\":\"CDSView\"},{\"attributes\":{},\"id\":\"1681\",\"type\":\"BasicTicker\"},{\"attributes\":{},\"id\":\"1768\",\"type\":\"AllLabels\"},{\"attributes\":{},\"id\":\"1674\",\"type\":\"LinearScale\"},{\"attributes\":{},\"id\":\"1685\",\"type\":\"WheelZoomTool\"},{\"attributes\":{\"line_alpha\":0.2,\"line_color\":\"#1f77b4\",\"x\":{\"field\":\"x\"},\"y\":{\"field\":\"y\"}},\"id\":\"1701\",\"type\":\"Line\"},{\"attributes\":{},\"id\":\"1688\",\"type\":\"ResetTool\"},{\"attributes\":{\"line_alpha\":0.1,\"line_color\":\"#1f77b4\",\"x\":{\"field\":\"x\"},\"y\":{\"field\":\"y\"}},\"id\":\"1700\",\"type\":\"Line\"},{\"attributes\":{\"overlay\":{\"id\":\"1690\"}},\"id\":\"1686\",\"type\":\"BoxZoomTool\"},{\"attributes\":{},\"id\":\"1770\",\"type\":\"BasicTickFormatter\"},{\"attributes\":{\"line_color\":\"#1f77b4\",\"x\":{\"field\":\"x\"},\"y\":{\"field\":\"y\"}},\"id\":\"1699\",\"type\":\"Line\"},{\"attributes\":{},\"id\":\"1677\",\"type\":\"BasicTicker\"},{\"attributes\":{\"coordinates\":null,\"data_source\":{\"id\":\"1704\"},\"glyph\":{\"id\":\"1705\"},\"group\":null,\"hover_glyph\":null,\"muted_glyph\":{\"id\":\"1707\"},\"nonselection_glyph\":{\"id\":\"1706\"},\"view\":{\"id\":\"1709\"}},\"id\":\"1708\",\"type\":\"GlyphRenderer\"},{\"attributes\":{},\"id\":\"1771\",\"type\":\"AllLabels\"},{\"attributes\":{\"coordinates\":null,\"group\":null},\"id\":\"1764\",\"type\":\"Title\"},{\"attributes\":{\"fill_alpha\":{\"value\":0.2},\"fill_color\":{\"value\":\"red\"},\"hatch_alpha\":{\"value\":0.2},\"hatch_color\":{\"value\":\"red\"},\"line_alpha\":{\"value\":0.2},\"line_color\":{\"value\":\"red\"},\"marker\":{\"value\":\"circle_dot\"},\"size\":{\"value\":15},\"x\":{\"field\":\"x\"},\"y\":{\"field\":\"y\"}},\"id\":\"1707\",\"type\":\"Scatter\"},{\"attributes\":{\"tools\":[{\"id\":\"1684\"},{\"id\":\"1685\"},{\"id\":\"1686\"},{\"id\":\"1687\"},{\"id\":\"1688\"},{\"id\":\"1689\"}]},\"id\":\"1691\",\"type\":\"Toolbar\"},{\"attributes\":{\"fill_alpha\":{\"value\":0.1},\"fill_color\":{\"value\":\"red\"},\"hatch_alpha\":{\"value\":0.1},\"hatch_color\":{\"value\":\"red\"},\"line_alpha\":{\"value\":0.1},\"line_color\":{\"value\":\"red\"},\"marker\":{\"value\":\"circle_dot\"},\"size\":{\"value\":15},\"x\":{\"field\":\"x\"},\"y\":{\"field\":\"y\"}},\"id\":\"1706\",\"type\":\"Scatter\"},{\"attributes\":{},\"id\":\"1772\",\"type\":\"UnionRenderers\"},{\"attributes\":{\"coordinates\":null,\"formatter\":{\"id\":\"1767\"},\"group\":null,\"major_label_policy\":{\"id\":\"1768\"},\"ticker\":{\"id\":\"1681\"}},\"id\":\"1680\",\"type\":\"LinearAxis\"},{\"attributes\":{},\"id\":\"1670\",\"type\":\"DataRange1d\"},{\"attributes\":{\"axis\":{\"id\":\"1676\"},\"coordinates\":null,\"group\":null,\"ticker\":null},\"id\":\"1679\",\"type\":\"Grid\"},{\"attributes\":{\"data\":{\"x\":[1,2,3,4,5],\"y\":[6,7,2,1,5]},\"selected\":{\"id\":\"1773\"},\"selection_policy\":{\"id\":\"1772\"}},\"id\":\"1698\",\"type\":\"ColumnDataSource\"},{\"attributes\":{},\"id\":\"1773\",\"type\":\"Selection\"},{\"attributes\":{},\"id\":\"1687\",\"type\":\"SaveTool\"},{\"attributes\":{\"coordinates\":null,\"formatter\":{\"id\":\"1770\"},\"group\":null,\"major_label_policy\":{\"id\":\"1771\"},\"ticker\":{\"id\":\"1677\"}},\"id\":\"1676\",\"type\":\"LinearAxis\"},{\"attributes\":{\"coordinates\":null,\"data_source\":{\"id\":\"1698\"},\"glyph\":{\"id\":\"1699\"},\"group\":null,\"hover_glyph\":null,\"muted_glyph\":{\"id\":\"1701\"},\"nonselection_glyph\":{\"id\":\"1700\"},\"view\":{\"id\":\"1703\"}},\"id\":\"1702\",\"type\":\"GlyphRenderer\"},{\"attributes\":{\"axis\":{\"id\":\"1680\"},\"coordinates\":null,\"dimension\":1,\"group\":null,\"ticker\":null},\"id\":\"1683\",\"type\":\"Grid\"},{\"attributes\":{},\"id\":\"1689\",\"type\":\"HelpTool\"},{\"attributes\":{\"fill_alpha\":{\"value\":0.5},\"fill_color\":{\"value\":\"red\"},\"hatch_alpha\":{\"value\":0.5},\"hatch_color\":{\"value\":\"red\"},\"line_alpha\":{\"value\":0.5},\"line_color\":{\"value\":\"red\"},\"marker\":{\"value\":\"circle_dot\"},\"size\":{\"value\":15},\"x\":{\"field\":\"x\"},\"y\":{\"field\":\"y\"}},\"id\":\"1705\",\"type\":\"Scatter\"},{\"attributes\":{},\"id\":\"1672\",\"type\":\"LinearScale\"},{\"attributes\":{},\"id\":\"1684\",\"type\":\"PanTool\"},{\"attributes\":{},\"id\":\"1668\",\"type\":\"DataRange1d\"},{\"attributes\":{\"data\":{\"x\":[1,2,3,4,5],\"y\":[6,7,2,1,5]},\"selected\":{\"id\":\"1775\"},\"selection_policy\":{\"id\":\"1774\"}},\"id\":\"1704\",\"type\":\"ColumnDataSource\"}],\"root_ids\":[\"1667\"]},\"title\":\"Bokeh Application\",\"version\":\"2.4.2\"}};\n  const render_items = [{\"docid\":\"346c9d0d-671d-4031-b3b5-cd3f785b7d44\",\"root_ids\":[\"1667\"],\"roots\":{\"1667\":\"23b9a60b-3ad3-48df-8041-4b08723a16d1\"}}];\n  root.Bokeh.embed.embed_items_notebook(docs_json, render_items);\n\n  }\n  if (root.Bokeh !== undefined) {\n    embed_document(root);\n  } else {\n    let attempts = 0;\n    const timer = setInterval(function(root) {\n      if (root.Bokeh !== undefined) {\n        clearInterval(timer);\n        embed_document(root);\n      } else {\n        attempts++;\n        if (attempts > 100) {\n          clearInterval(timer);\n          console.log(\"Bokeh: ERROR: Unable to run BokehJS code because BokehJS library is missing\");\n        }\n      }\n    }, 10, root)\n  }\n})(window);",
      "application/vnd.bokehjs_exec.v0+json": ""
     },
     "metadata": {
      "application/vnd.bokehjs_exec.v0+json": {
       "id": "1667"
      }
     },
     "output_type": "display_data"
    }
   ],
   "source": [
    "plot = figure(height=300, width=300)\n",
    "x = [1, 2, 3, 4, 5]\n",
    "y = [6, 7, 2, 1, 5]\n",
    "\n",
    "# add a line chart to the plot\n",
    "plot.line(x, y)\n",
    "\n",
    "# add scatter markers to the plot\n",
    "plot.circle_dot(x, y, size=15, color=\"red\", alpha=0.5)\n",
    "\n",
    "show(plot)"
   ]
  },
  {
   "cell_type": "markdown",
   "metadata": {},
   "source": [
    "### Categorical data in bar charts\n",
    "\n",
    "Bar charts represent data for different categories as vertical or horizontal\n",
    "bars.\n",
    "\n",
    "In the examples so far, you have used a continuous range for the x-axis.\n",
    "Bar charts are a great way to visualize categorical data.\n",
    "This means that the x-axis is not a continuous range, but a set of discrete categories.\n",
    "For example, a list of countries or a list of different products.\n",
    "\n",
    "In the example below, you will create a bar chart that shows a count for\n",
    "different kinds of fruits.\n",
    "\n",
    "The different fruits are the categories.\n",
    "To use categories instead of a continuous range of numbers, the `figure()` function\n",
    "has a parameter called `x_range`.\n",
    "This is where you pass the list of fruits.\n",
    "\n",
    "The glyph function for vertical bars is called `vbar()`.\n",
    "The height of the bars is determined by the `top` parameter.\n",
    "The `x` parameter determines which category the bar belongs to."
   ]
  },
  {
   "cell_type": "code",
   "execution_count": 13,
   "metadata": {},
   "outputs": [
    {
     "data": {
      "text/html": [
       "\n",
       "\n",
       "\n",
       "\n",
       "\n",
       "\n",
       "  <div class=\"bk-root\" id=\"b8a2a948-1108-435c-86c4-590c20391879\" data-root-id=\"1842\"></div>\n"
      ]
     },
     "metadata": {},
     "output_type": "display_data"
    },
    {
     "data": {
      "application/javascript": "(function(root) {\n  function embed_document(root) {\n    \n  const docs_json = {\"b193b9f4-fcbb-462e-8058-1e5f7db202dd\":{\"defs\":[],\"roots\":{\"references\":[{\"attributes\":{\"below\":[{\"id\":\"1853\"}],\"center\":[{\"id\":\"1855\"},{\"id\":\"1859\"}],\"height\":350,\"left\":[{\"id\":\"1856\"}],\"renderers\":[{\"id\":\"1878\"}],\"title\":{\"id\":\"1843\"},\"toolbar\":{\"id\":\"1867\"},\"x_range\":{\"id\":\"1845\"},\"x_scale\":{\"id\":\"1849\"},\"y_range\":{\"id\":\"1847\"},\"y_scale\":{\"id\":\"1851\"}},\"id\":\"1842\",\"subtype\":\"Figure\",\"type\":\"Plot\"},{\"attributes\":{\"fill_alpha\":{\"value\":0.2},\"fill_color\":{\"value\":\"firebrick\"},\"hatch_alpha\":{\"value\":0.2},\"hatch_color\":{\"value\":\"firebrick\"},\"line_alpha\":{\"value\":0.2},\"line_color\":{\"value\":\"firebrick\"},\"top\":{\"field\":\"top\"},\"width\":{\"value\":0.9},\"x\":{\"field\":\"x\"}},\"id\":\"1877\",\"type\":\"VBar\"},{\"attributes\":{\"fill_color\":{\"value\":\"firebrick\"},\"hatch_color\":{\"value\":\"firebrick\"},\"line_color\":{\"value\":\"firebrick\"},\"top\":{\"field\":\"top\"},\"width\":{\"value\":0.9},\"x\":{\"field\":\"x\"}},\"id\":\"1875\",\"type\":\"VBar\"},{\"attributes\":{},\"id\":\"1854\",\"type\":\"CategoricalTicker\"},{\"attributes\":{},\"id\":\"1849\",\"type\":\"CategoricalScale\"},{\"attributes\":{},\"id\":\"1864\",\"type\":\"ResetTool\"},{\"attributes\":{},\"id\":\"1851\",\"type\":\"LinearScale\"},{\"attributes\":{\"coordinates\":null,\"formatter\":{\"id\":\"1949\"},\"group\":null,\"major_label_policy\":{\"id\":\"1950\"},\"ticker\":{\"id\":\"1857\"}},\"id\":\"1856\",\"type\":\"LinearAxis\"},{\"attributes\":{},\"id\":\"1863\",\"type\":\"SaveTool\"},{\"attributes\":{\"axis\":{\"id\":\"1853\"},\"coordinates\":null,\"group\":null,\"ticker\":null},\"id\":\"1855\",\"type\":\"Grid\"},{\"attributes\":{\"overlay\":{\"id\":\"1866\"}},\"id\":\"1862\",\"type\":\"BoxZoomTool\"},{\"attributes\":{\"coordinates\":null,\"formatter\":{\"id\":\"1952\"},\"group\":null,\"major_label_policy\":{\"id\":\"1953\"},\"ticker\":{\"id\":\"1854\"}},\"id\":\"1853\",\"type\":\"CategoricalAxis\"},{\"attributes\":{},\"id\":\"1860\",\"type\":\"PanTool\"},{\"attributes\":{\"coordinates\":null,\"group\":null,\"text\":\"Fruit Counts\"},\"id\":\"1843\",\"type\":\"Title\"},{\"attributes\":{},\"id\":\"1847\",\"type\":\"DataRange1d\"},{\"attributes\":{},\"id\":\"1952\",\"type\":\"CategoricalTickFormatter\"},{\"attributes\":{},\"id\":\"1861\",\"type\":\"WheelZoomTool\"},{\"attributes\":{\"factors\":[\"Apples\",\"Pears\",\"Nectarines\",\"Plums\",\"Grapes\",\"Strawberries\"]},\"id\":\"1845\",\"type\":\"FactorRange\"},{\"attributes\":{},\"id\":\"1949\",\"type\":\"BasicTickFormatter\"},{\"attributes\":{},\"id\":\"1950\",\"type\":\"AllLabels\"},{\"attributes\":{},\"id\":\"1865\",\"type\":\"HelpTool\"},{\"attributes\":{\"data\":{\"top\":[5,3,4,2,4,6],\"x\":[\"Apples\",\"Pears\",\"Nectarines\",\"Plums\",\"Grapes\",\"Strawberries\"]},\"selected\":{\"id\":\"1955\"},\"selection_policy\":{\"id\":\"1954\"}},\"id\":\"1874\",\"type\":\"ColumnDataSource\"},{\"attributes\":{\"source\":{\"id\":\"1874\"}},\"id\":\"1879\",\"type\":\"CDSView\"},{\"attributes\":{},\"id\":\"1954\",\"type\":\"UnionRenderers\"},{\"attributes\":{\"tools\":[{\"id\":\"1860\"},{\"id\":\"1861\"},{\"id\":\"1862\"},{\"id\":\"1863\"},{\"id\":\"1864\"},{\"id\":\"1865\"}]},\"id\":\"1867\",\"type\":\"Toolbar\"},{\"attributes\":{},\"id\":\"1953\",\"type\":\"AllLabels\"},{\"attributes\":{},\"id\":\"1857\",\"type\":\"BasicTicker\"},{\"attributes\":{\"axis\":{\"id\":\"1856\"},\"coordinates\":null,\"dimension\":1,\"group\":null,\"ticker\":null},\"id\":\"1859\",\"type\":\"Grid\"},{\"attributes\":{\"coordinates\":null,\"data_source\":{\"id\":\"1874\"},\"glyph\":{\"id\":\"1875\"},\"group\":null,\"hover_glyph\":null,\"muted_glyph\":{\"id\":\"1877\"},\"nonselection_glyph\":{\"id\":\"1876\"},\"view\":{\"id\":\"1879\"}},\"id\":\"1878\",\"type\":\"GlyphRenderer\"},{\"attributes\":{\"bottom_units\":\"screen\",\"coordinates\":null,\"fill_alpha\":0.5,\"fill_color\":\"lightgrey\",\"group\":null,\"left_units\":\"screen\",\"level\":\"overlay\",\"line_alpha\":1.0,\"line_color\":\"black\",\"line_dash\":[4,4],\"line_width\":2,\"right_units\":\"screen\",\"syncable\":false,\"top_units\":\"screen\"},\"id\":\"1866\",\"type\":\"BoxAnnotation\"},{\"attributes\":{\"fill_alpha\":{\"value\":0.1},\"fill_color\":{\"value\":\"firebrick\"},\"hatch_alpha\":{\"value\":0.1},\"hatch_color\":{\"value\":\"firebrick\"},\"line_alpha\":{\"value\":0.1},\"line_color\":{\"value\":\"firebrick\"},\"top\":{\"field\":\"top\"},\"width\":{\"value\":0.9},\"x\":{\"field\":\"x\"}},\"id\":\"1876\",\"type\":\"VBar\"},{\"attributes\":{},\"id\":\"1955\",\"type\":\"Selection\"}],\"root_ids\":[\"1842\"]},\"title\":\"Bokeh Application\",\"version\":\"2.4.2\"}};\n  const render_items = [{\"docid\":\"b193b9f4-fcbb-462e-8058-1e5f7db202dd\",\"root_ids\":[\"1842\"],\"roots\":{\"1842\":\"b8a2a948-1108-435c-86c4-590c20391879\"}}];\n  root.Bokeh.embed.embed_items_notebook(docs_json, render_items);\n\n  }\n  if (root.Bokeh !== undefined) {\n    embed_document(root);\n  } else {\n    let attempts = 0;\n    const timer = setInterval(function(root) {\n      if (root.Bokeh !== undefined) {\n        clearInterval(timer);\n        embed_document(root);\n      } else {\n        attempts++;\n        if (attempts > 100) {\n          clearInterval(timer);\n          console.log(\"Bokeh: ERROR: Unable to run BokehJS code because BokehJS library is missing\");\n        }\n      }\n    }, 10, root)\n  }\n})(window);",
      "application/vnd.bokehjs_exec.v0+json": ""
     },
     "metadata": {
      "application/vnd.bokehjs_exec.v0+json": {
       "id": "1842"
      }
     },
     "output_type": "display_data"
    }
   ],
   "source": [
    "fruits = ['Apples', 'Pears', 'Nectarines', 'Plums', 'Grapes', 'Strawberries']  # a set of categories\n",
    "counts = [5, 3, 4, 2, 4, 6]\n",
    "\n",
    "p = figure(\n",
    "    x_range=fruits, # define the categories on the x-axis\n",
    "    height=350,\n",
    "    title=\"Fruit Counts\"\n",
    "    )\n",
    "\n",
    "p.vbar(x=fruits, top=counts, width=0.9, color=\"firebrick\")\n",
    "\n",
    "show(p)"
   ]
  },
  {
   "cell_type": "markdown",
   "metadata": {},
   "source": [
    "### Bar chart example\n",
    "\n",
    "In the air travel dashboard you are building, a bar chart is used to visualize\n",
    "the number of passengers for the top 10 airlines.\n",
    "\n",
    "This chart uses the `airlines_by_passengers_df` DataFrame:"
   ]
  },
  {
   "cell_type": "code",
   "execution_count": 14,
   "metadata": {},
   "outputs": [
    {
     "data": {
      "text/html": [
       "<div>\n",
       "<style scoped>\n",
       "    .dataframe tbody tr th:only-of-type {\n",
       "        vertical-align: middle;\n",
       "    }\n",
       "\n",
       "    .dataframe tbody tr th {\n",
       "        vertical-align: top;\n",
       "    }\n",
       "\n",
       "    .dataframe thead th {\n",
       "        text-align: right;\n",
       "    }\n",
       "</style>\n",
       "<table border=\"1\" class=\"dataframe\">\n",
       "  <thead>\n",
       "    <tr style=\"text-align: right;\">\n",
       "      <th></th>\n",
       "      <th>unique_carrier_name</th>\n",
       "      <th>unique_carrier</th>\n",
       "      <th>passengers</th>\n",
       "      <th>position</th>\n",
       "    </tr>\n",
       "  </thead>\n",
       "  <tbody>\n",
       "    <tr>\n",
       "      <th>0</th>\n",
       "      <td>Southwest Airlines Co.</td>\n",
       "      <td>WN</td>\n",
       "      <td>120715882</td>\n",
       "      <td>1</td>\n",
       "    </tr>\n",
       "    <tr>\n",
       "      <th>1</th>\n",
       "      <td>American Airlines Inc.</td>\n",
       "      <td>AA</td>\n",
       "      <td>99225144</td>\n",
       "      <td>2</td>\n",
       "    </tr>\n",
       "    <tr>\n",
       "      <th>2</th>\n",
       "      <td>Delta Air Lines Inc.</td>\n",
       "      <td>DL</td>\n",
       "      <td>92633601</td>\n",
       "      <td>3</td>\n",
       "    </tr>\n",
       "    <tr>\n",
       "      <th>3</th>\n",
       "      <td>United Air Lines Inc.</td>\n",
       "      <td>UA</td>\n",
       "      <td>58899326</td>\n",
       "      <td>4</td>\n",
       "    </tr>\n",
       "    <tr>\n",
       "      <th>4</th>\n",
       "      <td>SkyWest Airlines Inc.</td>\n",
       "      <td>OO</td>\n",
       "      <td>35069897</td>\n",
       "      <td>5</td>\n",
       "    </tr>\n",
       "  </tbody>\n",
       "</table>\n",
       "</div>"
      ],
      "text/plain": [
       "      unique_carrier_name unique_carrier  passengers  position\n",
       "0  Southwest Airlines Co.             WN   120715882         1\n",
       "1  American Airlines Inc.             AA    99225144         2\n",
       "2    Delta Air Lines Inc.             DL    92633601         3\n",
       "3   United Air Lines Inc.             UA    58899326         4\n",
       "4   SkyWest Airlines Inc.             OO    35069897         5"
      ]
     },
     "execution_count": 14,
     "metadata": {},
     "output_type": "execute_result"
    }
   ],
   "source": [
    "airlines_by_passengers_df = data.get_biggest_airlines_by_passengers()\n",
    "airlines_by_passengers_df.head()"
   ]
  },
  {
   "cell_type": "markdown",
   "metadata": {},
   "source": [
    "Use `figure()` with the `height`, `width` and `title` parameters to create a new\n",
    "plot. Next, load the data from the `monthly_values_df` data frame. Use this data\n",
    "do add a line glyph to the plot, using `line()` with some of the parameters you\n",
    "saw above. Finally, use `show()` to display the plot:"
   ]
  },
  {
   "cell_type": "code",
   "execution_count": 15,
   "metadata": {},
   "outputs": [
    {
     "data": {
      "text/html": [
       "\n",
       "\n",
       "\n",
       "\n",
       "\n",
       "\n",
       "  <div class=\"bk-root\" id=\"88743139-b5c1-47a4-ba88-9717cf14fab4\" data-root-id=\"2007\"></div>\n"
      ]
     },
     "metadata": {},
     "output_type": "display_data"
    },
    {
     "data": {
      "application/javascript": "(function(root) {\n  function embed_document(root) {\n    \n  const docs_json = {\"de9148d8-cccf-40e9-9bba-0ada171694b7\":{\"defs\":[],\"roots\":{\"references\":[{\"attributes\":{\"below\":[{\"id\":\"2018\"}],\"center\":[{\"id\":\"2020\"},{\"id\":\"2024\"},{\"id\":\"2055\"}],\"height\":300,\"left\":[{\"id\":\"2021\"}],\"renderers\":[{\"id\":\"2043\"}],\"title\":{\"id\":\"2008\"},\"toolbar\":{\"id\":\"2032\"},\"x_range\":{\"id\":\"2010\"},\"x_scale\":{\"id\":\"2014\"},\"y_range\":{\"id\":\"2012\"},\"y_scale\":{\"id\":\"2016\"}},\"id\":\"2007\",\"subtype\":\"Figure\",\"type\":\"Plot\"},{\"attributes\":{\"fill_alpha\":{\"value\":0.1},\"fill_color\":{\"value\":\"#1f77b4\"},\"hatch_alpha\":{\"value\":0.1},\"line_alpha\":{\"value\":0.1},\"line_color\":{\"value\":\"#1f77b4\"},\"top\":{\"field\":\"top\"},\"width\":{\"value\":0.6},\"x\":{\"field\":\"x\"}},\"id\":\"2041\",\"type\":\"VBar\"},{\"attributes\":{\"coordinates\":null,\"formatter\":{\"id\":\"2047\"},\"group\":null,\"major_label_policy\":{\"id\":\"2048\"},\"ticker\":{\"id\":\"2022\"}},\"id\":\"2021\",\"type\":\"LinearAxis\"},{\"attributes\":{\"coordinates\":null,\"data_source\":{\"id\":\"2039\"},\"glyph\":{\"id\":\"2040\"},\"group\":null,\"hover_glyph\":null,\"muted_glyph\":{\"id\":\"2042\"},\"nonselection_glyph\":{\"id\":\"2041\"},\"view\":{\"id\":\"2044\"}},\"id\":\"2043\",\"type\":\"GlyphRenderer\"},{\"attributes\":{\"axis\":{\"id\":\"2021\"},\"coordinates\":null,\"dimension\":1,\"group\":null,\"ticker\":null},\"id\":\"2024\",\"type\":\"Grid\"},{\"attributes\":{},\"id\":\"2022\",\"type\":\"BasicTicker\"},{\"attributes\":{},\"id\":\"2030\",\"type\":\"HelpTool\"},{\"attributes\":{},\"id\":\"2047\",\"type\":\"BasicTickFormatter\"},{\"attributes\":{},\"id\":\"2016\",\"type\":\"LinearScale\"},{\"attributes\":{},\"id\":\"2026\",\"type\":\"WheelZoomTool\"},{\"attributes\":{},\"id\":\"2025\",\"type\":\"PanTool\"},{\"attributes\":{},\"id\":\"2048\",\"type\":\"AllLabels\"},{\"attributes\":{\"overlay\":{\"id\":\"2031\"}},\"id\":\"2027\",\"type\":\"BoxZoomTool\"},{\"attributes\":{},\"id\":\"2028\",\"type\":\"SaveTool\"},{\"attributes\":{},\"id\":\"2029\",\"type\":\"ResetTool\"},{\"attributes\":{},\"id\":\"2050\",\"type\":\"CategoricalTickFormatter\"},{\"attributes\":{},\"id\":\"2052\",\"type\":\"UnionRenderers\"},{\"attributes\":{\"fill_alpha\":{\"value\":0.2},\"fill_color\":{\"value\":\"#1f77b4\"},\"hatch_alpha\":{\"value\":0.2},\"line_alpha\":{\"value\":0.2},\"line_color\":{\"value\":\"#1f77b4\"},\"top\":{\"field\":\"top\"},\"width\":{\"value\":0.6},\"x\":{\"field\":\"x\"}},\"id\":\"2042\",\"type\":\"VBar\"},{\"attributes\":{},\"id\":\"2051\",\"type\":\"AllLabels\"},{\"attributes\":{\"label\":{\"value\":\"Passengers\"},\"renderers\":[{\"id\":\"2043\"}]},\"id\":\"2056\",\"type\":\"LegendItem\"},{\"attributes\":{},\"id\":\"2053\",\"type\":\"Selection\"},{\"attributes\":{\"bottom_units\":\"screen\",\"coordinates\":null,\"fill_alpha\":0.5,\"fill_color\":\"lightgrey\",\"group\":null,\"left_units\":\"screen\",\"level\":\"overlay\",\"line_alpha\":1.0,\"line_color\":\"black\",\"line_dash\":[4,4],\"line_width\":2,\"right_units\":\"screen\",\"syncable\":false,\"top_units\":\"screen\"},\"id\":\"2031\",\"type\":\"BoxAnnotation\"},{\"attributes\":{\"axis\":{\"id\":\"2018\"},\"coordinates\":null,\"group\":null,\"ticker\":null},\"id\":\"2020\",\"type\":\"Grid\"},{\"attributes\":{},\"id\":\"2012\",\"type\":\"DataRange1d\"},{\"attributes\":{\"coordinates\":null,\"group\":null,\"items\":[{\"id\":\"2056\"}]},\"id\":\"2055\",\"type\":\"Legend\"},{\"attributes\":{\"tools\":[{\"id\":\"2025\"},{\"id\":\"2026\"},{\"id\":\"2027\"},{\"id\":\"2028\"},{\"id\":\"2029\"},{\"id\":\"2030\"}]},\"id\":\"2032\",\"type\":\"Toolbar\"},{\"attributes\":{},\"id\":\"2014\",\"type\":\"CategoricalScale\"},{\"attributes\":{\"source\":{\"id\":\"2039\"}},\"id\":\"2044\",\"type\":\"CDSView\"},{\"attributes\":{\"fill_color\":{\"value\":\"#1f77b4\"},\"line_color\":{\"value\":\"#1f77b4\"},\"top\":{\"field\":\"top\"},\"width\":{\"value\":0.6},\"x\":{\"field\":\"x\"}},\"id\":\"2040\",\"type\":\"VBar\"},{\"attributes\":{\"factors\":[\"Southwest Airlines Co.\",\"American Airlines Inc.\",\"Delta Air Lines Inc.\",\"United Air Lines Inc.\",\"SkyWest Airlines Inc.\",\"Spirit Air Lines\",\"JetBlue Airways\",\"Alaska Airlines Inc.\",\"Frontier Airlines Inc.\",\"Republic Airline\"]},\"id\":\"2010\",\"type\":\"FactorRange\"},{\"attributes\":{},\"id\":\"2019\",\"type\":\"CategoricalTicker\"},{\"attributes\":{\"coordinates\":null,\"formatter\":{\"id\":\"2050\"},\"group\":null,\"major_label_orientation\":0.8,\"major_label_policy\":{\"id\":\"2051\"},\"ticker\":{\"id\":\"2019\"}},\"id\":\"2018\",\"type\":\"CategoricalAxis\"},{\"attributes\":{\"coordinates\":null,\"group\":null,\"text\":\"Top 10 carriers by passengers (domestic routes)\"},\"id\":\"2008\",\"type\":\"Title\"},{\"attributes\":{\"data\":{\"top\":[120715882,99225144,92633601,58899326,35069897,27609122,22944344,21702741,19626363,17495428,13708350,12573222,12351078,12330654,9364906,6472634,5927732,3775696,3380271,2880902,2783233,2329630,579476,411820,375666],\"x\":[\"Southwest Airlines Co.\",\"American Airlines Inc.\",\"Delta Air Lines Inc.\",\"United Air Lines Inc.\",\"SkyWest Airlines Inc.\",\"Spirit Air Lines\",\"JetBlue Airways\",\"Alaska Airlines Inc.\",\"Frontier Airlines Inc.\",\"Republic Airline\",\"Allegiant Air\",\"Endeavor Air Inc.\",\"Envoy Air\",\"PSA Airlines Inc.\",\"Mesa Airlines Inc.\",\"Hawaiian Airlines Inc.\",\"Horizon Air\",\"Piedmont Airlines\",\"Air Wisconsin Airlines...\",\"Commutair Aka Champlai...\",\"Sun Country Airlines d...\",\"GoJet Airlines LLC d/b...\",\"Swift Air, LLC d/b/a E...\",\"Cape Air\",\"Silver Airways\"]},\"selected\":{\"id\":\"2053\"},\"selection_policy\":{\"id\":\"2052\"}},\"id\":\"2039\",\"type\":\"ColumnDataSource\"}],\"root_ids\":[\"2007\"]},\"title\":\"Bokeh Application\",\"version\":\"2.4.2\"}};\n  const render_items = [{\"docid\":\"de9148d8-cccf-40e9-9bba-0ada171694b7\",\"root_ids\":[\"2007\"],\"roots\":{\"2007\":\"88743139-b5c1-47a4-ba88-9717cf14fab4\"}}];\n  root.Bokeh.embed.embed_items_notebook(docs_json, render_items);\n\n  }\n  if (root.Bokeh !== undefined) {\n    embed_document(root);\n  } else {\n    let attempts = 0;\n    const timer = setInterval(function(root) {\n      if (root.Bokeh !== undefined) {\n        clearInterval(timer);\n        embed_document(root);\n      } else {\n        attempts++;\n        if (attempts > 100) {\n          clearInterval(timer);\n          console.log(\"Bokeh: ERROR: Unable to run BokehJS code because BokehJS library is missing\");\n        }\n      }\n    }, 10, root)\n  }\n})(window);",
      "application/vnd.bokehjs_exec.v0+json": ""
     },
     "metadata": {
      "application/vnd.bokehjs_exec.v0+json": {
       "id": "2007"
      }
     },
     "output_type": "display_data"
    }
   ],
   "source": [
    "carriers_by_passengers_plot = figure(\n",
    "    x_range=airlines_by_passengers_df[\"unique_carrier_name\"][:10],  # use only the top ten carriers\n",
    "    title=f\"Top 10 carriers by passengers (domestic routes)\",\n",
    "    height=300, width=600,\n",
    ")\n",
    "carriers_by_passengers_plot.vbar(\n",
    "    x=airlines_by_passengers_df[\"unique_carrier_name\"],\n",
    "    top=airlines_by_passengers_df[\"passengers\"],\n",
    "    legend_label=\"Passengers\",\n",
    "    width=0.6,\n",
    "    )\n",
    "\n",
    "carriers_by_passengers_plot.xaxis.major_label_orientation = 0.8  # rotate labels by roughly pi/4\n",
    "\n",
    "show(carriers_by_passengers_plot)"
   ]
  },
  {
   "cell_type": "markdown",
   "metadata": {},
   "source": [
    "Line, scatter, and bar charts are just some basic examples of the types of plots\n",
    "you can create with Bokeh. See [Basic plotting](https://docs.bokeh.org/en/latest/docs/user_guide/basic.html),\n",
    "[Topic guides](https://docs.bokeh.org/en/latest/docs/user_guide/topics.html), and\n",
    "[Gallery](https://docs.bokeh.org/en/latest/docs/gallery.html) in the Bokeh user guide\n",
    "for more plot types.\n",
    "\n",
    "You will also learn about more plot types in the next few chapters of this tutorial."
   ]
  },
  {
   "cell_type": "markdown",
   "metadata": {},
   "source": [
    "## Next\n",
    "Looking at the example in the previous cell, you'll notice that there is one\n",
    "line that changes the orientation of labels on the x axis to be diagonal:\n",
    "\n",
    "`carriers_by_passengers_plot.xaxis.major_label_orientation = 0.8 `\n",
    "\n",
    "This is an example of how you can customize the appearance of the different\n",
    "elements of your plot.\n",
    "\n",
    "Customizing your plot is what you'll learn about in the next two chapters of\n",
    "this tutorial. You'll learn about adding annotations and the different ways you\n",
    "can customize the appearance of your plot."
   ]
  }
 ],
 "metadata": {
  "kernelspec": {
   "display_name": "Python 3.10.4 ('bk-tutorial')",
   "language": "python",
   "name": "python3"
  },
  "language_info": {
   "codemirror_mode": {
    "name": "ipython",
    "version": 3
   },
   "file_extension": ".py",
   "mimetype": "text/x-python",
   "name": "python",
   "nbconvert_exporter": "python",
   "pygments_lexer": "ipython3",
   "version": "3.10.4"
  },
  "orig_nbformat": 4,
  "vscode": {
   "interpreter": {
    "hash": "ab488fdb8b9aa36105a44cbd221df14ac07fc4003f76992d613ea31bfd3a4f61"
   }
  }
 },
 "nbformat": 4,
 "nbformat_minor": 2
}
