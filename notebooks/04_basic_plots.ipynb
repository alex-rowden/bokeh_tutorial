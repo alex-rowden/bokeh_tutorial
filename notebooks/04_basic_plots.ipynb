{
 "cells": [
  {
   "cell_type": "markdown",
   "metadata": {},
   "source": [
    "<table style=\"float:left; border:none\">\n",
    "   <tr style=\"border:none\">\n",
    "       <td style=\"border:none\">\n",
    "           <a href=\"https://bokeh.org/\">\n",
    "           <img\n",
    "               src=\"assets/bokeh-transparent.png\"\n",
    "               style=\"width:50px\"\n",
    "           >\n",
    "           </a>\n",
    "       </td>\n",
    "       <td style=\"border:none\">\n",
    "           <h1>Bokeh Tutorial</h1>\n",
    "       </td>\n",
    "   </tr>\n",
    "</table>\n",
    "\n",
    "<div style=\"float:right;\"><h2>04 Basic Plotting</h2></div>"
   ]
  },
  {
   "cell_type": "code",
   "execution_count": 20,
   "metadata": {},
   "outputs": [
    {
     "data": {
      "text/html": [
       "\n",
       "    <div class=\"bk-root\">\n",
       "        <a href=\"https://bokeh.org\" target=\"_blank\" class=\"bk-logo bk-logo-small bk-logo-notebook\"></a>\n",
       "        <span id=\"2680\">Loading BokehJS ...</span>\n",
       "    </div>"
      ]
     },
     "metadata": {},
     "output_type": "display_data"
    },
    {
     "data": {
      "application/javascript": "\n(function(root) {\n  function now() {\n    return new Date();\n  }\n\n  const force = true;\n\n  if (typeof root._bokeh_onload_callbacks === \"undefined\" || force === true) {\n    root._bokeh_onload_callbacks = [];\n    root._bokeh_is_loading = undefined;\n  }\n\n  const JS_MIME_TYPE = 'application/javascript';\n  const HTML_MIME_TYPE = 'text/html';\n  const EXEC_MIME_TYPE = 'application/vnd.bokehjs_exec.v0+json';\n  const CLASS_NAME = 'output_bokeh rendered_html';\n\n  /**\n   * Render data to the DOM node\n   */\n  function render(props, node) {\n    const script = document.createElement(\"script\");\n    node.appendChild(script);\n  }\n\n  /**\n   * Handle when an output is cleared or removed\n   */\n  function handleClearOutput(event, handle) {\n    const cell = handle.cell;\n\n    const id = cell.output_area._bokeh_element_id;\n    const server_id = cell.output_area._bokeh_server_id;\n    // Clean up Bokeh references\n    if (id != null && id in Bokeh.index) {\n      Bokeh.index[id].model.document.clear();\n      delete Bokeh.index[id];\n    }\n\n    if (server_id !== undefined) {\n      // Clean up Bokeh references\n      const cmd_clean = \"from bokeh.io.state import curstate; print(curstate().uuid_to_server['\" + server_id + \"'].get_sessions()[0].document.roots[0]._id)\";\n      cell.notebook.kernel.execute(cmd_clean, {\n        iopub: {\n          output: function(msg) {\n            const id = msg.content.text.trim();\n            if (id in Bokeh.index) {\n              Bokeh.index[id].model.document.clear();\n              delete Bokeh.index[id];\n            }\n          }\n        }\n      });\n      // Destroy server and session\n      const cmd_destroy = \"import bokeh.io.notebook as ion; ion.destroy_server('\" + server_id + \"')\";\n      cell.notebook.kernel.execute(cmd_destroy);\n    }\n  }\n\n  /**\n   * Handle when a new output is added\n   */\n  function handleAddOutput(event, handle) {\n    const output_area = handle.output_area;\n    const output = handle.output;\n\n    // limit handleAddOutput to display_data with EXEC_MIME_TYPE content only\n    if ((output.output_type != \"display_data\") || (!Object.prototype.hasOwnProperty.call(output.data, EXEC_MIME_TYPE))) {\n      return\n    }\n\n    const toinsert = output_area.element.find(\".\" + CLASS_NAME.split(' ')[0]);\n\n    if (output.metadata[EXEC_MIME_TYPE][\"id\"] !== undefined) {\n      toinsert[toinsert.length - 1].firstChild.textContent = output.data[JS_MIME_TYPE];\n      // store reference to embed id on output_area\n      output_area._bokeh_element_id = output.metadata[EXEC_MIME_TYPE][\"id\"];\n    }\n    if (output.metadata[EXEC_MIME_TYPE][\"server_id\"] !== undefined) {\n      const bk_div = document.createElement(\"div\");\n      bk_div.innerHTML = output.data[HTML_MIME_TYPE];\n      const script_attrs = bk_div.children[0].attributes;\n      for (let i = 0; i < script_attrs.length; i++) {\n        toinsert[toinsert.length - 1].firstChild.setAttribute(script_attrs[i].name, script_attrs[i].value);\n        toinsert[toinsert.length - 1].firstChild.textContent = bk_div.children[0].textContent\n      }\n      // store reference to server id on output_area\n      output_area._bokeh_server_id = output.metadata[EXEC_MIME_TYPE][\"server_id\"];\n    }\n  }\n\n  function register_renderer(events, OutputArea) {\n\n    function append_mime(data, metadata, element) {\n      // create a DOM node to render to\n      const toinsert = this.create_output_subarea(\n        metadata,\n        CLASS_NAME,\n        EXEC_MIME_TYPE\n      );\n      this.keyboard_manager.register_events(toinsert);\n      // Render to node\n      const props = {data: data, metadata: metadata[EXEC_MIME_TYPE]};\n      render(props, toinsert[toinsert.length - 1]);\n      element.append(toinsert);\n      return toinsert\n    }\n\n    /* Handle when an output is cleared or removed */\n    events.on('clear_output.CodeCell', handleClearOutput);\n    events.on('delete.Cell', handleClearOutput);\n\n    /* Handle when a new output is added */\n    events.on('output_added.OutputArea', handleAddOutput);\n\n    /**\n     * Register the mime type and append_mime function with output_area\n     */\n    OutputArea.prototype.register_mime_type(EXEC_MIME_TYPE, append_mime, {\n      /* Is output safe? */\n      safe: true,\n      /* Index of renderer in `output_area.display_order` */\n      index: 0\n    });\n  }\n\n  // register the mime type if in Jupyter Notebook environment and previously unregistered\n  if (root.Jupyter !== undefined) {\n    const events = require('base/js/events');\n    const OutputArea = require('notebook/js/outputarea').OutputArea;\n\n    if (OutputArea.prototype.mime_types().indexOf(EXEC_MIME_TYPE) == -1) {\n      register_renderer(events, OutputArea);\n    }\n  }\n\n  \n  if (typeof (root._bokeh_timeout) === \"undefined\" || force === true) {\n    root._bokeh_timeout = Date.now() + 5000;\n    root._bokeh_failed_load = false;\n  }\n\n  const NB_LOAD_WARNING = {'data': {'text/html':\n     \"<div style='background-color: #fdd'>\\n\"+\n     \"<p>\\n\"+\n     \"BokehJS does not appear to have successfully loaded. If loading BokehJS from CDN, this \\n\"+\n     \"may be due to a slow or bad network connection. Possible fixes:\\n\"+\n     \"</p>\\n\"+\n     \"<ul>\\n\"+\n     \"<li>re-rerun `output_notebook()` to attempt to load from CDN again, or</li>\\n\"+\n     \"<li>use INLINE resources instead, as so:</li>\\n\"+\n     \"</ul>\\n\"+\n     \"<code>\\n\"+\n     \"from bokeh.resources import INLINE\\n\"+\n     \"output_notebook(resources=INLINE)\\n\"+\n     \"</code>\\n\"+\n     \"</div>\"}};\n\n  function display_loaded() {\n    const el = document.getElementById(\"2680\");\n    if (el != null) {\n      el.textContent = \"BokehJS is loading...\";\n    }\n    if (root.Bokeh !== undefined) {\n      if (el != null) {\n        el.textContent = \"BokehJS \" + root.Bokeh.version + \" successfully loaded.\";\n      }\n    } else if (Date.now() < root._bokeh_timeout) {\n      setTimeout(display_loaded, 100)\n    }\n  }\n\n\n  function run_callbacks() {\n    try {\n      root._bokeh_onload_callbacks.forEach(function(callback) {\n        if (callback != null)\n          callback();\n      });\n    } finally {\n      delete root._bokeh_onload_callbacks\n    }\n    console.debug(\"Bokeh: all callbacks have finished\");\n  }\n\n  function load_libs(css_urls, js_urls, callback) {\n    if (css_urls == null) css_urls = [];\n    if (js_urls == null) js_urls = [];\n\n    root._bokeh_onload_callbacks.push(callback);\n    if (root._bokeh_is_loading > 0) {\n      console.debug(\"Bokeh: BokehJS is being loaded, scheduling callback at\", now());\n      return null;\n    }\n    if (js_urls == null || js_urls.length === 0) {\n      run_callbacks();\n      return null;\n    }\n    console.debug(\"Bokeh: BokehJS not loaded, scheduling load and callback at\", now());\n    root._bokeh_is_loading = css_urls.length + js_urls.length;\n\n    function on_load() {\n      root._bokeh_is_loading--;\n      if (root._bokeh_is_loading === 0) {\n        console.debug(\"Bokeh: all BokehJS libraries/stylesheets loaded\");\n        run_callbacks()\n      }\n    }\n\n    function on_error(url) {\n      console.error(\"failed to load \" + url);\n    }\n\n    for (let i = 0; i < css_urls.length; i++) {\n      const url = css_urls[i];\n      const element = document.createElement(\"link\");\n      element.onload = on_load;\n      element.onerror = on_error.bind(null, url);\n      element.rel = \"stylesheet\";\n      element.type = \"text/css\";\n      element.href = url;\n      console.debug(\"Bokeh: injecting link tag for BokehJS stylesheet: \", url);\n      document.body.appendChild(element);\n    }\n\n    for (let i = 0; i < js_urls.length; i++) {\n      const url = js_urls[i];\n      const element = document.createElement('script');\n      element.onload = on_load;\n      element.onerror = on_error.bind(null, url);\n      element.async = false;\n      element.src = url;\n      console.debug(\"Bokeh: injecting script tag for BokehJS library: \", url);\n      document.head.appendChild(element);\n    }\n  };\n\n  function inject_raw_css(css) {\n    const element = document.createElement(\"style\");\n    element.appendChild(document.createTextNode(css));\n    document.body.appendChild(element);\n  }\n\n  \n  const js_urls = [\"https://cdn.bokeh.org/bokeh/release/bokeh-2.4.2.min.js\", \"https://cdn.bokeh.org/bokeh/release/bokeh-gl-2.4.2.min.js\", \"https://cdn.bokeh.org/bokeh/release/bokeh-widgets-2.4.2.min.js\", \"https://cdn.bokeh.org/bokeh/release/bokeh-tables-2.4.2.min.js\", \"https://cdn.bokeh.org/bokeh/release/bokeh-mathjax-2.4.2.min.js\"];\n  const css_urls = [];\n  \n\n  const inline_js = [\n    function(Bokeh) {\n      Bokeh.set_log_level(\"info\");\n    },\n    function(Bokeh) {\n    \n    \n    }\n  ];\n\n  function run_inline_js() {\n    \n    if (root.Bokeh !== undefined || force === true) {\n      \n    for (let i = 0; i < inline_js.length; i++) {\n      inline_js[i].call(root, root.Bokeh);\n    }\n    if (force === true) {\n        display_loaded();\n      }} else if (Date.now() < root._bokeh_timeout) {\n      setTimeout(run_inline_js, 100);\n    } else if (!root._bokeh_failed_load) {\n      console.log(\"Bokeh: BokehJS failed to load within specified timeout.\");\n      root._bokeh_failed_load = true;\n    } else if (force !== true) {\n      const cell = $(document.getElementById(\"2680\")).parents('.cell').data().cell;\n      cell.output_area.append_execute_result(NB_LOAD_WARNING)\n    }\n\n  }\n\n  if (root._bokeh_is_loading === 0) {\n    console.debug(\"Bokeh: BokehJS loaded, going straight to plotting\");\n    run_inline_js();\n  } else {\n    load_libs(css_urls, js_urls, function() {\n      console.debug(\"Bokeh: BokehJS plotting callback run at\", now());\n      run_inline_js();\n    });\n  }\n}(window));",
      "application/vnd.bokehjs_load.v0+json": ""
     },
     "metadata": {},
     "output_type": "display_data"
    }
   ],
   "source": [
    "# activate notebook output\n",
    "from bokeh.io import output_notebook\n",
    "output_notebook()\n",
    "\n",
    "# load tutorial data set\n",
    "import sys\n",
    "sys.path.append('../data')\n",
    "from carriers_data import CarrierDataSet\n",
    "data = CarrierDataSet()"
   ]
  },
  {
   "cell_type": "markdown",
   "metadata": {},
   "source": [
    "This chapter introduces several basic plots, using the `bokeh.plotting` interface.\n",
    "\n",
    "Building plots with the `bokeh.plotting` interface follows this\n",
    "general pattern:\n",
    "\n",
    "* You first define a basic figure, using most of the defaults that Bokeh\n",
    "provides.\n",
    "* You then customize specific elements of the figure to fit your needs.\n",
    "\n",
    "This way, you can build a fully functional, interactive plot with just a few\n",
    "lines of code."
   ]
  },
  {
   "cell_type": "markdown",
   "metadata": {},
   "source": [
    "### Basic plot setup\n",
    "\n",
    "All plots based on the `bokeh.plotting` interface use the `figure()` function to\n",
    "create a new plot.\n",
    "\n",
    "The first step is usually to import `figure` from `bokeh.plotting`:"
   ]
  },
  {
   "cell_type": "code",
   "execution_count": 21,
   "metadata": {},
   "outputs": [],
   "source": [
    "from bokeh.plotting import figure"
   ]
  },
  {
   "cell_type": "markdown",
   "metadata": {},
   "source": [
    "The next step is to create a new plot with the `figure()` function:"
   ]
  },
  {
   "cell_type": "code",
   "execution_count": 22,
   "metadata": {},
   "outputs": [],
   "source": [
    "plot = figure()"
   ]
  },
  {
   "cell_type": "markdown",
   "metadata": {},
   "source": [
    "You can add several optional arguments to the `figure()` function. For now,\n",
    "just use `height` and `width` to define the size of the plot:"
   ]
  },
  {
   "cell_type": "code",
   "execution_count": 23,
   "metadata": {},
   "outputs": [],
   "source": [
    "plot = figure(height=300, width=300)"
   ]
  },
  {
   "cell_type": "markdown",
   "metadata": {},
   "source": [
    "You can think of using the `figure()` function as creating a blank canvas.\n",
    "Once you have created the canvas, you can add glyphs to create a plot.\n",
    "\n",
    "### Adding a line chart\n",
    "\n",
    "To add a line chart, use the `line()` function. \n",
    "\n",
    "This function requires some data to visualize as an input. For now, use a simple\n",
    "list of numbers. One list for the y axis and one for the x axis:"
   ]
  },
  {
   "cell_type": "code",
   "execution_count": 24,
   "metadata": {},
   "outputs": [
    {
     "data": {
      "text/html": [
       "<div style=\"display: table;\"><div style=\"display: table-row;\"><div style=\"display: table-cell;\"><b title=\"bokeh.models.renderers.GlyphRenderer\">GlyphRenderer</b>(</div><div style=\"display: table-cell;\">id&nbsp;=&nbsp;'2747', <span id=\"2750\" style=\"cursor: pointer;\">&hellip;)</span></div></div><div class=\"2749\" style=\"display: none;\"><div style=\"display: table-cell;\"></div><div style=\"display: table-cell;\">coordinates&nbsp;=&nbsp;None,</div></div><div class=\"2749\" style=\"display: none;\"><div style=\"display: table-cell;\"></div><div style=\"display: table-cell;\">data_source&nbsp;=&nbsp;ColumnDataSource(id='2743', ...),</div></div><div class=\"2749\" style=\"display: none;\"><div style=\"display: table-cell;\"></div><div style=\"display: table-cell;\">glyph&nbsp;=&nbsp;Line(id='2744', ...),</div></div><div class=\"2749\" style=\"display: none;\"><div style=\"display: table-cell;\"></div><div style=\"display: table-cell;\">group&nbsp;=&nbsp;None,</div></div><div class=\"2749\" style=\"display: none;\"><div style=\"display: table-cell;\"></div><div style=\"display: table-cell;\">hover_glyph&nbsp;=&nbsp;None,</div></div><div class=\"2749\" style=\"display: none;\"><div style=\"display: table-cell;\"></div><div style=\"display: table-cell;\">js_event_callbacks&nbsp;=&nbsp;{},</div></div><div class=\"2749\" style=\"display: none;\"><div style=\"display: table-cell;\"></div><div style=\"display: table-cell;\">js_property_callbacks&nbsp;=&nbsp;{},</div></div><div class=\"2749\" style=\"display: none;\"><div style=\"display: table-cell;\"></div><div style=\"display: table-cell;\">level&nbsp;=&nbsp;'glyph',</div></div><div class=\"2749\" style=\"display: none;\"><div style=\"display: table-cell;\"></div><div style=\"display: table-cell;\">muted&nbsp;=&nbsp;False,</div></div><div class=\"2749\" style=\"display: none;\"><div style=\"display: table-cell;\"></div><div style=\"display: table-cell;\">muted_glyph&nbsp;=&nbsp;Line(id='2746', ...),</div></div><div class=\"2749\" style=\"display: none;\"><div style=\"display: table-cell;\"></div><div style=\"display: table-cell;\">name&nbsp;=&nbsp;None,</div></div><div class=\"2749\" style=\"display: none;\"><div style=\"display: table-cell;\"></div><div style=\"display: table-cell;\">nonselection_glyph&nbsp;=&nbsp;Line(id='2745', ...),</div></div><div class=\"2749\" style=\"display: none;\"><div style=\"display: table-cell;\"></div><div style=\"display: table-cell;\">selection_glyph&nbsp;=&nbsp;'auto',</div></div><div class=\"2749\" style=\"display: none;\"><div style=\"display: table-cell;\"></div><div style=\"display: table-cell;\">subscribed_events&nbsp;=&nbsp;[],</div></div><div class=\"2749\" style=\"display: none;\"><div style=\"display: table-cell;\"></div><div style=\"display: table-cell;\">syncable&nbsp;=&nbsp;True,</div></div><div class=\"2749\" style=\"display: none;\"><div style=\"display: table-cell;\"></div><div style=\"display: table-cell;\">tags&nbsp;=&nbsp;[],</div></div><div class=\"2749\" style=\"display: none;\"><div style=\"display: table-cell;\"></div><div style=\"display: table-cell;\">view&nbsp;=&nbsp;CDSView(id='2748', ...),</div></div><div class=\"2749\" style=\"display: none;\"><div style=\"display: table-cell;\"></div><div style=\"display: table-cell;\">visible&nbsp;=&nbsp;True,</div></div><div class=\"2749\" style=\"display: none;\"><div style=\"display: table-cell;\"></div><div style=\"display: table-cell;\">x_range_name&nbsp;=&nbsp;'default',</div></div><div class=\"2749\" style=\"display: none;\"><div style=\"display: table-cell;\"></div><div style=\"display: table-cell;\">y_range_name&nbsp;=&nbsp;'default')</div></div></div>\n",
       "<script>\n",
       "(function() {\n",
       "  let expanded = false;\n",
       "  const ellipsis = document.getElementById(\"2750\");\n",
       "  ellipsis.addEventListener(\"click\", function() {\n",
       "    const rows = document.getElementsByClassName(\"2749\");\n",
       "    for (let i = 0; i < rows.length; i++) {\n",
       "      const el = rows[i];\n",
       "      el.style.display = expanded ? \"none\" : \"table-row\";\n",
       "    }\n",
       "    ellipsis.innerHTML = expanded ? \"&hellip;)\" : \"&lsaquo;&lsaquo;&lsaquo;\";\n",
       "    expanded = !expanded;\n",
       "  });\n",
       "})();\n",
       "</script>\n"
      ],
      "text/plain": [
       "GlyphRenderer(id='2747', ...)"
      ]
     },
     "execution_count": 24,
     "metadata": {},
     "output_type": "execute_result"
    }
   ],
   "source": [
    "# define some data\n",
    "x = [1, 2, 3, 4, 5]\n",
    "y = [6, 7, 2, 1, 5]\n",
    "# use your plot's line() function to create a line plot with this data\n",
    "plot.line(x, y)"
   ]
  },
  {
   "cell_type": "markdown",
   "metadata": {},
   "source": [
    "The `line()` function returns a `GlyphRenderer` object. This represents the\n",
    "glyph that you have added to your plot.\n",
    "\n",
    "You now have a basic figure (created with `figure()`) and a line glyph (created\n",
    "with `line()`).\n",
    "The final step is to display the plot.\n",
    "Bokeh provides a `show()` function to display the plot:"
   ]
  },
  {
   "cell_type": "code",
   "execution_count": 25,
   "metadata": {},
   "outputs": [
    {
     "data": {
      "text/html": [
       "\n",
       "\n",
       "\n",
       "\n",
       "\n",
       "\n",
       "  <div class=\"bk-root\" id=\"ad46bf92-a6c3-4fd3-a565-05da889bd557\" data-root-id=\"2712\"></div>\n"
      ]
     },
     "metadata": {},
     "output_type": "display_data"
    },
    {
     "data": {
      "application/javascript": "(function(root) {\n  function embed_document(root) {\n    \n  const docs_json = {\"df8a7763-b3e5-4ce5-a3bd-6c59ae53b16f\":{\"defs\":[],\"roots\":{\"references\":[{\"attributes\":{\"below\":[{\"id\":\"2721\"}],\"center\":[{\"id\":\"2724\"},{\"id\":\"2728\"}],\"height\":300,\"left\":[{\"id\":\"2725\"}],\"renderers\":[{\"id\":\"2747\"}],\"title\":{\"id\":\"2858\"},\"toolbar\":{\"id\":\"2736\"},\"width\":300,\"x_range\":{\"id\":\"2713\"},\"x_scale\":{\"id\":\"2717\"},\"y_range\":{\"id\":\"2715\"},\"y_scale\":{\"id\":\"2719\"}},\"id\":\"2712\",\"subtype\":\"Figure\",\"type\":\"Plot\"},{\"attributes\":{},\"id\":\"2722\",\"type\":\"BasicTicker\"},{\"attributes\":{},\"id\":\"2715\",\"type\":\"DataRange1d\"},{\"attributes\":{\"tools\":[{\"id\":\"2729\"},{\"id\":\"2730\"},{\"id\":\"2731\"},{\"id\":\"2732\"},{\"id\":\"2733\"},{\"id\":\"2734\"}]},\"id\":\"2736\",\"type\":\"Toolbar\"},{\"attributes\":{},\"id\":\"2719\",\"type\":\"LinearScale\"},{\"attributes\":{},\"id\":\"2864\",\"type\":\"BasicTickFormatter\"},{\"attributes\":{\"coordinates\":null,\"formatter\":{\"id\":\"2864\"},\"group\":null,\"major_label_policy\":{\"id\":\"2865\"},\"ticker\":{\"id\":\"2722\"}},\"id\":\"2721\",\"type\":\"LinearAxis\"},{\"attributes\":{\"coordinates\":null,\"formatter\":{\"id\":\"2861\"},\"group\":null,\"major_label_policy\":{\"id\":\"2862\"},\"ticker\":{\"id\":\"2726\"}},\"id\":\"2725\",\"type\":\"LinearAxis\"},{\"attributes\":{},\"id\":\"2717\",\"type\":\"LinearScale\"},{\"attributes\":{\"axis\":{\"id\":\"2725\"},\"coordinates\":null,\"dimension\":1,\"group\":null,\"ticker\":null},\"id\":\"2728\",\"type\":\"Grid\"},{\"attributes\":{},\"id\":\"2726\",\"type\":\"BasicTicker\"},{\"attributes\":{\"line_color\":\"#1f77b4\",\"x\":{\"field\":\"x\"},\"y\":{\"field\":\"y\"}},\"id\":\"2744\",\"type\":\"Line\"},{\"attributes\":{\"line_alpha\":0.1,\"line_color\":\"#1f77b4\",\"x\":{\"field\":\"x\"},\"y\":{\"field\":\"y\"}},\"id\":\"2745\",\"type\":\"Line\"},{\"attributes\":{},\"id\":\"2713\",\"type\":\"DataRange1d\"},{\"attributes\":{},\"id\":\"2730\",\"type\":\"WheelZoomTool\"},{\"attributes\":{},\"id\":\"2729\",\"type\":\"PanTool\"},{\"attributes\":{\"source\":{\"id\":\"2743\"}},\"id\":\"2748\",\"type\":\"CDSView\"},{\"attributes\":{},\"id\":\"2865\",\"type\":\"AllLabels\"},{\"attributes\":{\"overlay\":{\"id\":\"2735\"}},\"id\":\"2731\",\"type\":\"BoxZoomTool\"},{\"attributes\":{\"coordinates\":null,\"data_source\":{\"id\":\"2743\"},\"glyph\":{\"id\":\"2744\"},\"group\":null,\"hover_glyph\":null,\"muted_glyph\":{\"id\":\"2746\"},\"nonselection_glyph\":{\"id\":\"2745\"},\"view\":{\"id\":\"2748\"}},\"id\":\"2747\",\"type\":\"GlyphRenderer\"},{\"attributes\":{},\"id\":\"2732\",\"type\":\"SaveTool\"},{\"attributes\":{\"data\":{\"x\":[1,2,3,4,5],\"y\":[6,7,2,1,5]},\"selected\":{\"id\":\"2867\"},\"selection_policy\":{\"id\":\"2866\"}},\"id\":\"2743\",\"type\":\"ColumnDataSource\"},{\"attributes\":{\"coordinates\":null,\"group\":null},\"id\":\"2858\",\"type\":\"Title\"},{\"attributes\":{},\"id\":\"2866\",\"type\":\"UnionRenderers\"},{\"attributes\":{},\"id\":\"2734\",\"type\":\"HelpTool\"},{\"attributes\":{},\"id\":\"2861\",\"type\":\"BasicTickFormatter\"},{\"attributes\":{\"line_alpha\":0.2,\"line_color\":\"#1f77b4\",\"x\":{\"field\":\"x\"},\"y\":{\"field\":\"y\"}},\"id\":\"2746\",\"type\":\"Line\"},{\"attributes\":{\"axis\":{\"id\":\"2721\"},\"coordinates\":null,\"group\":null,\"ticker\":null},\"id\":\"2724\",\"type\":\"Grid\"},{\"attributes\":{},\"id\":\"2862\",\"type\":\"AllLabels\"},{\"attributes\":{\"bottom_units\":\"screen\",\"coordinates\":null,\"fill_alpha\":0.5,\"fill_color\":\"lightgrey\",\"group\":null,\"left_units\":\"screen\",\"level\":\"overlay\",\"line_alpha\":1.0,\"line_color\":\"black\",\"line_dash\":[4,4],\"line_width\":2,\"right_units\":\"screen\",\"syncable\":false,\"top_units\":\"screen\"},\"id\":\"2735\",\"type\":\"BoxAnnotation\"},{\"attributes\":{},\"id\":\"2733\",\"type\":\"ResetTool\"},{\"attributes\":{},\"id\":\"2867\",\"type\":\"Selection\"}],\"root_ids\":[\"2712\"]},\"title\":\"Bokeh Application\",\"version\":\"2.4.2\"}};\n  const render_items = [{\"docid\":\"df8a7763-b3e5-4ce5-a3bd-6c59ae53b16f\",\"root_ids\":[\"2712\"],\"roots\":{\"2712\":\"ad46bf92-a6c3-4fd3-a565-05da889bd557\"}}];\n  root.Bokeh.embed.embed_items_notebook(docs_json, render_items);\n\n  }\n  if (root.Bokeh !== undefined) {\n    embed_document(root);\n  } else {\n    let attempts = 0;\n    const timer = setInterval(function(root) {\n      if (root.Bokeh !== undefined) {\n        clearInterval(timer);\n        embed_document(root);\n      } else {\n        attempts++;\n        if (attempts > 100) {\n          clearInterval(timer);\n          console.log(\"Bokeh: ERROR: Unable to run BokehJS code because BokehJS library is missing\");\n        }\n      }\n    }, 10, root)\n  }\n})(window);",
      "application/vnd.bokehjs_exec.v0+json": ""
     },
     "metadata": {
      "application/vnd.bokehjs_exec.v0+json": {
       "id": "2712"
      }
     },
     "output_type": "display_data"
    }
   ],
   "source": [
    "from bokeh.plotting import show\n",
    "show(plot)"
   ]
  },
  {
   "cell_type": "markdown",
   "metadata": {},
   "source": [
    "The next cell contains all the code necessary to create a line chart.\n",
    "\n",
    "Try changing some of the parameters of the `figure()` and `line()` functions.\n",
    "The code cell contains some comments with suggestions for what to try.\n",
    "\n",
    "When you have made your changes, rerun this cell to see how the output changes:"
   ]
  },
  {
   "cell_type": "code",
   "execution_count": 26,
   "metadata": {},
   "outputs": [
    {
     "data": {
      "text/html": [
       "\n",
       "\n",
       "\n",
       "\n",
       "\n",
       "\n",
       "  <div class=\"bk-root\" id=\"c6b29301-8aef-4db4-95d9-70d28ff1b031\" data-root-id=\"2924\"></div>\n"
      ]
     },
     "metadata": {},
     "output_type": "display_data"
    },
    {
     "data": {
      "application/javascript": "(function(root) {\n  function embed_document(root) {\n    \n  const docs_json = {\"0cbfb913-744a-4f23-8f17-40d9e1894754\":{\"defs\":[],\"roots\":{\"references\":[{\"attributes\":{\"below\":[{\"id\":\"2933\"}],\"center\":[{\"id\":\"2936\"},{\"id\":\"2940\"}],\"height\":300,\"left\":[{\"id\":\"2937\"}],\"renderers\":[{\"id\":\"2959\"}],\"title\":{\"id\":\"3079\"},\"toolbar\":{\"id\":\"2948\"},\"width\":300,\"x_range\":{\"id\":\"2925\"},\"x_scale\":{\"id\":\"2929\"},\"y_range\":{\"id\":\"2927\"},\"y_scale\":{\"id\":\"2931\"}},\"id\":\"2924\",\"subtype\":\"Figure\",\"type\":\"Plot\"},{\"attributes\":{\"coordinates\":null,\"formatter\":{\"id\":\"3082\"},\"group\":null,\"major_label_policy\":{\"id\":\"3083\"},\"ticker\":{\"id\":\"2938\"}},\"id\":\"2937\",\"type\":\"LinearAxis\"},{\"attributes\":{\"data\":{\"x\":[1,2,3,4,5],\"y\":[6,7,2,1,5]},\"selected\":{\"id\":\"3088\"},\"selection_policy\":{\"id\":\"3087\"}},\"id\":\"2955\",\"type\":\"ColumnDataSource\"},{\"attributes\":{},\"id\":\"2946\",\"type\":\"HelpTool\"},{\"attributes\":{\"overlay\":{\"id\":\"2947\"}},\"id\":\"2943\",\"type\":\"BoxZoomTool\"},{\"attributes\":{},\"id\":\"3087\",\"type\":\"UnionRenderers\"},{\"attributes\":{},\"id\":\"2944\",\"type\":\"SaveTool\"},{\"attributes\":{},\"id\":\"2942\",\"type\":\"WheelZoomTool\"},{\"attributes\":{},\"id\":\"2925\",\"type\":\"DataRange1d\"},{\"attributes\":{},\"id\":\"3085\",\"type\":\"BasicTickFormatter\"},{\"attributes\":{},\"id\":\"3088\",\"type\":\"Selection\"},{\"attributes\":{\"source\":{\"id\":\"2955\"}},\"id\":\"2960\",\"type\":\"CDSView\"},{\"attributes\":{\"line_alpha\":0.1,\"line_color\":\"#1f77b4\",\"x\":{\"field\":\"x\"},\"y\":{\"field\":\"y\"}},\"id\":\"2957\",\"type\":\"Line\"},{\"attributes\":{\"tools\":[{\"id\":\"2941\"},{\"id\":\"2942\"},{\"id\":\"2943\"},{\"id\":\"2944\"},{\"id\":\"2945\"},{\"id\":\"2946\"}]},\"id\":\"2948\",\"type\":\"Toolbar\"},{\"attributes\":{\"line_color\":\"#1f77b4\",\"x\":{\"field\":\"x\"},\"y\":{\"field\":\"y\"}},\"id\":\"2956\",\"type\":\"Line\"},{\"attributes\":{\"line_alpha\":0.2,\"line_color\":\"#1f77b4\",\"x\":{\"field\":\"x\"},\"y\":{\"field\":\"y\"}},\"id\":\"2958\",\"type\":\"Line\"},{\"attributes\":{},\"id\":\"2938\",\"type\":\"BasicTicker\"},{\"attributes\":{\"axis\":{\"id\":\"2937\"},\"coordinates\":null,\"dimension\":1,\"group\":null,\"ticker\":null},\"id\":\"2940\",\"type\":\"Grid\"},{\"attributes\":{},\"id\":\"3086\",\"type\":\"AllLabels\"},{\"attributes\":{},\"id\":\"2931\",\"type\":\"LinearScale\"},{\"attributes\":{\"coordinates\":null,\"group\":null},\"id\":\"3079\",\"type\":\"Title\"},{\"attributes\":{},\"id\":\"2934\",\"type\":\"BasicTicker\"},{\"attributes\":{\"axis\":{\"id\":\"2933\"},\"coordinates\":null,\"group\":null,\"ticker\":null},\"id\":\"2936\",\"type\":\"Grid\"},{\"attributes\":{},\"id\":\"3083\",\"type\":\"AllLabels\"},{\"attributes\":{\"bottom_units\":\"screen\",\"coordinates\":null,\"fill_alpha\":0.5,\"fill_color\":\"lightgrey\",\"group\":null,\"left_units\":\"screen\",\"level\":\"overlay\",\"line_alpha\":1.0,\"line_color\":\"black\",\"line_dash\":[4,4],\"line_width\":2,\"right_units\":\"screen\",\"syncable\":false,\"top_units\":\"screen\"},\"id\":\"2947\",\"type\":\"BoxAnnotation\"},{\"attributes\":{},\"id\":\"3082\",\"type\":\"BasicTickFormatter\"},{\"attributes\":{},\"id\":\"2945\",\"type\":\"ResetTool\"},{\"attributes\":{},\"id\":\"2929\",\"type\":\"LinearScale\"},{\"attributes\":{\"coordinates\":null,\"data_source\":{\"id\":\"2955\"},\"glyph\":{\"id\":\"2956\"},\"group\":null,\"hover_glyph\":null,\"muted_glyph\":{\"id\":\"2958\"},\"nonselection_glyph\":{\"id\":\"2957\"},\"view\":{\"id\":\"2960\"}},\"id\":\"2959\",\"type\":\"GlyphRenderer\"},{\"attributes\":{},\"id\":\"2927\",\"type\":\"DataRange1d\"},{\"attributes\":{\"coordinates\":null,\"formatter\":{\"id\":\"3085\"},\"group\":null,\"major_label_policy\":{\"id\":\"3086\"},\"ticker\":{\"id\":\"2934\"}},\"id\":\"2933\",\"type\":\"LinearAxis\"},{\"attributes\":{},\"id\":\"2941\",\"type\":\"PanTool\"}],\"root_ids\":[\"2924\"]},\"title\":\"Bokeh Application\",\"version\":\"2.4.2\"}};\n  const render_items = [{\"docid\":\"0cbfb913-744a-4f23-8f17-40d9e1894754\",\"root_ids\":[\"2924\"],\"roots\":{\"2924\":\"c6b29301-8aef-4db4-95d9-70d28ff1b031\"}}];\n  root.Bokeh.embed.embed_items_notebook(docs_json, render_items);\n\n  }\n  if (root.Bokeh !== undefined) {\n    embed_document(root);\n  } else {\n    let attempts = 0;\n    const timer = setInterval(function(root) {\n      if (root.Bokeh !== undefined) {\n        clearInterval(timer);\n        embed_document(root);\n      } else {\n        attempts++;\n        if (attempts > 100) {\n          clearInterval(timer);\n          console.log(\"Bokeh: ERROR: Unable to run BokehJS code because BokehJS library is missing\");\n        }\n      }\n    }, 10, root)\n  }\n})(window);",
      "application/vnd.bokehjs_exec.v0+json": ""
     },
     "metadata": {
      "application/vnd.bokehjs_exec.v0+json": {
       "id": "2924"
      }
     },
     "output_type": "display_data"
    }
   ],
   "source": [
    "from bokeh.plotting import figure, show\n",
    "\n",
    "## uncomment and adjust some of the additional parameters to see what they do\n",
    "plot = figure(\n",
    "    height=300,\n",
    "    width=300,\n",
    "    # title='Basic Line Plot',\n",
    "    #  x_axis_label='x',\n",
    "    #  y_axis_label='y'\n",
    "    )\n",
    "\n",
    "## replace some of the values with different numbers to see how the plot changes\n",
    "x = [1, 2, 3, 4, 5]\n",
    "y = [6, 7, 2, 1, 5]\n",
    "\n",
    "## uncomment and adjust some of the additional parameters to see what they do\n",
    "plot.line(\n",
    "    x, y,\n",
    "    # legend_label=\"Temperature\",\n",
    "    # line_width=2,\n",
    "    # line_color=\"red\",\n",
    "    )\n",
    "\n",
    "show(plot)"
   ]
  },
  {
   "cell_type": "markdown",
   "metadata": {},
   "source": [
    "### Line chart example\n",
    "Let's create a line chart with some real data from the dashboard you are\n",
    "building.\n",
    "We will use the total number of passengers on flights for each month in 2021.\n",
    "\n",
    "For convenience, the data for this tutorial is available in a class that you\n",
    "already imported at the top of this notebook. We are using a data frame called\n",
    "`monthly_values_df`:"
   ]
  },
  {
   "cell_type": "code",
   "execution_count": 27,
   "metadata": {},
   "outputs": [
    {
     "data": {
      "text/html": [
       "<div>\n",
       "<style scoped>\n",
       "    .dataframe tbody tr th:only-of-type {\n",
       "        vertical-align: middle;\n",
       "    }\n",
       "\n",
       "    .dataframe tbody tr th {\n",
       "        vertical-align: top;\n",
       "    }\n",
       "\n",
       "    .dataframe thead th {\n",
       "        text-align: right;\n",
       "    }\n",
       "</style>\n",
       "<table border=\"1\" class=\"dataframe\">\n",
       "  <thead>\n",
       "    <tr style=\"text-align: right;\">\n",
       "      <th></th>\n",
       "      <th>passengers</th>\n",
       "      <th>freight</th>\n",
       "      <th>mail</th>\n",
       "      <th>month_name</th>\n",
       "    </tr>\n",
       "    <tr>\n",
       "      <th>month</th>\n",
       "      <th></th>\n",
       "      <th></th>\n",
       "      <th></th>\n",
       "      <th></th>\n",
       "    </tr>\n",
       "  </thead>\n",
       "  <tbody>\n",
       "    <tr>\n",
       "      <th>1</th>\n",
       "      <td>23895970</td>\n",
       "      <td>87598694</td>\n",
       "      <td>46968436</td>\n",
       "      <td>January</td>\n",
       "    </tr>\n",
       "    <tr>\n",
       "      <th>2</th>\n",
       "      <td>23970797</td>\n",
       "      <td>91949788</td>\n",
       "      <td>38184246</td>\n",
       "      <td>February</td>\n",
       "    </tr>\n",
       "    <tr>\n",
       "      <th>3</th>\n",
       "      <td>38529707</td>\n",
       "      <td>110337215</td>\n",
       "      <td>44435455</td>\n",
       "      <td>March</td>\n",
       "    </tr>\n",
       "    <tr>\n",
       "      <th>4</th>\n",
       "      <td>42939029</td>\n",
       "      <td>107077739</td>\n",
       "      <td>46288794</td>\n",
       "      <td>April</td>\n",
       "    </tr>\n",
       "    <tr>\n",
       "      <th>5</th>\n",
       "      <td>51766337</td>\n",
       "      <td>115079453</td>\n",
       "      <td>44898759</td>\n",
       "      <td>May</td>\n",
       "    </tr>\n",
       "  </tbody>\n",
       "</table>\n",
       "</div>"
      ],
      "text/plain": [
       "       passengers    freight      mail month_name\n",
       "month                                            \n",
       "1        23895970   87598694  46968436    January\n",
       "2        23970797   91949788  38184246   February\n",
       "3        38529707  110337215  44435455      March\n",
       "4        42939029  107077739  46288794      April\n",
       "5        51766337  115079453  44898759        May"
      ]
     },
     "execution_count": 27,
     "metadata": {},
     "output_type": "execute_result"
    }
   ],
   "source": [
    "monthly_values_df = data.get_monthly_values()\n",
    "monthly_values_df.head()"
   ]
  },
  {
   "cell_type": "markdown",
   "metadata": {},
   "source": [
    "For now, we will only use the `passengers` column and the month number from the\n",
    "DataFrame's index.\n",
    "\n",
    "Use `figure()` with the `height`, `width` and `title` parameters to create a new\n",
    "plot. Next, load the data from the `monthly_values_df` data frame. Use this data\n",
    "do add a line glyph to the plot, using `line()` with some of the parameters you\n",
    "saw above. Finally, use `show()` to display the plot:"
   ]
  },
  {
   "cell_type": "code",
   "execution_count": 28,
   "metadata": {},
   "outputs": [
    {
     "data": {
      "text/html": [
       "\n",
       "\n",
       "\n",
       "\n",
       "\n",
       "\n",
       "  <div class=\"bk-root\" id=\"96962326-ca1b-4d87-804c-4c385ab55644\" data-root-id=\"3145\"></div>\n"
      ]
     },
     "metadata": {},
     "output_type": "display_data"
    },
    {
     "data": {
      "application/javascript": "(function(root) {\n  function embed_document(root) {\n    \n  const docs_json = {\"eaa610b8-0eb0-4a53-8979-2da4ce1f8022\":{\"defs\":[],\"roots\":{\"references\":[{\"attributes\":{\"below\":[{\"id\":\"3156\"}],\"center\":[{\"id\":\"3159\"},{\"id\":\"3163\"},{\"id\":\"3194\"}],\"height\":300,\"left\":[{\"id\":\"3160\"}],\"renderers\":[{\"id\":\"3182\"}],\"title\":{\"id\":\"3146\"},\"toolbar\":{\"id\":\"3171\"},\"x_range\":{\"id\":\"3148\"},\"x_scale\":{\"id\":\"3152\"},\"y_range\":{\"id\":\"3150\"},\"y_scale\":{\"id\":\"3154\"}},\"id\":\"3145\",\"subtype\":\"Figure\",\"type\":\"Plot\"},{\"attributes\":{},\"id\":\"3150\",\"type\":\"DataRange1d\"},{\"attributes\":{\"coordinates\":null,\"group\":null,\"text\":\"Domestic Airline Passengers (2021)\"},\"id\":\"3146\",\"type\":\"Title\"},{\"attributes\":{},\"id\":\"3187\",\"type\":\"AllLabels\"},{\"attributes\":{},\"id\":\"3157\",\"type\":\"BasicTicker\"},{\"attributes\":{},\"id\":\"3154\",\"type\":\"LinearScale\"},{\"attributes\":{\"coordinates\":null,\"formatter\":{\"id\":\"3189\"},\"group\":null,\"major_label_policy\":{\"id\":\"3190\"},\"ticker\":{\"id\":\"3157\"}},\"id\":\"3156\",\"type\":\"LinearAxis\"},{\"attributes\":{},\"id\":\"3191\",\"type\":\"UnionRenderers\"},{\"attributes\":{},\"id\":\"3161\",\"type\":\"BasicTicker\"},{\"attributes\":{},\"id\":\"3167\",\"type\":\"SaveTool\"},{\"attributes\":{\"axis\":{\"id\":\"3156\"},\"coordinates\":null,\"group\":null,\"ticker\":null},\"id\":\"3159\",\"type\":\"Grid\"},{\"attributes\":{\"bottom_units\":\"screen\",\"coordinates\":null,\"fill_alpha\":0.5,\"fill_color\":\"lightgrey\",\"group\":null,\"left_units\":\"screen\",\"level\":\"overlay\",\"line_alpha\":1.0,\"line_color\":\"black\",\"line_dash\":[4,4],\"line_width\":2,\"right_units\":\"screen\",\"syncable\":false,\"top_units\":\"screen\"},\"id\":\"3170\",\"type\":\"BoxAnnotation\"},{\"attributes\":{},\"id\":\"3192\",\"type\":\"Selection\"},{\"attributes\":{\"coordinates\":null,\"data_source\":{\"id\":\"3178\"},\"glyph\":{\"id\":\"3179\"},\"group\":null,\"hover_glyph\":null,\"muted_glyph\":{\"id\":\"3181\"},\"nonselection_glyph\":{\"id\":\"3180\"},\"view\":{\"id\":\"3183\"}},\"id\":\"3182\",\"type\":\"GlyphRenderer\"},{\"attributes\":{},\"id\":\"3168\",\"type\":\"ResetTool\"},{\"attributes\":{\"label\":{\"value\":\"Passengers\"},\"renderers\":[{\"id\":\"3182\"}]},\"id\":\"3195\",\"type\":\"LegendItem\"},{\"attributes\":{\"source\":{\"id\":\"3178\"}},\"id\":\"3183\",\"type\":\"CDSView\"},{\"attributes\":{},\"id\":\"3186\",\"type\":\"BasicTickFormatter\"},{\"attributes\":{\"line_alpha\":0.1,\"line_color\":\"orange\",\"line_width\":3,\"x\":{\"field\":\"x\"},\"y\":{\"field\":\"y\"}},\"id\":\"3180\",\"type\":\"Line\"},{\"attributes\":{\"coordinates\":null,\"group\":null,\"items\":[{\"id\":\"3195\"}]},\"id\":\"3194\",\"type\":\"Legend\"},{\"attributes\":{\"data\":{\"x\":[1,2,3,4,5,6,7,8,9,10,11,12],\"y\":[23895970,23970797,38529707,42939029,51766337,58928348,65267892,58895098,52791205,59338631,58559178,58331414]},\"selected\":{\"id\":\"3192\"},\"selection_policy\":{\"id\":\"3191\"}},\"id\":\"3178\",\"type\":\"ColumnDataSource\"},{\"attributes\":{\"overlay\":{\"id\":\"3170\"}},\"id\":\"3166\",\"type\":\"BoxZoomTool\"},{\"attributes\":{\"line_color\":\"orange\",\"line_width\":3,\"x\":{\"field\":\"x\"},\"y\":{\"field\":\"y\"}},\"id\":\"3179\",\"type\":\"Line\"},{\"attributes\":{},\"id\":\"3148\",\"type\":\"DataRange1d\"},{\"attributes\":{},\"id\":\"3165\",\"type\":\"WheelZoomTool\"},{\"attributes\":{},\"id\":\"3164\",\"type\":\"PanTool\"},{\"attributes\":{\"coordinates\":null,\"formatter\":{\"id\":\"3186\"},\"group\":null,\"major_label_policy\":{\"id\":\"3187\"},\"ticker\":{\"id\":\"3161\"}},\"id\":\"3160\",\"type\":\"LinearAxis\"},{\"attributes\":{},\"id\":\"3169\",\"type\":\"HelpTool\"},{\"attributes\":{\"tools\":[{\"id\":\"3164\"},{\"id\":\"3165\"},{\"id\":\"3166\"},{\"id\":\"3167\"},{\"id\":\"3168\"},{\"id\":\"3169\"}]},\"id\":\"3171\",\"type\":\"Toolbar\"},{\"attributes\":{\"axis\":{\"id\":\"3160\"},\"coordinates\":null,\"dimension\":1,\"group\":null,\"ticker\":null},\"id\":\"3163\",\"type\":\"Grid\"},{\"attributes\":{},\"id\":\"3190\",\"type\":\"AllLabels\"},{\"attributes\":{},\"id\":\"3189\",\"type\":\"BasicTickFormatter\"},{\"attributes\":{\"line_alpha\":0.2,\"line_color\":\"orange\",\"line_width\":3,\"x\":{\"field\":\"x\"},\"y\":{\"field\":\"y\"}},\"id\":\"3181\",\"type\":\"Line\"},{\"attributes\":{},\"id\":\"3152\",\"type\":\"LinearScale\"}],\"root_ids\":[\"3145\"]},\"title\":\"Bokeh Application\",\"version\":\"2.4.2\"}};\n  const render_items = [{\"docid\":\"eaa610b8-0eb0-4a53-8979-2da4ce1f8022\",\"root_ids\":[\"3145\"],\"roots\":{\"3145\":\"96962326-ca1b-4d87-804c-4c385ab55644\"}}];\n  root.Bokeh.embed.embed_items_notebook(docs_json, render_items);\n\n  }\n  if (root.Bokeh !== undefined) {\n    embed_document(root);\n  } else {\n    let attempts = 0;\n    const timer = setInterval(function(root) {\n      if (root.Bokeh !== undefined) {\n        clearInterval(timer);\n        embed_document(root);\n      } else {\n        attempts++;\n        if (attempts > 100) {\n          clearInterval(timer);\n          console.log(\"Bokeh: ERROR: Unable to run BokehJS code because BokehJS library is missing\");\n        }\n      }\n    }, 10, root)\n  }\n})(window);",
      "application/vnd.bokehjs_exec.v0+json": ""
     },
     "metadata": {
      "application/vnd.bokehjs_exec.v0+json": {
       "id": "3145"
      }
     },
     "output_type": "display_data"
    }
   ],
   "source": [
    "# set up the plot\n",
    "plot = figure(\n",
    "    height=300, width=600,\n",
    "    title='Domestic Airline Passengers (2021)',\n",
    "    )\n",
    "\n",
    "# use data from the monthly_values_df DataFrame\n",
    "x = monthly_values_df.index # x-axis is the number of the month\n",
    "y = monthly_values_df['passengers'] # y-axis is the number of passengers\n",
    "\n",
    "# add a line glyph to the plot\n",
    "plot.line(\n",
    "    x, y,\n",
    "    legend_label=\"Passengers\",\n",
    "    line_width=3,\n",
    "    line_color=\"orange\",\n",
    "    )\n",
    "\n",
    "show(plot)"
   ]
  },
  {
   "cell_type": "markdown",
   "metadata": {},
   "source": [
    "## Scatter Plots\n",
    "\n",
    "A scatter plot is a plot that uses multiple points to visualize data. These\n",
    "points can be represented by different shapes, such as circles, squares, or\n",
    "custom images.\n",
    "\n",
    "Creating a scatter plot follow a similar pattern as creating a line chart:\n",
    "\n",
    "1. Create a new figure using the `figure()` function.\n",
    "2. Add the scatter plot points to the figure using a glyph function\n",
    "(such as `circle()` or `square()`).\n",
    "3. Display the plot using the `show()` function.\n",
    "\n",
    "For example:"
   ]
  },
  {
   "cell_type": "code",
   "execution_count": 29,
   "metadata": {},
   "outputs": [
    {
     "data": {
      "text/html": [
       "\n",
       "\n",
       "\n",
       "\n",
       "\n",
       "\n",
       "  <div class=\"bk-root\" id=\"6db2cd2e-8ab3-4264-adf5-04abf278e6a8\" data-root-id=\"3385\"></div>\n"
      ]
     },
     "metadata": {},
     "output_type": "display_data"
    },
    {
     "data": {
      "application/javascript": "(function(root) {\n  function embed_document(root) {\n    \n  const docs_json = {\"16abf660-84f4-44e4-869f-8cf8ba8c0cbd\":{\"defs\":[],\"roots\":{\"references\":[{\"attributes\":{\"below\":[{\"id\":\"3394\"}],\"center\":[{\"id\":\"3397\"},{\"id\":\"3401\"}],\"height\":200,\"left\":[{\"id\":\"3398\"}],\"renderers\":[{\"id\":\"3420\"}],\"title\":{\"id\":\"3561\"},\"toolbar\":{\"id\":\"3409\"},\"width\":400,\"x_range\":{\"id\":\"3386\"},\"x_scale\":{\"id\":\"3390\"},\"y_range\":{\"id\":\"3388\"},\"y_scale\":{\"id\":\"3392\"}},\"id\":\"3385\",\"subtype\":\"Figure\",\"type\":\"Plot\"},{\"attributes\":{},\"id\":\"3570\",\"type\":\"Selection\"},{\"attributes\":{\"tools\":[{\"id\":\"3402\"},{\"id\":\"3403\"},{\"id\":\"3404\"},{\"id\":\"3405\"},{\"id\":\"3406\"},{\"id\":\"3407\"}]},\"id\":\"3409\",\"type\":\"Toolbar\"},{\"attributes\":{},\"id\":\"3407\",\"type\":\"HelpTool\"},{\"attributes\":{},\"id\":\"3565\",\"type\":\"AllLabels\"},{\"attributes\":{},\"id\":\"3399\",\"type\":\"BasicTicker\"},{\"attributes\":{},\"id\":\"3403\",\"type\":\"WheelZoomTool\"},{\"attributes\":{},\"id\":\"3388\",\"type\":\"DataRange1d\"},{\"attributes\":{},\"id\":\"3567\",\"type\":\"BasicTickFormatter\"},{\"attributes\":{\"coordinates\":null,\"data_source\":{\"id\":\"3416\"},\"glyph\":{\"id\":\"3417\"},\"group\":null,\"hover_glyph\":null,\"muted_glyph\":{\"id\":\"3419\"},\"nonselection_glyph\":{\"id\":\"3418\"},\"view\":{\"id\":\"3421\"}},\"id\":\"3420\",\"type\":\"GlyphRenderer\"},{\"attributes\":{},\"id\":\"3395\",\"type\":\"BasicTicker\"},{\"attributes\":{\"source\":{\"id\":\"3416\"}},\"id\":\"3421\",\"type\":\"CDSView\"},{\"attributes\":{\"coordinates\":null,\"group\":null},\"id\":\"3561\",\"type\":\"Title\"},{\"attributes\":{},\"id\":\"3564\",\"type\":\"BasicTickFormatter\"},{\"attributes\":{\"fill_alpha\":{\"value\":0.1},\"fill_color\":{\"value\":\"#1f77b4\"},\"hatch_alpha\":{\"value\":0.1},\"line_alpha\":{\"value\":0.1},\"line_color\":{\"value\":\"#1f77b4\"},\"size\":{\"value\":15},\"x\":{\"field\":\"x\"},\"y\":{\"field\":\"y\"}},\"id\":\"3418\",\"type\":\"Circle\"},{\"attributes\":{\"data\":{\"x\":[1,2,3,4,5],\"y\":[6,7,2,4,5]},\"selected\":{\"id\":\"3570\"},\"selection_policy\":{\"id\":\"3569\"}},\"id\":\"3416\",\"type\":\"ColumnDataSource\"},{\"attributes\":{\"fill_alpha\":{\"value\":0.2},\"fill_color\":{\"value\":\"#1f77b4\"},\"hatch_alpha\":{\"value\":0.2},\"line_alpha\":{\"value\":0.2},\"line_color\":{\"value\":\"#1f77b4\"},\"size\":{\"value\":15},\"x\":{\"field\":\"x\"},\"y\":{\"field\":\"y\"}},\"id\":\"3419\",\"type\":\"Circle\"},{\"attributes\":{\"coordinates\":null,\"formatter\":{\"id\":\"3564\"},\"group\":null,\"major_label_policy\":{\"id\":\"3565\"},\"ticker\":{\"id\":\"3399\"}},\"id\":\"3398\",\"type\":\"LinearAxis\"},{\"attributes\":{},\"id\":\"3392\",\"type\":\"LinearScale\"},{\"attributes\":{\"axis\":{\"id\":\"3398\"},\"coordinates\":null,\"dimension\":1,\"group\":null,\"ticker\":null},\"id\":\"3401\",\"type\":\"Grid\"},{\"attributes\":{},\"id\":\"3386\",\"type\":\"DataRange1d\"},{\"attributes\":{\"fill_color\":{\"value\":\"#1f77b4\"},\"line_color\":{\"value\":\"#1f77b4\"},\"size\":{\"value\":15},\"x\":{\"field\":\"x\"},\"y\":{\"field\":\"y\"}},\"id\":\"3417\",\"type\":\"Circle\"},{\"attributes\":{},\"id\":\"3569\",\"type\":\"UnionRenderers\"},{\"attributes\":{},\"id\":\"3402\",\"type\":\"PanTool\"},{\"attributes\":{\"bottom_units\":\"screen\",\"coordinates\":null,\"fill_alpha\":0.5,\"fill_color\":\"lightgrey\",\"group\":null,\"left_units\":\"screen\",\"level\":\"overlay\",\"line_alpha\":1.0,\"line_color\":\"black\",\"line_dash\":[4,4],\"line_width\":2,\"right_units\":\"screen\",\"syncable\":false,\"top_units\":\"screen\"},\"id\":\"3408\",\"type\":\"BoxAnnotation\"},{\"attributes\":{\"axis\":{\"id\":\"3394\"},\"coordinates\":null,\"group\":null,\"ticker\":null},\"id\":\"3397\",\"type\":\"Grid\"},{\"attributes\":{\"overlay\":{\"id\":\"3408\"}},\"id\":\"3404\",\"type\":\"BoxZoomTool\"},{\"attributes\":{\"coordinates\":null,\"formatter\":{\"id\":\"3567\"},\"group\":null,\"major_label_policy\":{\"id\":\"3568\"},\"ticker\":{\"id\":\"3395\"}},\"id\":\"3394\",\"type\":\"LinearAxis\"},{\"attributes\":{},\"id\":\"3406\",\"type\":\"ResetTool\"},{\"attributes\":{},\"id\":\"3405\",\"type\":\"SaveTool\"},{\"attributes\":{},\"id\":\"3568\",\"type\":\"AllLabels\"},{\"attributes\":{},\"id\":\"3390\",\"type\":\"LinearScale\"}],\"root_ids\":[\"3385\"]},\"title\":\"Bokeh Application\",\"version\":\"2.4.2\"}};\n  const render_items = [{\"docid\":\"16abf660-84f4-44e4-869f-8cf8ba8c0cbd\",\"root_ids\":[\"3385\"],\"roots\":{\"3385\":\"6db2cd2e-8ab3-4264-adf5-04abf278e6a8\"}}];\n  root.Bokeh.embed.embed_items_notebook(docs_json, render_items);\n\n  }\n  if (root.Bokeh !== undefined) {\n    embed_document(root);\n  } else {\n    let attempts = 0;\n    const timer = setInterval(function(root) {\n      if (root.Bokeh !== undefined) {\n        clearInterval(timer);\n        embed_document(root);\n      } else {\n        attempts++;\n        if (attempts > 100) {\n          clearInterval(timer);\n          console.log(\"Bokeh: ERROR: Unable to run BokehJS code because BokehJS library is missing\");\n        }\n      }\n    }, 10, root)\n  }\n})(window);",
      "application/vnd.bokehjs_exec.v0+json": ""
     },
     "metadata": {
      "application/vnd.bokehjs_exec.v0+json": {
       "id": "3385"
      }
     },
     "output_type": "display_data"
    }
   ],
   "source": [
    "# create a new plot using the figure function\n",
    "p = figure(width=400, height=200)\n",
    "\n",
    "# add a circle renderer with x and y coordinates and size\n",
    "p.circle([1, 2, 3, 4, 5], [6, 7, 2, 4, 5], size=15)\n",
    "\n",
    "show(p) # show the results"
   ]
  },
  {
   "cell_type": "markdown",
   "metadata": {},
   "source": [
    "Changing the shapes used to represent the points in your scatter plot is easy.\n",
    "Just swap out the `circle()` function for a different glyph function.\n",
    "\n",
    "The cell below contains a scatter plot with different scatter markers that you\n",
    "can try. This example also uses additional arguments to change the color\n",
    "(`color`) and opacity (`alpha`) of the points.\n",
    "\n",
    "Uncomment a glyph function and rerun the cell to see the result:"
   ]
  },
  {
   "cell_type": "code",
   "execution_count": 30,
   "metadata": {},
   "outputs": [
    {
     "data": {
      "text/html": [
       "\n",
       "\n",
       "\n",
       "\n",
       "\n",
       "\n",
       "  <div class=\"bk-root\" id=\"9848f6be-2e5c-4c7a-9d0e-6b3aad6ca904\" data-root-id=\"3627\"></div>\n"
      ]
     },
     "metadata": {},
     "output_type": "display_data"
    },
    {
     "data": {
      "application/javascript": "(function(root) {\n  function embed_document(root) {\n    \n  const docs_json = {\"a09890f2-d317-43a1-91a9-1f7c82fda05b\":{\"defs\":[],\"roots\":{\"references\":[{\"attributes\":{\"below\":[{\"id\":\"3636\"}],\"center\":[{\"id\":\"3639\"},{\"id\":\"3643\"}],\"height\":200,\"left\":[{\"id\":\"3640\"}],\"renderers\":[{\"id\":\"3662\"}],\"title\":{\"id\":\"3814\"},\"toolbar\":{\"id\":\"3651\"},\"width\":400,\"x_range\":{\"id\":\"3628\"},\"x_scale\":{\"id\":\"3632\"},\"y_range\":{\"id\":\"3630\"},\"y_scale\":{\"id\":\"3634\"}},\"id\":\"3627\",\"subtype\":\"Figure\",\"type\":\"Plot\"},{\"attributes\":{\"axis\":{\"id\":\"3636\"},\"coordinates\":null,\"group\":null,\"ticker\":null},\"id\":\"3639\",\"type\":\"Grid\"},{\"attributes\":{},\"id\":\"3641\",\"type\":\"BasicTicker\"},{\"attributes\":{\"coordinates\":null,\"formatter\":{\"id\":\"3820\"},\"group\":null,\"major_label_policy\":{\"id\":\"3821\"},\"ticker\":{\"id\":\"3637\"}},\"id\":\"3636\",\"type\":\"LinearAxis\"},{\"attributes\":{\"coordinates\":null,\"formatter\":{\"id\":\"3817\"},\"group\":null,\"major_label_policy\":{\"id\":\"3818\"},\"ticker\":{\"id\":\"3641\"}},\"id\":\"3640\",\"type\":\"LinearAxis\"},{\"attributes\":{},\"id\":\"3637\",\"type\":\"BasicTicker\"},{\"attributes\":{},\"id\":\"3649\",\"type\":\"HelpTool\"},{\"attributes\":{},\"id\":\"3823\",\"type\":\"Selection\"},{\"attributes\":{},\"id\":\"3820\",\"type\":\"BasicTickFormatter\"},{\"attributes\":{},\"id\":\"3647\",\"type\":\"SaveTool\"},{\"attributes\":{},\"id\":\"3632\",\"type\":\"LinearScale\"},{\"attributes\":{},\"id\":\"3648\",\"type\":\"ResetTool\"},{\"attributes\":{\"tools\":[{\"id\":\"3644\"},{\"id\":\"3645\"},{\"id\":\"3646\"},{\"id\":\"3647\"},{\"id\":\"3648\"},{\"id\":\"3649\"}]},\"id\":\"3651\",\"type\":\"Toolbar\"},{\"attributes\":{\"bottom_units\":\"screen\",\"coordinates\":null,\"fill_alpha\":0.5,\"fill_color\":\"lightgrey\",\"group\":null,\"left_units\":\"screen\",\"level\":\"overlay\",\"line_alpha\":1.0,\"line_color\":\"black\",\"line_dash\":[4,4],\"line_width\":2,\"right_units\":\"screen\",\"syncable\":false,\"top_units\":\"screen\"},\"id\":\"3650\",\"type\":\"BoxAnnotation\"},{\"attributes\":{\"fill_alpha\":{\"value\":0.2},\"fill_color\":{\"value\":\"red\"},\"hatch_alpha\":{\"value\":0.2},\"hatch_color\":{\"value\":\"red\"},\"line_alpha\":{\"value\":0.2},\"line_color\":{\"value\":\"red\"},\"marker\":{\"value\":\"triangle\"},\"size\":{\"value\":15},\"x\":{\"field\":\"x\"},\"y\":{\"field\":\"y\"}},\"id\":\"3661\",\"type\":\"Scatter\"},{\"attributes\":{},\"id\":\"3645\",\"type\":\"WheelZoomTool\"},{\"attributes\":{},\"id\":\"3821\",\"type\":\"AllLabels\"},{\"attributes\":{},\"id\":\"3822\",\"type\":\"UnionRenderers\"},{\"attributes\":{},\"id\":\"3818\",\"type\":\"AllLabels\"},{\"attributes\":{\"coordinates\":null,\"data_source\":{\"id\":\"3658\"},\"glyph\":{\"id\":\"3659\"},\"group\":null,\"hover_glyph\":null,\"muted_glyph\":{\"id\":\"3661\"},\"nonselection_glyph\":{\"id\":\"3660\"},\"view\":{\"id\":\"3663\"}},\"id\":\"3662\",\"type\":\"GlyphRenderer\"},{\"attributes\":{\"source\":{\"id\":\"3658\"}},\"id\":\"3663\",\"type\":\"CDSView\"},{\"attributes\":{\"fill_alpha\":{\"value\":0.1},\"fill_color\":{\"value\":\"red\"},\"hatch_alpha\":{\"value\":0.1},\"hatch_color\":{\"value\":\"red\"},\"line_alpha\":{\"value\":0.1},\"line_color\":{\"value\":\"red\"},\"marker\":{\"value\":\"triangle\"},\"size\":{\"value\":15},\"x\":{\"field\":\"x\"},\"y\":{\"field\":\"y\"}},\"id\":\"3660\",\"type\":\"Scatter\"},{\"attributes\":{},\"id\":\"3628\",\"type\":\"DataRange1d\"},{\"attributes\":{\"overlay\":{\"id\":\"3650\"}},\"id\":\"3646\",\"type\":\"BoxZoomTool\"},{\"attributes\":{},\"id\":\"3817\",\"type\":\"BasicTickFormatter\"},{\"attributes\":{},\"id\":\"3630\",\"type\":\"DataRange1d\"},{\"attributes\":{\"coordinates\":null,\"group\":null},\"id\":\"3814\",\"type\":\"Title\"},{\"attributes\":{\"data\":{\"x\":[1,2,3,4,5],\"y\":[6,7,2,4,5]},\"selected\":{\"id\":\"3823\"},\"selection_policy\":{\"id\":\"3822\"}},\"id\":\"3658\",\"type\":\"ColumnDataSource\"},{\"attributes\":{},\"id\":\"3644\",\"type\":\"PanTool\"},{\"attributes\":{},\"id\":\"3634\",\"type\":\"LinearScale\"},{\"attributes\":{\"fill_alpha\":{\"value\":0.5},\"fill_color\":{\"value\":\"red\"},\"hatch_alpha\":{\"value\":0.5},\"hatch_color\":{\"value\":\"red\"},\"line_alpha\":{\"value\":0.5},\"line_color\":{\"value\":\"red\"},\"marker\":{\"value\":\"triangle\"},\"size\":{\"value\":15},\"x\":{\"field\":\"x\"},\"y\":{\"field\":\"y\"}},\"id\":\"3659\",\"type\":\"Scatter\"},{\"attributes\":{\"axis\":{\"id\":\"3640\"},\"coordinates\":null,\"dimension\":1,\"group\":null,\"ticker\":null},\"id\":\"3643\",\"type\":\"Grid\"}],\"root_ids\":[\"3627\"]},\"title\":\"Bokeh Application\",\"version\":\"2.4.2\"}};\n  const render_items = [{\"docid\":\"a09890f2-d317-43a1-91a9-1f7c82fda05b\",\"root_ids\":[\"3627\"],\"roots\":{\"3627\":\"9848f6be-2e5c-4c7a-9d0e-6b3aad6ca904\"}}];\n  root.Bokeh.embed.embed_items_notebook(docs_json, render_items);\n\n  }\n  if (root.Bokeh !== undefined) {\n    embed_document(root);\n  } else {\n    let attempts = 0;\n    const timer = setInterval(function(root) {\n      if (root.Bokeh !== undefined) {\n        clearInterval(timer);\n        embed_document(root);\n      } else {\n        attempts++;\n        if (attempts > 100) {\n          clearInterval(timer);\n          console.log(\"Bokeh: ERROR: Unable to run BokehJS code because BokehJS library is missing\");\n        }\n      }\n    }, 10, root)\n  }\n})(window);",
      "application/vnd.bokehjs_exec.v0+json": ""
     },
     "metadata": {
      "application/vnd.bokehjs_exec.v0+json": {
       "id": "3627"
      }
     },
     "output_type": "display_data"
    }
   ],
   "source": [
    "# create a new plot and defien some data\n",
    "p = figure(width=400, height=200)\n",
    "x = [1, 2, 3, 4, 5]\n",
    "y = [6, 7, 2, 4, 5]\n",
    "\n",
    "# use one the different glyph functions to see what they do\n",
    "p.triangle(x, y, size=15, color=\"red\", alpha=0.5)\n",
    "# p.triangle_dot(x, y, size=15, color=\"yellow\", alpha=0.5)\n",
    "# p.square(x, y, size=15, color=\"pink\", alpha=0.5)\n",
    "# p.square_dot(x, y, size=15, color=\"blue\", alpha=0.5)\n",
    "# p.square_cross(x, y, size=15, color=\"green\", alpha=0.5)\n",
    "# p.square_pin(x, y, size=15, color=\"maroon\", alpha=0.5)\n",
    "# p.asterisk(x, y, size=15, color=\"orange\", alpha=0.5)\n",
    "\n",
    "show(p) # show the results"
   ]
  },
  {
   "cell_type": "markdown",
   "metadata": {},
   "source": [
    "See [Scatter markers](https://docs.bokeh.org/en/latest/docs/user_guide/basic/scatters.html#scatter-markers)\n",
    "in the Bokeh user guide for an overview of all available scatter markers."
   ]
  },
  {
   "cell_type": "markdown",
   "metadata": {},
   "source": [
    "### Combining glyphs in a single plot\n",
    "\n",
    "So far, you have created a single line chart and a single scatter plot.\n",
    "However, you can also combine multiple glyphs in a single plot.\n",
    "\n",
    "All you need to do is call multiple glyph functions on the same figure:"
   ]
  },
  {
   "cell_type": "code",
   "execution_count": 31,
   "metadata": {},
   "outputs": [
    {
     "data": {
      "text/html": [
       "\n",
       "\n",
       "\n",
       "\n",
       "\n",
       "\n",
       "  <div class=\"bk-root\" id=\"f0de6fd4-e3ae-42bd-a0ab-42b598e0a67b\" data-root-id=\"3880\"></div>\n"
      ]
     },
     "metadata": {},
     "output_type": "display_data"
    },
    {
     "data": {
      "application/javascript": "(function(root) {\n  function embed_document(root) {\n    \n  const docs_json = {\"53139c69-97f5-438a-a3e0-929ea8318cdf\":{\"defs\":[],\"roots\":{\"references\":[{\"attributes\":{\"below\":[{\"id\":\"3889\"}],\"center\":[{\"id\":\"3892\"},{\"id\":\"3896\"}],\"height\":300,\"left\":[{\"id\":\"3893\"}],\"renderers\":[{\"id\":\"3915\"},{\"id\":\"3921\"}],\"title\":{\"id\":\"4084\"},\"toolbar\":{\"id\":\"3904\"},\"width\":300,\"x_range\":{\"id\":\"3881\"},\"x_scale\":{\"id\":\"3885\"},\"y_range\":{\"id\":\"3883\"},\"y_scale\":{\"id\":\"3887\"}},\"id\":\"3880\",\"subtype\":\"Figure\",\"type\":\"Plot\"},{\"attributes\":{},\"id\":\"3890\",\"type\":\"BasicTicker\"},{\"attributes\":{},\"id\":\"3902\",\"type\":\"HelpTool\"},{\"attributes\":{},\"id\":\"4087\",\"type\":\"BasicTickFormatter\"},{\"attributes\":{\"coordinates\":null,\"formatter\":{\"id\":\"4090\"},\"group\":null,\"major_label_policy\":{\"id\":\"4091\"},\"ticker\":{\"id\":\"3890\"}},\"id\":\"3889\",\"type\":\"LinearAxis\"},{\"attributes\":{},\"id\":\"3885\",\"type\":\"LinearScale\"},{\"attributes\":{\"axis\":{\"id\":\"3889\"},\"coordinates\":null,\"group\":null,\"ticker\":null},\"id\":\"3892\",\"type\":\"Grid\"},{\"attributes\":{\"coordinates\":null,\"data_source\":{\"id\":\"3911\"},\"glyph\":{\"id\":\"3912\"},\"group\":null,\"hover_glyph\":null,\"muted_glyph\":{\"id\":\"3914\"},\"nonselection_glyph\":{\"id\":\"3913\"},\"view\":{\"id\":\"3916\"}},\"id\":\"3915\",\"type\":\"GlyphRenderer\"},{\"attributes\":{\"bottom_units\":\"screen\",\"coordinates\":null,\"fill_alpha\":0.5,\"fill_color\":\"lightgrey\",\"group\":null,\"left_units\":\"screen\",\"level\":\"overlay\",\"line_alpha\":1.0,\"line_color\":\"black\",\"line_dash\":[4,4],\"line_width\":2,\"right_units\":\"screen\",\"syncable\":false,\"top_units\":\"screen\"},\"id\":\"3903\",\"type\":\"BoxAnnotation\"},{\"attributes\":{},\"id\":\"4088\",\"type\":\"AllLabels\"},{\"attributes\":{\"coordinates\":null,\"group\":null},\"id\":\"4084\",\"type\":\"Title\"},{\"attributes\":{\"source\":{\"id\":\"3911\"}},\"id\":\"3916\",\"type\":\"CDSView\"},{\"attributes\":{\"line_alpha\":0.2,\"line_color\":\"#1f77b4\",\"x\":{\"field\":\"x\"},\"y\":{\"field\":\"y\"}},\"id\":\"3914\",\"type\":\"Line\"},{\"attributes\":{\"line_alpha\":0.1,\"line_color\":\"#1f77b4\",\"x\":{\"field\":\"x\"},\"y\":{\"field\":\"y\"}},\"id\":\"3913\",\"type\":\"Line\"},{\"attributes\":{\"overlay\":{\"id\":\"3903\"}},\"id\":\"3899\",\"type\":\"BoxZoomTool\"},{\"attributes\":{\"line_color\":\"#1f77b4\",\"x\":{\"field\":\"x\"},\"y\":{\"field\":\"y\"}},\"id\":\"3912\",\"type\":\"Line\"},{\"attributes\":{\"coordinates\":null,\"formatter\":{\"id\":\"4087\"},\"group\":null,\"major_label_policy\":{\"id\":\"4088\"},\"ticker\":{\"id\":\"3894\"}},\"id\":\"3893\",\"type\":\"LinearAxis\"},{\"attributes\":{\"coordinates\":null,\"data_source\":{\"id\":\"3917\"},\"glyph\":{\"id\":\"3918\"},\"group\":null,\"hover_glyph\":null,\"muted_glyph\":{\"id\":\"3920\"},\"nonselection_glyph\":{\"id\":\"3919\"},\"view\":{\"id\":\"3922\"}},\"id\":\"3921\",\"type\":\"GlyphRenderer\"},{\"attributes\":{},\"id\":\"3898\",\"type\":\"WheelZoomTool\"},{\"attributes\":{},\"id\":\"4092\",\"type\":\"UnionRenderers\"},{\"attributes\":{},\"id\":\"3900\",\"type\":\"SaveTool\"},{\"attributes\":{},\"id\":\"3897\",\"type\":\"PanTool\"},{\"attributes\":{},\"id\":\"3894\",\"type\":\"BasicTicker\"},{\"attributes\":{},\"id\":\"3883\",\"type\":\"DataRange1d\"},{\"attributes\":{\"source\":{\"id\":\"3917\"}},\"id\":\"3922\",\"type\":\"CDSView\"},{\"attributes\":{},\"id\":\"4091\",\"type\":\"AllLabels\"},{\"attributes\":{},\"id\":\"4093\",\"type\":\"Selection\"},{\"attributes\":{},\"id\":\"3901\",\"type\":\"ResetTool\"},{\"attributes\":{\"data\":{\"x\":[1,2,3,4,5],\"y\":[6,7,2,1,5]},\"selected\":{\"id\":\"4095\"},\"selection_policy\":{\"id\":\"4094\"}},\"id\":\"3917\",\"type\":\"ColumnDataSource\"},{\"attributes\":{\"data\":{\"x\":[1,2,3,4,5],\"y\":[6,7,2,1,5]},\"selected\":{\"id\":\"4093\"},\"selection_policy\":{\"id\":\"4092\"}},\"id\":\"3911\",\"type\":\"ColumnDataSource\"},{\"attributes\":{},\"id\":\"4094\",\"type\":\"UnionRenderers\"},{\"attributes\":{\"fill_alpha\":{\"value\":0.5},\"fill_color\":{\"value\":\"red\"},\"hatch_alpha\":{\"value\":0.5},\"hatch_color\":{\"value\":\"red\"},\"line_alpha\":{\"value\":0.5},\"line_color\":{\"value\":\"red\"},\"marker\":{\"value\":\"circle_dot\"},\"size\":{\"value\":15},\"x\":{\"field\":\"x\"},\"y\":{\"field\":\"y\"}},\"id\":\"3918\",\"type\":\"Scatter\"},{\"attributes\":{},\"id\":\"4095\",\"type\":\"Selection\"},{\"attributes\":{},\"id\":\"3887\",\"type\":\"LinearScale\"},{\"attributes\":{\"tools\":[{\"id\":\"3897\"},{\"id\":\"3898\"},{\"id\":\"3899\"},{\"id\":\"3900\"},{\"id\":\"3901\"},{\"id\":\"3902\"}]},\"id\":\"3904\",\"type\":\"Toolbar\"},{\"attributes\":{},\"id\":\"3881\",\"type\":\"DataRange1d\"},{\"attributes\":{\"fill_alpha\":{\"value\":0.1},\"fill_color\":{\"value\":\"red\"},\"hatch_alpha\":{\"value\":0.1},\"hatch_color\":{\"value\":\"red\"},\"line_alpha\":{\"value\":0.1},\"line_color\":{\"value\":\"red\"},\"marker\":{\"value\":\"circle_dot\"},\"size\":{\"value\":15},\"x\":{\"field\":\"x\"},\"y\":{\"field\":\"y\"}},\"id\":\"3919\",\"type\":\"Scatter\"},{\"attributes\":{\"axis\":{\"id\":\"3893\"},\"coordinates\":null,\"dimension\":1,\"group\":null,\"ticker\":null},\"id\":\"3896\",\"type\":\"Grid\"},{\"attributes\":{},\"id\":\"4090\",\"type\":\"BasicTickFormatter\"},{\"attributes\":{\"fill_alpha\":{\"value\":0.2},\"fill_color\":{\"value\":\"red\"},\"hatch_alpha\":{\"value\":0.2},\"hatch_color\":{\"value\":\"red\"},\"line_alpha\":{\"value\":0.2},\"line_color\":{\"value\":\"red\"},\"marker\":{\"value\":\"circle_dot\"},\"size\":{\"value\":15},\"x\":{\"field\":\"x\"},\"y\":{\"field\":\"y\"}},\"id\":\"3920\",\"type\":\"Scatter\"}],\"root_ids\":[\"3880\"]},\"title\":\"Bokeh Application\",\"version\":\"2.4.2\"}};\n  const render_items = [{\"docid\":\"53139c69-97f5-438a-a3e0-929ea8318cdf\",\"root_ids\":[\"3880\"],\"roots\":{\"3880\":\"f0de6fd4-e3ae-42bd-a0ab-42b598e0a67b\"}}];\n  root.Bokeh.embed.embed_items_notebook(docs_json, render_items);\n\n  }\n  if (root.Bokeh !== undefined) {\n    embed_document(root);\n  } else {\n    let attempts = 0;\n    const timer = setInterval(function(root) {\n      if (root.Bokeh !== undefined) {\n        clearInterval(timer);\n        embed_document(root);\n      } else {\n        attempts++;\n        if (attempts > 100) {\n          clearInterval(timer);\n          console.log(\"Bokeh: ERROR: Unable to run BokehJS code because BokehJS library is missing\");\n        }\n      }\n    }, 10, root)\n  }\n})(window);",
      "application/vnd.bokehjs_exec.v0+json": ""
     },
     "metadata": {
      "application/vnd.bokehjs_exec.v0+json": {
       "id": "3880"
      }
     },
     "output_type": "display_data"
    }
   ],
   "source": [
    "plot = figure(height=300, width=300)\n",
    "x = [1, 2, 3, 4, 5]\n",
    "y = [6, 7, 2, 1, 5]\n",
    "\n",
    "# add a line chart to the plot\n",
    "plot.line(x, y)\n",
    "\n",
    "# add scatter markers to the plot\n",
    "plot.circle_dot(x, y, size=15, color=\"red\", alpha=0.5)\n",
    "\n",
    "show(plot)"
   ]
  },
  {
   "cell_type": "markdown",
   "metadata": {},
   "source": [
    "### Categorical data in bar charts\n",
    "\n",
    "Bar charts represent data for different categories as vertical or horizontal\n",
    "bars.\n",
    "\n",
    "In the examples so far, you have used a continuous range for the x-axis.\n",
    "Bar charts are a great way to visualize categorical data.\n",
    "This means that the x-axis is not a continuous range, but a set of discrete categories.\n",
    "For example, a list of countries or a list of different products.\n",
    "\n",
    "In the example below, you will create a bar chart that shows a count for\n",
    "different kinds of fruits.\n",
    "\n",
    "The different fruits are the categories.\n",
    "To use categories instead of a continuous range of numbers, the `figure()` function\n",
    "has a parameter called `x_range`.\n",
    "This is where you pass the list of fruits.\n",
    "\n",
    "The glyph function for vertical bars is called `vbar()`.\n",
    "The height of the bars is determined by the `top` parameter.\n",
    "The `x` parameter determines which category the bar belongs to."
   ]
  },
  {
   "cell_type": "code",
   "execution_count": 32,
   "metadata": {},
   "outputs": [
    {
     "data": {
      "text/html": [
       "\n",
       "\n",
       "\n",
       "\n",
       "\n",
       "\n",
       "  <div class=\"bk-root\" id=\"327a4962-d505-4699-9cc9-a3c0ddd6ed83\" data-root-id=\"4162\"></div>\n"
      ]
     },
     "metadata": {},
     "output_type": "display_data"
    },
    {
     "data": {
      "application/javascript": "(function(root) {\n  function embed_document(root) {\n    \n  const docs_json = {\"95153e3b-a837-4018-9c82-9a8f5d3767c6\":{\"defs\":[],\"roots\":{\"references\":[{\"attributes\":{\"below\":[{\"id\":\"4173\"}],\"center\":[{\"id\":\"4175\"},{\"id\":\"4179\"}],\"height\":350,\"left\":[{\"id\":\"4176\"}],\"renderers\":[{\"id\":\"4198\"}],\"title\":{\"id\":\"4163\"},\"toolbar\":{\"id\":\"4187\"},\"x_range\":{\"id\":\"4165\"},\"x_scale\":{\"id\":\"4169\"},\"y_range\":{\"id\":\"4167\"},\"y_scale\":{\"id\":\"4171\"}},\"id\":\"4162\",\"subtype\":\"Figure\",\"type\":\"Plot\"},{\"attributes\":{},\"id\":\"4174\",\"type\":\"CategoricalTicker\"},{\"attributes\":{},\"id\":\"4184\",\"type\":\"ResetTool\"},{\"attributes\":{},\"id\":\"4169\",\"type\":\"CategoricalScale\"},{\"attributes\":{},\"id\":\"4167\",\"type\":\"DataRange1d\"},{\"attributes\":{},\"id\":\"4183\",\"type\":\"SaveTool\"},{\"attributes\":{\"overlay\":{\"id\":\"4186\"}},\"id\":\"4182\",\"type\":\"BoxZoomTool\"},{\"attributes\":{\"factors\":[\"Apples\",\"Pears\",\"Nectarines\",\"Plums\",\"Grapes\",\"Strawberries\"]},\"id\":\"4165\",\"type\":\"FactorRange\"},{\"attributes\":{},\"id\":\"4180\",\"type\":\"PanTool\"},{\"attributes\":{},\"id\":\"4181\",\"type\":\"WheelZoomTool\"},{\"attributes\":{},\"id\":\"4380\",\"type\":\"AllLabels\"},{\"attributes\":{},\"id\":\"4379\",\"type\":\"CategoricalTickFormatter\"},{\"attributes\":{\"coordinates\":null,\"data_source\":{\"id\":\"4194\"},\"glyph\":{\"id\":\"4195\"},\"group\":null,\"hover_glyph\":null,\"muted_glyph\":{\"id\":\"4197\"},\"nonselection_glyph\":{\"id\":\"4196\"},\"view\":{\"id\":\"4199\"}},\"id\":\"4198\",\"type\":\"GlyphRenderer\"},{\"attributes\":{},\"id\":\"4377\",\"type\":\"AllLabels\"},{\"attributes\":{},\"id\":\"4376\",\"type\":\"BasicTickFormatter\"},{\"attributes\":{\"fill_alpha\":{\"value\":0.1},\"fill_color\":{\"value\":\"firebrick\"},\"hatch_alpha\":{\"value\":0.1},\"hatch_color\":{\"value\":\"firebrick\"},\"line_alpha\":{\"value\":0.1},\"line_color\":{\"value\":\"firebrick\"},\"top\":{\"field\":\"top\"},\"width\":{\"value\":0.9},\"x\":{\"field\":\"x\"}},\"id\":\"4196\",\"type\":\"VBar\"},{\"attributes\":{},\"id\":\"4185\",\"type\":\"HelpTool\"},{\"attributes\":{},\"id\":\"4381\",\"type\":\"UnionRenderers\"},{\"attributes\":{\"coordinates\":null,\"formatter\":{\"id\":\"4379\"},\"group\":null,\"major_label_policy\":{\"id\":\"4380\"},\"ticker\":{\"id\":\"4174\"}},\"id\":\"4173\",\"type\":\"CategoricalAxis\"},{\"attributes\":{\"tools\":[{\"id\":\"4180\"},{\"id\":\"4181\"},{\"id\":\"4182\"},{\"id\":\"4183\"},{\"id\":\"4184\"},{\"id\":\"4185\"}]},\"id\":\"4187\",\"type\":\"Toolbar\"},{\"attributes\":{},\"id\":\"4177\",\"type\":\"BasicTicker\"},{\"attributes\":{\"bottom_units\":\"screen\",\"coordinates\":null,\"fill_alpha\":0.5,\"fill_color\":\"lightgrey\",\"group\":null,\"left_units\":\"screen\",\"level\":\"overlay\",\"line_alpha\":1.0,\"line_color\":\"black\",\"line_dash\":[4,4],\"line_width\":2,\"right_units\":\"screen\",\"syncable\":false,\"top_units\":\"screen\"},\"id\":\"4186\",\"type\":\"BoxAnnotation\"},{\"attributes\":{\"axis\":{\"id\":\"4176\"},\"coordinates\":null,\"dimension\":1,\"group\":null,\"ticker\":null},\"id\":\"4179\",\"type\":\"Grid\"},{\"attributes\":{\"fill_color\":{\"value\":\"firebrick\"},\"hatch_color\":{\"value\":\"firebrick\"},\"line_color\":{\"value\":\"firebrick\"},\"top\":{\"field\":\"top\"},\"width\":{\"value\":0.9},\"x\":{\"field\":\"x\"}},\"id\":\"4195\",\"type\":\"VBar\"},{\"attributes\":{\"fill_alpha\":{\"value\":0.2},\"fill_color\":{\"value\":\"firebrick\"},\"hatch_alpha\":{\"value\":0.2},\"hatch_color\":{\"value\":\"firebrick\"},\"line_alpha\":{\"value\":0.2},\"line_color\":{\"value\":\"firebrick\"},\"top\":{\"field\":\"top\"},\"width\":{\"value\":0.9},\"x\":{\"field\":\"x\"}},\"id\":\"4197\",\"type\":\"VBar\"},{\"attributes\":{\"source\":{\"id\":\"4194\"}},\"id\":\"4199\",\"type\":\"CDSView\"},{\"attributes\":{\"coordinates\":null,\"group\":null,\"text\":\"Fruit Counts\"},\"id\":\"4163\",\"type\":\"Title\"},{\"attributes\":{},\"id\":\"4382\",\"type\":\"Selection\"},{\"attributes\":{},\"id\":\"4171\",\"type\":\"LinearScale\"},{\"attributes\":{\"data\":{\"top\":[5,3,4,2,4,6],\"x\":[\"Apples\",\"Pears\",\"Nectarines\",\"Plums\",\"Grapes\",\"Strawberries\"]},\"selected\":{\"id\":\"4382\"},\"selection_policy\":{\"id\":\"4381\"}},\"id\":\"4194\",\"type\":\"ColumnDataSource\"},{\"attributes\":{\"coordinates\":null,\"formatter\":{\"id\":\"4376\"},\"group\":null,\"major_label_policy\":{\"id\":\"4377\"},\"ticker\":{\"id\":\"4177\"}},\"id\":\"4176\",\"type\":\"LinearAxis\"},{\"attributes\":{\"axis\":{\"id\":\"4173\"},\"coordinates\":null,\"group\":null,\"ticker\":null},\"id\":\"4175\",\"type\":\"Grid\"}],\"root_ids\":[\"4162\"]},\"title\":\"Bokeh Application\",\"version\":\"2.4.2\"}};\n  const render_items = [{\"docid\":\"95153e3b-a837-4018-9c82-9a8f5d3767c6\",\"root_ids\":[\"4162\"],\"roots\":{\"4162\":\"327a4962-d505-4699-9cc9-a3c0ddd6ed83\"}}];\n  root.Bokeh.embed.embed_items_notebook(docs_json, render_items);\n\n  }\n  if (root.Bokeh !== undefined) {\n    embed_document(root);\n  } else {\n    let attempts = 0;\n    const timer = setInterval(function(root) {\n      if (root.Bokeh !== undefined) {\n        clearInterval(timer);\n        embed_document(root);\n      } else {\n        attempts++;\n        if (attempts > 100) {\n          clearInterval(timer);\n          console.log(\"Bokeh: ERROR: Unable to run BokehJS code because BokehJS library is missing\");\n        }\n      }\n    }, 10, root)\n  }\n})(window);",
      "application/vnd.bokehjs_exec.v0+json": ""
     },
     "metadata": {
      "application/vnd.bokehjs_exec.v0+json": {
       "id": "4162"
      }
     },
     "output_type": "display_data"
    }
   ],
   "source": [
    "fruits = ['Apples', 'Pears', 'Nectarines', 'Plums', 'Grapes', 'Strawberries']  # a set of categories\n",
    "counts = [5, 3, 4, 2, 4, 6]\n",
    "\n",
    "p = figure(\n",
    "    x_range=fruits, # define the categories on the x-axis\n",
    "    height=350,\n",
    "    title=\"Fruit Counts\"\n",
    "    )\n",
    "\n",
    "p.vbar(x=fruits, top=counts, width=0.9, color=\"firebrick\")\n",
    "\n",
    "show(p)"
   ]
  },
  {
   "cell_type": "markdown",
   "metadata": {},
   "source": [
    "### Bar chart example\n",
    "\n",
    "In the air travel dashboard you are building, a bar chart is used to visualize\n",
    "the number of passengers for the top 10 airlines.\n",
    "\n",
    "This chart uses the `airlines_by_passengers_df` DataFrame:"
   ]
  },
  {
   "cell_type": "code",
   "execution_count": 33,
   "metadata": {},
   "outputs": [
    {
     "data": {
      "text/html": [
       "<div>\n",
       "<style scoped>\n",
       "    .dataframe tbody tr th:only-of-type {\n",
       "        vertical-align: middle;\n",
       "    }\n",
       "\n",
       "    .dataframe tbody tr th {\n",
       "        vertical-align: top;\n",
       "    }\n",
       "\n",
       "    .dataframe thead th {\n",
       "        text-align: right;\n",
       "    }\n",
       "</style>\n",
       "<table border=\"1\" class=\"dataframe\">\n",
       "  <thead>\n",
       "    <tr style=\"text-align: right;\">\n",
       "      <th></th>\n",
       "      <th>unique_carrier_name</th>\n",
       "      <th>unique_carrier</th>\n",
       "      <th>passengers</th>\n",
       "      <th>position</th>\n",
       "    </tr>\n",
       "  </thead>\n",
       "  <tbody>\n",
       "    <tr>\n",
       "      <th>0</th>\n",
       "      <td>Southwest Airlines Co.</td>\n",
       "      <td>WN</td>\n",
       "      <td>120715882</td>\n",
       "      <td>1</td>\n",
       "    </tr>\n",
       "    <tr>\n",
       "      <th>1</th>\n",
       "      <td>American Airlines Inc.</td>\n",
       "      <td>AA</td>\n",
       "      <td>99225144</td>\n",
       "      <td>2</td>\n",
       "    </tr>\n",
       "    <tr>\n",
       "      <th>2</th>\n",
       "      <td>Delta Air Lines Inc.</td>\n",
       "      <td>DL</td>\n",
       "      <td>92633601</td>\n",
       "      <td>3</td>\n",
       "    </tr>\n",
       "    <tr>\n",
       "      <th>3</th>\n",
       "      <td>United Air Lines Inc.</td>\n",
       "      <td>UA</td>\n",
       "      <td>58899326</td>\n",
       "      <td>4</td>\n",
       "    </tr>\n",
       "    <tr>\n",
       "      <th>4</th>\n",
       "      <td>SkyWest Airlines Inc.</td>\n",
       "      <td>OO</td>\n",
       "      <td>35069897</td>\n",
       "      <td>5</td>\n",
       "    </tr>\n",
       "  </tbody>\n",
       "</table>\n",
       "</div>"
      ],
      "text/plain": [
       "      unique_carrier_name unique_carrier  passengers  position\n",
       "0  Southwest Airlines Co.             WN   120715882         1\n",
       "1  American Airlines Inc.             AA    99225144         2\n",
       "2    Delta Air Lines Inc.             DL    92633601         3\n",
       "3   United Air Lines Inc.             UA    58899326         4\n",
       "4   SkyWest Airlines Inc.             OO    35069897         5"
      ]
     },
     "execution_count": 33,
     "metadata": {},
     "output_type": "execute_result"
    }
   ],
   "source": [
    "airlines_by_passengers_df = data.get_biggest_airlines_by_passengers()\n",
    "airlines_by_passengers_df.head()"
   ]
  },
  {
   "cell_type": "markdown",
   "metadata": {},
   "source": [
    "Use `figure()` with the `height`, `width` and `title` parameters to create a new\n",
    "plot. Next, load the data from the `monthly_values_df` data frame. Use this data\n",
    "do add a line glyph to the plot, using `line()` with some of the parameters you\n",
    "saw above. Finally, use `show()` to display the plot:"
   ]
  },
  {
   "cell_type": "code",
   "execution_count": 34,
   "metadata": {},
   "outputs": [
    {
     "data": {
      "text/html": [
       "\n",
       "\n",
       "\n",
       "\n",
       "\n",
       "\n",
       "  <div class=\"bk-root\" id=\"0a809039-0da0-4c9c-8ab0-fcc10d451c92\" data-root-id=\"4434\"></div>\n"
      ]
     },
     "metadata": {},
     "output_type": "display_data"
    },
    {
     "data": {
      "application/javascript": "(function(root) {\n  function embed_document(root) {\n    \n  const docs_json = {\"ee80d844-8bfb-4b0e-b04c-94fcda4f5601\":{\"defs\":[],\"roots\":{\"references\":[{\"attributes\":{\"below\":[{\"id\":\"4445\"}],\"center\":[{\"id\":\"4447\"},{\"id\":\"4451\"},{\"id\":\"4482\"}],\"height\":300,\"left\":[{\"id\":\"4448\"}],\"renderers\":[{\"id\":\"4470\"}],\"title\":{\"id\":\"4435\"},\"toolbar\":{\"id\":\"4459\"},\"x_range\":{\"id\":\"4437\"},\"x_scale\":{\"id\":\"4441\"},\"y_range\":{\"id\":\"4439\"},\"y_scale\":{\"id\":\"4443\"}},\"id\":\"4434\",\"subtype\":\"Figure\",\"type\":\"Plot\"},{\"attributes\":{},\"id\":\"4441\",\"type\":\"CategoricalScale\"},{\"attributes\":{},\"id\":\"4443\",\"type\":\"LinearScale\"},{\"attributes\":{},\"id\":\"4474\",\"type\":\"BasicTickFormatter\"},{\"attributes\":{\"coordinates\":null,\"group\":null,\"text\":\"Top 10 carriers by passengers (domestic routes)\"},\"id\":\"4435\",\"type\":\"Title\"},{\"attributes\":{\"factors\":[\"Southwest Airlines Co.\",\"American Airlines Inc.\",\"Delta Air Lines Inc.\",\"United Air Lines Inc.\",\"SkyWest Airlines Inc.\",\"Spirit Air Lines\",\"JetBlue Airways\",\"Alaska Airlines Inc.\",\"Frontier Airlines Inc.\",\"Republic Airline\"]},\"id\":\"4437\",\"type\":\"FactorRange\"},{\"attributes\":{\"data\":{\"top\":[120715882,99225144,92633601,58899326,35069897,27609122,22944344,21702741,19626363,17495428,13708350,12573222,12351078,12330654,9364906,6472634,5927732,3775696,3380271,2880902,2783233,2329630,579476,411820,375666],\"x\":[\"Southwest Airlines Co.\",\"American Airlines Inc.\",\"Delta Air Lines Inc.\",\"United Air Lines Inc.\",\"SkyWest Airlines Inc.\",\"Spirit Air Lines\",\"JetBlue Airways\",\"Alaska Airlines Inc.\",\"Frontier Airlines Inc.\",\"Republic Airline\",\"Allegiant Air\",\"Endeavor Air Inc.\",\"Envoy Air\",\"PSA Airlines Inc.\",\"Mesa Airlines Inc.\",\"Hawaiian Airlines Inc.\",\"Horizon Air\",\"Piedmont Airlines\",\"Air Wisconsin Airlines...\",\"Commutair Aka Champlai...\",\"Sun Country Airlines d...\",\"GoJet Airlines LLC d/b...\",\"Swift Air, LLC d/b/a E...\",\"Cape Air\",\"Silver Airways\"]},\"selected\":{\"id\":\"4480\"},\"selection_policy\":{\"id\":\"4479\"}},\"id\":\"4466\",\"type\":\"ColumnDataSource\"},{\"attributes\":{\"tools\":[{\"id\":\"4452\"},{\"id\":\"4453\"},{\"id\":\"4454\"},{\"id\":\"4455\"},{\"id\":\"4456\"},{\"id\":\"4457\"}]},\"id\":\"4459\",\"type\":\"Toolbar\"},{\"attributes\":{\"fill_color\":{\"value\":\"#1f77b4\"},\"line_color\":{\"value\":\"#1f77b4\"},\"top\":{\"field\":\"top\"},\"width\":{\"value\":0.6},\"x\":{\"field\":\"x\"}},\"id\":\"4467\",\"type\":\"VBar\"},{\"attributes\":{\"source\":{\"id\":\"4466\"}},\"id\":\"4471\",\"type\":\"CDSView\"},{\"attributes\":{},\"id\":\"4478\",\"type\":\"AllLabels\"},{\"attributes\":{\"bottom_units\":\"screen\",\"coordinates\":null,\"fill_alpha\":0.5,\"fill_color\":\"lightgrey\",\"group\":null,\"left_units\":\"screen\",\"level\":\"overlay\",\"line_alpha\":1.0,\"line_color\":\"black\",\"line_dash\":[4,4],\"line_width\":2,\"right_units\":\"screen\",\"syncable\":false,\"top_units\":\"screen\"},\"id\":\"4458\",\"type\":\"BoxAnnotation\"},{\"attributes\":{},\"id\":\"4456\",\"type\":\"ResetTool\"},{\"attributes\":{},\"id\":\"4455\",\"type\":\"SaveTool\"},{\"attributes\":{\"overlay\":{\"id\":\"4458\"}},\"id\":\"4454\",\"type\":\"BoxZoomTool\"},{\"attributes\":{},\"id\":\"4452\",\"type\":\"PanTool\"},{\"attributes\":{},\"id\":\"4453\",\"type\":\"WheelZoomTool\"},{\"attributes\":{\"fill_alpha\":{\"value\":0.1},\"fill_color\":{\"value\":\"#1f77b4\"},\"hatch_alpha\":{\"value\":0.1},\"line_alpha\":{\"value\":0.1},\"line_color\":{\"value\":\"#1f77b4\"},\"top\":{\"field\":\"top\"},\"width\":{\"value\":0.6},\"x\":{\"field\":\"x\"}},\"id\":\"4468\",\"type\":\"VBar\"},{\"attributes\":{},\"id\":\"4480\",\"type\":\"Selection\"},{\"attributes\":{\"fill_alpha\":{\"value\":0.2},\"fill_color\":{\"value\":\"#1f77b4\"},\"hatch_alpha\":{\"value\":0.2},\"line_alpha\":{\"value\":0.2},\"line_color\":{\"value\":\"#1f77b4\"},\"top\":{\"field\":\"top\"},\"width\":{\"value\":0.6},\"x\":{\"field\":\"x\"}},\"id\":\"4469\",\"type\":\"VBar\"},{\"attributes\":{},\"id\":\"4479\",\"type\":\"UnionRenderers\"},{\"attributes\":{},\"id\":\"4477\",\"type\":\"CategoricalTickFormatter\"},{\"attributes\":{\"label\":{\"value\":\"Passengers\"},\"renderers\":[{\"id\":\"4470\"}]},\"id\":\"4483\",\"type\":\"LegendItem\"},{\"attributes\":{},\"id\":\"4449\",\"type\":\"BasicTicker\"},{\"attributes\":{\"axis\":{\"id\":\"4448\"},\"coordinates\":null,\"dimension\":1,\"group\":null,\"ticker\":null},\"id\":\"4451\",\"type\":\"Grid\"},{\"attributes\":{\"coordinates\":null,\"formatter\":{\"id\":\"4477\"},\"group\":null,\"major_label_orientation\":0.8,\"major_label_policy\":{\"id\":\"4478\"},\"ticker\":{\"id\":\"4446\"}},\"id\":\"4445\",\"type\":\"CategoricalAxis\"},{\"attributes\":{},\"id\":\"4457\",\"type\":\"HelpTool\"},{\"attributes\":{},\"id\":\"4475\",\"type\":\"AllLabels\"},{\"attributes\":{\"coordinates\":null,\"formatter\":{\"id\":\"4474\"},\"group\":null,\"major_label_policy\":{\"id\":\"4475\"},\"ticker\":{\"id\":\"4449\"}},\"id\":\"4448\",\"type\":\"LinearAxis\"},{\"attributes\":{\"axis\":{\"id\":\"4445\"},\"coordinates\":null,\"group\":null,\"ticker\":null},\"id\":\"4447\",\"type\":\"Grid\"},{\"attributes\":{\"coordinates\":null,\"group\":null,\"items\":[{\"id\":\"4483\"}]},\"id\":\"4482\",\"type\":\"Legend\"},{\"attributes\":{},\"id\":\"4446\",\"type\":\"CategoricalTicker\"},{\"attributes\":{\"coordinates\":null,\"data_source\":{\"id\":\"4466\"},\"glyph\":{\"id\":\"4467\"},\"group\":null,\"hover_glyph\":null,\"muted_glyph\":{\"id\":\"4469\"},\"nonselection_glyph\":{\"id\":\"4468\"},\"view\":{\"id\":\"4471\"}},\"id\":\"4470\",\"type\":\"GlyphRenderer\"},{\"attributes\":{},\"id\":\"4439\",\"type\":\"DataRange1d\"}],\"root_ids\":[\"4434\"]},\"title\":\"Bokeh Application\",\"version\":\"2.4.2\"}};\n  const render_items = [{\"docid\":\"ee80d844-8bfb-4b0e-b04c-94fcda4f5601\",\"root_ids\":[\"4434\"],\"roots\":{\"4434\":\"0a809039-0da0-4c9c-8ab0-fcc10d451c92\"}}];\n  root.Bokeh.embed.embed_items_notebook(docs_json, render_items);\n\n  }\n  if (root.Bokeh !== undefined) {\n    embed_document(root);\n  } else {\n    let attempts = 0;\n    const timer = setInterval(function(root) {\n      if (root.Bokeh !== undefined) {\n        clearInterval(timer);\n        embed_document(root);\n      } else {\n        attempts++;\n        if (attempts > 100) {\n          clearInterval(timer);\n          console.log(\"Bokeh: ERROR: Unable to run BokehJS code because BokehJS library is missing\");\n        }\n      }\n    }, 10, root)\n  }\n})(window);",
      "application/vnd.bokehjs_exec.v0+json": ""
     },
     "metadata": {
      "application/vnd.bokehjs_exec.v0+json": {
       "id": "4434"
      }
     },
     "output_type": "display_data"
    }
   ],
   "source": [
    "carriers_by_passengers_plot = figure(\n",
    "    x_range=airlines_by_passengers_df[\"unique_carrier_name\"][:10],  # use only the top ten carriers\n",
    "    title=f\"Top 10 carriers by passengers (domestic routes)\",\n",
    "    height=300, width=600,\n",
    ")\n",
    "carriers_by_passengers_plot.vbar(\n",
    "    x=airlines_by_passengers_df[\"unique_carrier_name\"],\n",
    "    top=airlines_by_passengers_df[\"passengers\"],\n",
    "    legend_label=\"Passengers\",\n",
    "    width=0.6,\n",
    "    )\n",
    "\n",
    "carriers_by_passengers_plot.xaxis.major_label_orientation = 0.8  # rotate labels by roughly pi/4\n",
    "\n",
    "show(carriers_by_passengers_plot)"
   ]
  },
  {
   "cell_type": "markdown",
   "metadata": {},
   "source": [
    "Line, scatter, and bar charts are just some basic examples of the types of plots\n",
    "you can create with Bokeh. See [Basic plotting](https://docs.bokeh.org/en/latest/docs/user_guide/basic.html),\n",
    "[Topic guides](https://docs.bokeh.org/en/latest/docs/user_guide/topics.html), and\n",
    "[Gallery](https://docs.bokeh.org/en/latest/docs/gallery.html) in the Bokeh user guide\n",
    "for more plot types.\n",
    "\n",
    "You will also learn about more plot types in the next few chapters of this tutorial."
   ]
  },
  {
   "cell_type": "markdown",
   "metadata": {},
   "source": [
    "## Next\n",
    "Looking at the example in the previous cell, you'll notice that there is one\n",
    "line that changes the orientation of labels on the x axis to be diagonal:\n",
    "\n",
    "`carriers_by_passengers_plot.xaxis.major_label_orientation = 0.8 `\n",
    "\n",
    "This is an example of how you can customize the appearance of the different\n",
    "elements of your plot.\n",
    "\n",
    "Customizing your plot is what you'll learn about in the next two chapters of\n",
    "this tutorial. You'll learn about adding annotations and the different ways you\n",
    "can customize the appearance of your plot."
   ]
  }
 ],
 "metadata": {
  "kernelspec": {
   "display_name": "Python 3.10.4 ('bk-tutorial')",
   "language": "python",
   "name": "python3"
  },
  "language_info": {
   "codemirror_mode": {
    "name": "ipython",
    "version": 3
   },
   "file_extension": ".py",
   "mimetype": "text/x-python",
   "name": "python",
   "nbconvert_exporter": "python",
   "pygments_lexer": "ipython3",
   "version": "3.10.4"
  },
  "orig_nbformat": 4,
  "vscode": {
   "interpreter": {
    "hash": "ab488fdb8b9aa36105a44cbd221df14ac07fc4003f76992d613ea31bfd3a4f61"
   }
  }
 },
 "nbformat": 4,
 "nbformat_minor": 2
}
