{
 "cells": [
  {
   "cell_type": "markdown",
   "metadata": {},
   "source": [
    "## Bokeh Setup"
   ]
  },
  {
   "cell_type": "code",
   "execution_count": null,
   "metadata": {},
   "outputs": [],
   "source": [
    "from bokeh.io import output_notebook\n",
    "output_notebook() "
   ]
  },
  {
   "cell_type": "code",
   "execution_count": null,
   "metadata": {},
   "outputs": [],
   "source": [
    "# Load data set object\n",
    "import sys\n",
    "sys.path.append('../data')\n",
    "from carriers_data import CarrierDataSet\n",
    "data = CarrierDataSet()"
   ]
  },
  {
   "cell_type": "markdown",
   "metadata": {},
   "source": [
    "## Plot the N largest carriers by passengers"
   ]
  },
  {
   "cell_type": "code",
   "execution_count": null,
   "metadata": {},
   "outputs": [],
   "source": [
    "from bokeh.plotting import figure, show\n",
    "from bokeh.models import NumeralTickFormatter, ColumnDataSource, OpenURL, TapTool\n",
    "\n",
    "initial_carriers = 10\n",
    "\n",
    "source = ColumnDataSource(data.get_biggest_airlines_by_passengers())\n",
    "\n",
    "TOOLTIPS = [\n",
    "    (\"Position\", \"@position\"),\n",
    "    (\"Carrier\", \"@unique_carrier_name\"),\n",
    "    (\"Passengers\", \"@passengers{(0,0)}\")\n",
    "]\n",
    "\n",
    "largest_carriers_plot = figure(\n",
    "    x_range=source.data[\"unique_carrier_name\"][:initial_carriers],\n",
    "    title=f\"Top {initial_carriers} carriers by passengers (domestic routes)\",\n",
    "    height=300, sizing_mode=\"stretch_width\",\n",
    "    tooltips=TOOLTIPS,\n",
    ")\n",
    "carriers_vbar = largest_carriers_plot.vbar(\n",
    "    x=\"unique_carrier_name\",\n",
    "    top=\"passengers\",\n",
    "    nonselection_alpha=1,\n",
    "    source=source,\n",
    "    legend_label=\"Passengers\",\n",
    "    width=0.6)\n",
    "\n",
    "largest_carriers_plot.xgrid.grid_line_color = None\n",
    "largest_carriers_plot.yaxis.formatter = NumeralTickFormatter(format=\"0,0\")\n",
    "largest_carriers_plot.xaxis.major_label_orientation = 0.8  # rotate labels by roughly pi/4\n",
    "\n",
    "# Add TapTool to look up airline IATA code\n",
    "largest_carriers_plot.add_tools(TapTool())\n",
    "url = \"https://www.iata.org/en/publications/directories/code-search/?airline.search=@unique_carrier\"\n",
    "taptool = largest_carriers_plot.select(type=TapTool)\n",
    "taptool.callback = OpenURL(url=url)\n",
    "\n",
    "\n",
    "show(largest_carriers_plot)"
   ]
  },
  {
   "cell_type": "code",
   "execution_count": null,
   "metadata": {},
   "outputs": [],
   "source": [
    "from bokeh.models import Slider, CustomJS\n",
    "from bokeh.layouts import column, layout\n",
    "# Set up MultiSelect\n",
    "number_slider = Slider(\n",
    "    start=1,\n",
    "    end=25,\n",
    "    value=len(largest_carriers_plot.x_range.factors),\n",
    "    title=\"Number of airlines to consider\",\n",
    ")\n",
    "\n",
    "# Set up callback\n",
    "custom_js = CustomJS(args={\"largest_carriers_plot\":largest_carriers_plot, \"carriers\":source.data[\"unique_carrier_name\"]}, code=\"\"\"\n",
    "    largest_carriers_plot.title.text = \"Top \" + this.value + \" carriers by passenger (domestic routes)\"\n",
    "    largest_carriers_plot.x_range.factors = carriers.slice(0,this.value)\n",
    "    \"\"\")\n",
    "\n",
    "number_slider.js_on_change(\"value\", custom_js)\n",
    "\n",
    "largest_carriers_layout = column(number_slider, largest_carriers_plot)\n",
    "\n",
    "show(largest_carriers_layout)"
   ]
  },
  {
   "cell_type": "markdown",
   "metadata": {},
   "source": [
    "## Divs with general dataset info"
   ]
  },
  {
   "cell_type": "code",
   "execution_count": null,
   "metadata": {},
   "outputs": [],
   "source": [
    "# MultiChoice to select quarters (between 1 and 4)\n",
    "# total distance, total passengers, total freight, total mail\n"
   ]
  },
  {
   "cell_type": "code",
   "execution_count": null,
   "metadata": {},
   "outputs": [],
   "source": [
    "from bokeh.io import show\n",
    "from bokeh.layouts import row, column\n",
    "from bokeh.models import Div, CustomJS, MultiChoice\n",
    "\n",
    "units_dict = {\n",
    "    \"distance\": \"mi\",\n",
    "    \"passengers\": \"\",  # passengers don't have units\n",
    "    \"freight\": \"lbs\",\n",
    "    \"mail\": \"lbs\",\n",
    "}\n",
    "\n",
    "quarters_df = data.get_quarters_df()\n",
    "\n",
    "divs = []\n",
    "for category in units_dict.keys():\n",
    "    div = Div(\n",
    "        text=f\"\"\"\n",
    "            <div style=\"background-color: darkgrey; height: 125px; width:230px; padding:10px; color: black;\">\n",
    "            <h1>{quarters_df[category].sum():,} {units_dict[category]}</h1>\n",
    "            <h3>Total {category}</h3>\n",
    "            </div>\n",
    "        \"\"\",\n",
    "        # width=3000,\n",
    "        # height=200,\n",
    "        # sizing_mode=\"stretch_width\",\n",
    "        # height_policy = \"auto\",\n",
    "        style = {\"width\": \"100%\"},\n",
    "        )\n",
    "    divs.append(div)\n",
    "dataset_details = row(divs, sizing_mode=\"stretch_both\")\n",
    "\n",
    "# quarters_list = quarters_df.index.tolist()\n",
    "\n",
    "# quarter_multi_choice = MultiChoice(value=quarters_list, options=quarters_list, sizing_mode=\"stretch_width\")\n",
    "# quarter_multi_choice.js_on_change(\"value\", CustomJS(args={\"quarters_list\": dataset_details, \"source\": source}, code=\"\"\"\n",
    "#     console.log('multi_choice: value=' + this.value, this.toString());\n",
    "#     console.log(quarters_list.children[2].text);\n",
    "#     console.log(source);\n",
    "#     quarters_list.children[2].text = '<h1>test</h1>';\n",
    "#     // console.log(uarters_list.children[2].text);\n",
    "# \"\"\"))\n",
    "\n",
    "# show(column(quarter_multi_choice, dataset_details))\n",
    "show(dataset_details)\n"
   ]
  },
  {
   "cell_type": "markdown",
   "metadata": {},
   "source": [
    "## Plot development of total number of passengers, freight, and mail over time for N largest carriers\n",
    "with interactive legend to mute glyphs"
   ]
  },
  {
   "cell_type": "code",
   "execution_count": null,
   "metadata": {},
   "outputs": [],
   "source": [
    "from bokeh.palettes import Category10\n",
    "from bokeh.plotting import figure, show\n",
    "from bokeh.models import NumeralTickFormatter, ColumnDataSource\n",
    "\n",
    "plot_title = f\"Development of domestic passengers, freight, and mail for the top 10 carriers\"\n",
    "\n",
    "### TBD access df directly source = ColumnDataSource(biggest_carriers)\n",
    "# source = ColumnDataSource(data=dict(\n",
    "#     months=df_monthly[\"month_name\"],\n",
    "#     passengers=df_monthly[\"passengers\"],\n",
    "#     freight=df_monthly[\"freight\"],\n",
    "#     mail=df_monthly[\"mail\"],\n",
    "# ))\n",
    "\n",
    "source=ColumnDataSource(data.get_monthly_values())\n",
    "\n",
    "TOOLTIPS = \"$name: $y{(0,0)}\"  # simplest way: just one line, one string\n",
    "\n",
    "largest_carriers_development_plot = figure(\n",
    "    title=plot_title,\n",
    "    x_range=source.data[\"month_name\"],\n",
    "    height=300, sizing_mode=\"stretch_width\",\n",
    "    tooltips=TOOLTIPS\n",
    ")\n",
    "\n",
    "# Configure HoverTool\n",
    "largest_carriers_development_plot.hover.anchor = \"center\"\n",
    "largest_carriers_development_plot.hover.mode = \"vline\"\n",
    "\n",
    "color = 0\n",
    "for measurement in data.measurements:\n",
    "    largest_carriers_development_plot.line(  # TBD: mke categorical (by months)?\n",
    "        x = \"month_name\",\n",
    "        y=measurement,\n",
    "        legend_label=measurement.capitalize(),\n",
    "        source=source,\n",
    "        width=2, color=Category10[3][color], alpha=1, muted_alpha=0.2,\n",
    "        name=measurement,\n",
    "    )\n",
    "    color += 1\n",
    "\n",
    "largest_carriers_development_plot.yaxis.formatter = NumeralTickFormatter(format=\"0,0\")\n",
    "largest_carriers_development_plot.xaxis.axis_label = \"Month\"  # TBD: x axis ticks display months, optimally month names\n",
    "largest_carriers_development_plot.legend.click_policy=\"mute\"\n",
    "\n",
    "show(largest_carriers_development_plot)\n"
   ]
  },
  {
   "cell_type": "markdown",
   "metadata": {},
   "source": [
    "## Scatter plot of distance flown vs. number of passengers, freight, and/or mail on board for every route\n",
    "(with tooltip for each point - different colors for each Airline, different scatter markers for passengers/freight/mail)"
   ]
  },
  {
   "cell_type": "code",
   "execution_count": null,
   "metadata": {},
   "outputs": [],
   "source": [
    "from bokeh.plotting import figure, show\n",
    "from bokeh.palettes import Category10\n",
    "from bokeh.models import NumeralTickFormatter, ColumnDataSource\n",
    "\n",
    "MARKERS = [\"circle\", \"square\", \"triangle\"]\n",
    "\n",
    "plot_title = f\"Distance flown vs number of passengers, freight, and mail\"\n",
    "\n",
    "source = ColumnDataSource(data.get_distance_df())\n",
    "\n",
    "TOOLTIPS = [\n",
    "    (\"Distance\", \"@distance\"),\n",
    "    (\"Route\", \"@origin, @dest\"),\n",
    "    (\"Amount\", \"$y{(0,0)}\"), # TBD: should be passengers/freight/mail\n",
    "    # (\"INDEX\", \"@index\"),\n",
    "]\n",
    "\n",
    "# Use webgl output where available\n",
    "distance_plot = figure(title=plot_title, height=300, sizing_mode=\"stretch_width\", tooltips=TOOLTIPS, output_backend=\"webgl\")\n",
    "\n",
    "i = 0\n",
    "for measurement in data.measurements:\n",
    "    distance_plot.scatter(\n",
    "        \"distance\",\n",
    "        measurement,\n",
    "        source=source,\n",
    "        legend_label=measurement.capitalize(),\n",
    "        color=Category10[3][i], marker=MARKERS[i], alpha=0.5\n",
    "    )\n",
    "    i += 1\n",
    "\n",
    "distance_plot.yaxis.formatter = NumeralTickFormatter(format=\"0,0\")\n",
    "distance_plot.xaxis.axis_label = \"Distance (miles)\"\n",
    "distance_plot.legend.click_policy=\"hide\"\n",
    "\n",
    "show(distance_plot)"
   ]
  },
  {
   "cell_type": "markdown",
   "metadata": {},
   "source": [
    "## Choropleth map: Number of departures/arrivals per US state\n",
    "with tooltip"
   ]
  },
  {
   "cell_type": "code",
   "execution_count": null,
   "metadata": {},
   "outputs": [],
   "source": [
    "import geopandas as gpd\n",
    "\n",
    "states_gdf = gpd.read_file(\"../data/us-states.geojson\")\n",
    "states_gdf = states_gdf.join(data.get_states_routes_df(), on=states_gdf[\"Name\"])\n",
    "\n",
    "states_gdf.head(3)"
   ]
  },
  {
   "cell_type": "code",
   "execution_count": null,
   "metadata": {},
   "outputs": [],
   "source": [
    "# geo_source = GeoJSONDataSource(geojson=gdf.to_json())\n",
    "# p = figure()\n",
    "# p.patches(xs=\"xs\", ys=\"ys\", source=geo_source, fill_alpha=0.8, line_width=1, line_color=\"black\")\n",
    "\n",
    "from bokeh.plotting import figure, show\n",
    "from bokeh.models import GeoJSONDataSource, LinearColorMapper\n",
    "from bokeh.palettes import Cividis11\n",
    "\n",
    "MAP_SELECTIONS = [\"origin\", \"destination\"]\n",
    "selected_map = MAP_SELECTIONS[0]  # render map either based on origin or destination\n",
    "\n",
    "TOOLTIPS = [(\"State\", \"@Name\")]\n",
    "TOOLTIPS.append((\"# of routes arriving here\", \"@destination{(0,0)}\")) if selected_map == \"destination\" else TOOLTIPS.append((\"# of routes departing from here\", \"@origin{(0,0)}\"))\n",
    "\n",
    "\n",
    "map_plot = figure(\n",
    "    height=400, \n",
    "    width=700,\n",
    "    # sizing_mode=\"stretch_width\",\n",
    "    tooltips=TOOLTIPS,\n",
    "    title=f\"Number of routes with a state as its {selected_map} (all domestic carriers)\",\n",
    "    x_axis_location=None, y_axis_location=None\n",
    ")\n",
    "\n",
    "map_plot.grid.grid_line_color = None\n",
    "\n",
    "mapper = LinearColorMapper(\n",
    "    palette=list(Cividis11),\n",
    "    low=states_gdf[selected_map].min(),\n",
    "    high=states_gdf[selected_map].max()\n",
    ")\n",
    "\n",
    "geo_source = GeoJSONDataSource(geojson=states_gdf.to_json())\n",
    "\n",
    "us = map_plot.patches(\n",
    "    xs=\"xs\", ys=\"ys\",\n",
    "    fill_color=dict(field=selected_map, transform=mapper),\n",
    "    source=geo_source,\n",
    "    line_color=\"#333344\", line_width=1)\n",
    "\n",
    "map_plot.x_range.renderers = [us]\n",
    "map_plot.y_range.renderers = [us]\n",
    "\n",
    "show(map_plot)"
   ]
  },
  {
   "cell_type": "markdown",
   "metadata": {},
   "source": [
    "## Annular wedge: shares by airline for freight/apssengers/mail"
   ]
  },
  {
   "cell_type": "code",
   "execution_count": null,
   "metadata": {},
   "outputs": [],
   "source": [
    "# import \n",
    "import copy\n",
    "from math import pi\n",
    "\n",
    "from bokeh.models import Panel, Tabs\n",
    "from bokeh.palettes import Viridis\n",
    "from bokeh.plotting import figure, show\n",
    "from bokeh.transform import cumsum\n",
    "\n",
    "# create list of colors (Spectral10 plus gray for \"other\")\n",
    "colors = list(Viridis[10])\n",
    "colors.append(\"#808080\")"
   ]
  },
  {
   "cell_type": "code",
   "execution_count": null,
   "metadata": {},
   "outputs": [],
   "source": [
    "# Truncate long airline names to max_len\n",
    "def truncate_names(airline_name, max_len=25):\n",
    "    if len(airline_name) > max_len:\n",
    "        airline_name = airline_name[:max_len - 3] + \"...\"\n",
    "    return airline_name\n",
    "\n",
    "# function to create dataframes for passengers, freight, and mail\n",
    "def create_dfs(df, categories):\n",
    "    \"\"\"\n",
    "    Create dict of dfs for each category\n",
    "    \"\"\"\n",
    "    dfs = {}\n",
    "    for category in categories:\n",
    "        # create copy of df for current category\n",
    "        category_df = df\n",
    "        # sort dataframe by current category\n",
    "        category_df = category_df.sort_values(category, ascending=False)\n",
    "        category_df.reset_index(inplace=True, drop=True)\n",
    "        # remove rows that are not the current category\n",
    "        remove_columns = copy.deepcopy(categories)\n",
    "        remove_columns.remove(category)\n",
    "        category_df.drop(columns=remove_columns, inplace=True)\n",
    "        # sum values for \"others\" (all carriers not in top 10)\n",
    "        top_ten_by_category = category_df.iloc[:10][\"unique_carrier_name\"]\n",
    "        other_sum = category_df[~category_df[\"unique_carrier_name\"].isin(top_ten_by_category)][category].sum()\n",
    "        # create dataframe for top 10 of current category plus others\n",
    "        category_df = category_df[category_df[\"unique_carrier_name\"].isin(top_ten_by_category)]\n",
    "        category_df.loc[len(category_df.index)] = [\"Others\", other_sum]\n",
    "        # add column with annular wedge angles\n",
    "        category_df['angle'] = category_df[category]/category_df[category].sum() * 2*pi\n",
    "        # assign colors to carriers\n",
    "        category_df['color'] = colors\n",
    "        # truncate long carrier names\n",
    "        category_df['unique_carrier_name'] = category_df['unique_carrier_name'].apply(truncate_names, args=(25,))\n",
    "        # add category dataframe to dict of dataframes\n",
    "        dfs[category] = category_df\n",
    "\n",
    "    return dfs"
   ]
  },
  {
   "cell_type": "code",
   "execution_count": null,
   "metadata": {},
   "outputs": [],
   "source": [
    "# Function to create annular wedge plots for passengers, freight, and mail\n",
    "def create_annular_wedge(df_dict, category):\n",
    "\n",
    "    TOOLTIPS = [\n",
    "        (\"Carrier\", \"@unique_carrier_name\"),\n",
    "        (category.capitalize(), f\"@{category}{{(0,0)}}\"),\n",
    "    ]\n",
    "\n",
    "    annular_plot = figure(height=300, toolbar_location=None, outline_line_color=None,\n",
    "                    sizing_mode=\"scale_width\", name=\"region\", x_range=(-0.66, 1),\n",
    "                    title=f\"Top ten carriers by {category}\", tooltips=TOOLTIPS)\n",
    "\n",
    "    annular_plot.annular_wedge(x=0, y=0, inner_radius=0.2, outer_radius=0.4,\n",
    "                    start_angle=cumsum('angle', include_zero=True), end_angle=cumsum('angle'),\n",
    "                    line_color=\"white\", fill_color='color', legend_field ='unique_carrier_name', source=df_dict[category])\n",
    "\n",
    "    annular_plot.axis.visible=False\n",
    "    annular_plot.grid.grid_line_color = None\n",
    "    annular_plot.legend.spacing = 1\n",
    "\n",
    "    return annular_plot"
   ]
  },
  {
   "cell_type": "markdown",
   "metadata": {},
   "source": [
    "Generate DataFrames and wedge plots and create the tabs layout"
   ]
  },
  {
   "cell_type": "code",
   "execution_count": null,
   "metadata": {},
   "outputs": [],
   "source": [
    "# list of categories to consider\n",
    "categories = data.measurements\n",
    "# create dataframes for each category\n",
    "dfs = create_dfs(data.get_carriers_df(), categories)\n",
    "\n",
    "# create tabs with annular wedges for each category\n",
    "tabs = []\n",
    "for category in categories:\n",
    "    tabs.append(Panel(child=create_annular_wedge(dfs, category), title=category.capitalize()))\n",
    "\n",
    "# display all plots as tabs\n",
    "annular_wedge_tabs = Tabs(tabs=tabs)\n",
    "show(annular_wedge_tabs)"
   ]
  },
  {
   "cell_type": "markdown",
   "metadata": {},
   "source": [
    "## Additional dashboard elements"
   ]
  },
  {
   "cell_type": "markdown",
   "metadata": {},
   "source": [
    "### Header"
   ]
  },
  {
   "cell_type": "code",
   "execution_count": null,
   "metadata": {},
   "outputs": [],
   "source": [
    "from bokeh.io import show\n",
    "from bokeh.models import Div\n",
    "\n",
    "header_div = Div(text=\"\"\"\n",
    "<h1>US domestic air carriers</h1>\n",
    "<p>Data: Bureau of Transportation Statistics, <a href=\"https://transtats.bts.gov/DL_SelectFields.asp?gnoyr_VQ=FIL&QO_fu146_anzr=Nv4%20Pn44vr45\" target=\"_blank\">Air Carriers: T-100 Domestic Market (U.S. Carriers)</a></p>\n",
    "\"\"\",\n",
    "sizing_mode=\"stretch_width\", height_policy = \"auto\")\n",
    "\n",
    "show(header_div)"
   ]
  },
  {
   "cell_type": "markdown",
   "metadata": {},
   "source": [
    "## Create layout"
   ]
  },
  {
   "cell_type": "code",
   "execution_count": null,
   "metadata": {},
   "outputs": [],
   "source": [
    "from bokeh.io import show\n",
    "from bokeh.layouts import gridplot, layout, row\n",
    "\n",
    "layout = layout([\n",
    "    [header_div],\n",
    "    [dataset_details],\n",
    "    [largest_carriers_layout, largest_carriers_development_plot],\n",
    "    [distance_plot],\n",
    "    [map_plot, annular_wedge_tabs],\n",
    "], sizing_mode=\"scale_both\")\n",
    "\n",
    "show(layout)"
   ]
  },
  {
   "cell_type": "code",
   "execution_count": null,
   "metadata": {},
   "outputs": [],
   "source": []
  }
 ],
 "metadata": {
  "interpreter": {
   "hash": "ab488fdb8b9aa36105a44cbd221df14ac07fc4003f76992d613ea31bfd3a4f61"
  },
  "kernelspec": {
   "display_name": "Python 3 (ipykernel)",
   "language": "python",
   "name": "python3"
  },
  "language_info": {
   "codemirror_mode": {
    "name": "ipython",
    "version": 3
   },
   "file_extension": ".py",
   "mimetype": "text/x-python",
   "name": "python",
   "nbconvert_exporter": "python",
   "pygments_lexer": "ipython3",
   "version": "3.10.4"
  }
 },
 "nbformat": 4,
 "nbformat_minor": 2
}
