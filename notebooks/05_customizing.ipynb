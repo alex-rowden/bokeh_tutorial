{
 "cells": [
  {
   "cell_type": "markdown",
   "metadata": {},
   "source": [
    "<table style=\"float:left; border:none\">\n",
    "   <tr style=\"border:none\">\n",
    "       <td style=\"border:none\">\n",
    "           <a href=\"https://bokeh.org/\">\n",
    "           <img\n",
    "               src=\"assets/bokeh-transparent.png\"\n",
    "               style=\"width:50px\"\n",
    "           >\n",
    "           </a>\n",
    "       </td>\n",
    "       <td style=\"border:none\">\n",
    "           <h1>Bokeh Tutorial</h1>\n",
    "       </td>\n",
    "   </tr>\n",
    "</table>\n",
    "\n",
    "<div style=\"float:right;\"><h2>05 Styling the plot</h2></div>"
   ]
  },
  {
   "cell_type": "code",
   "execution_count": 63,
   "metadata": {},
   "outputs": [
    {
     "data": {
      "text/html": [
       "<style>\n",
       "        .bk-notebook-logo {\n",
       "            display: block;\n",
       "            width: 20px;\n",
       "            height: 20px;\n",
       "            background-image: url(data:image/png;base64,iVBORw0KGgoAAAANSUhEUgAAABQAAAAUCAYAAACNiR0NAAAABHNCSVQICAgIfAhkiAAAAAlwSFlzAAALEgAACxIB0t1+/AAAABx0RVh0U29mdHdhcmUAQWRvYmUgRmlyZXdvcmtzIENTNui8sowAAAOkSURBVDiNjZRtaJVlGMd/1/08zzln5zjP1LWcU9N0NkN8m2CYjpgQYQXqSs0I84OLIC0hkEKoPtiH3gmKoiJDU7QpLgoLjLIQCpEsNJ1vqUOdO7ppbuec5+V+rj4ctwzd8IIbbi6u+8f1539dt3A78eXC7QizUF7gyV1fD1Yqg4JWz84yffhm0qkFqBogB9rM8tZdtwVsPUhWhGcFJngGeWrPzHm5oaMmkfEg1usvLFyc8jLRqDOMru7AyC8saQr7GG7f5fvDeH7Ej8CM66nIF+8yngt6HWaKh7k49Soy9nXurCi1o3qUbS3zWfrYeQDTB/Qj6kX6Ybhw4B+bOYoLKCC9H3Nu/leUTZ1JdRWkkn2ldcCamzrcf47KKXdAJllSlxAOkRgyHsGC/zRday5Qld9DyoM4/q/rUoy/CXh3jzOu3bHUVZeU+DEn8FInkPBFlu3+nW3Nw0mk6vCDiWg8CeJaxEwuHS3+z5RgY+YBR6V1Z1nxSOfoaPa4LASWxxdNp+VWTk7+4vzaou8v8PN+xo+KY2xsw6une2frhw05CTYOmQvsEhjhWjn0bmXPjpE1+kplmmkP3suftwTubK9Vq22qKmrBhpY4jvd5afdRA3wGjFAgcnTK2s4hY0/GPNIb0nErGMCRxWOOX64Z8RAC4oCXdklmEvcL8o0BfkNK4lUg9HTl+oPlQxdNo3Mg4Nv175e/1LDGzZen30MEjRUtmXSfiTVu1kK8W4txyV6BMKlbgk3lMwYCiusNy9fVfvvwMxv8Ynl6vxoByANLTWplvuj/nF9m2+PDtt1eiHPBr1oIfhCChQMBw6Aw0UulqTKZdfVvfG7VcfIqLG9bcldL/+pdWTLxLUy8Qq38heUIjh4XlzZxzQm19lLFlr8vdQ97rjZVOLf8nclzckbcD4wxXMidpX30sFd37Fv/GtwwhzhxGVAprjbg0gCAEeIgwCZyTV2Z1REEW8O4py0wsjeloKoMr6iCY6dP92H6Vw/oTyICIthibxjm/DfN9lVz8IqtqKYLUXfoKVMVQVVJOElGjrnnUt9T9wbgp8AyYKaGlqingHZU/uG2NTZSVqwHQTWkx9hxjkpWDaCg6Ckj5qebgBVbT3V3NNXMSiWSDdGV3hrtzla7J+duwPOToIg42ChPQOQjspnSlp1V+Gjdged7+8UN5CRAV7a5EdFNwCjEaBR27b3W890TE7g24NAP/mMDXRWrGoFPQI9ls/MWO2dWFAar/xcOIImbbpA3zgAAAABJRU5ErkJggg==);\n",
       "        }\n",
       "    </style>\n",
       "    <div>\n",
       "        <a href=\"https://bokeh.org\" target=\"_blank\" class=\"bk-notebook-logo\"></a>\n",
       "        <span id=\"p35693\">Loading BokehJS ...</span>\n",
       "    </div>\n",
       "    <p style=\"background-color: #f2d7dc;\">Warning: Requesting CDN BokehJS version '3.0.0.dev19' from local development version '3.0.0.dev19+11.g6094ec91'. This configuration is unsupported and may not work!</p>\n"
      ]
     },
     "metadata": {},
     "output_type": "display_data"
    },
    {
     "data": {
      "application/javascript": "(function(root) {\n  function now() {\n    return new Date();\n  }\n\n  const force = true;\n\n  if (typeof root._bokeh_onload_callbacks === \"undefined\" || force === true) {\n    root._bokeh_onload_callbacks = [];\n    root._bokeh_is_loading = undefined;\n  }\n\nconst JS_MIME_TYPE = 'application/javascript';\n  const HTML_MIME_TYPE = 'text/html';\n  const EXEC_MIME_TYPE = 'application/vnd.bokehjs_exec.v0+json';\n  const CLASS_NAME = 'output_bokeh rendered_html';\n\n  /**\n   * Render data to the DOM node\n   */\n  function render(props, node) {\n    const script = document.createElement(\"script\");\n    node.appendChild(script);\n  }\n\n  /**\n   * Handle when an output is cleared or removed\n   */\n  function handleClearOutput(event, handle) {\n    const cell = handle.cell;\n\n    const id = cell.output_area._bokeh_element_id;\n    const server_id = cell.output_area._bokeh_server_id;\n    // Clean up Bokeh references\n    if (id != null && id in Bokeh.index) {\n      Bokeh.index[id].model.document.clear();\n      delete Bokeh.index[id];\n    }\n\n    if (server_id !== undefined) {\n      // Clean up Bokeh references\n      const cmd_clean = \"from bokeh.io.state import curstate; print(curstate().uuid_to_server['\" + server_id + \"'].get_sessions()[0].document.roots[0]._id)\";\n      cell.notebook.kernel.execute(cmd_clean, {\n        iopub: {\n          output: function(msg) {\n            const id = msg.content.text.trim();\n            if (id in Bokeh.index) {\n              Bokeh.index[id].model.document.clear();\n              delete Bokeh.index[id];\n            }\n          }\n        }\n      });\n      // Destroy server and session\n      const cmd_destroy = \"import bokeh.io.notebook as ion; ion.destroy_server('\" + server_id + \"')\";\n      cell.notebook.kernel.execute(cmd_destroy);\n    }\n  }\n\n  /**\n   * Handle when a new output is added\n   */\n  function handleAddOutput(event, handle) {\n    const output_area = handle.output_area;\n    const output = handle.output;\n\n    // limit handleAddOutput to display_data with EXEC_MIME_TYPE content only\n    if ((output.output_type != \"display_data\") || (!Object.prototype.hasOwnProperty.call(output.data, EXEC_MIME_TYPE))) {\n      return\n    }\n\n    const toinsert = output_area.element.find(\".\" + CLASS_NAME.split(' ')[0]);\n\n    if (output.metadata[EXEC_MIME_TYPE][\"id\"] !== undefined) {\n      toinsert[toinsert.length - 1].firstChild.textContent = output.data[JS_MIME_TYPE];\n      // store reference to embed id on output_area\n      output_area._bokeh_element_id = output.metadata[EXEC_MIME_TYPE][\"id\"];\n    }\n    if (output.metadata[EXEC_MIME_TYPE][\"server_id\"] !== undefined) {\n      const bk_div = document.createElement(\"div\");\n      bk_div.innerHTML = output.data[HTML_MIME_TYPE];\n      const script_attrs = bk_div.children[0].attributes;\n      for (let i = 0; i < script_attrs.length; i++) {\n        toinsert[toinsert.length - 1].firstChild.setAttribute(script_attrs[i].name, script_attrs[i].value);\n        toinsert[toinsert.length - 1].firstChild.textContent = bk_div.children[0].textContent\n      }\n      // store reference to server id on output_area\n      output_area._bokeh_server_id = output.metadata[EXEC_MIME_TYPE][\"server_id\"];\n    }\n  }\n\n  function register_renderer(events, OutputArea) {\n\n    function append_mime(data, metadata, element) {\n      // create a DOM node to render to\n      const toinsert = this.create_output_subarea(\n        metadata,\n        CLASS_NAME,\n        EXEC_MIME_TYPE\n      );\n      this.keyboard_manager.register_events(toinsert);\n      // Render to node\n      const props = {data: data, metadata: metadata[EXEC_MIME_TYPE]};\n      render(props, toinsert[toinsert.length - 1]);\n      element.append(toinsert);\n      return toinsert\n    }\n\n    /* Handle when an output is cleared or removed */\n    events.on('clear_output.CodeCell', handleClearOutput);\n    events.on('delete.Cell', handleClearOutput);\n\n    /* Handle when a new output is added */\n    events.on('output_added.OutputArea', handleAddOutput);\n\n    /**\n     * Register the mime type and append_mime function with output_area\n     */\n    OutputArea.prototype.register_mime_type(EXEC_MIME_TYPE, append_mime, {\n      /* Is output safe? */\n      safe: true,\n      /* Index of renderer in `output_area.display_order` */\n      index: 0\n    });\n  }\n\n  // register the mime type if in Jupyter Notebook environment and previously unregistered\n  if (root.Jupyter !== undefined) {\n    const events = require('base/js/events');\n    const OutputArea = require('notebook/js/outputarea').OutputArea;\n\n    if (OutputArea.prototype.mime_types().indexOf(EXEC_MIME_TYPE) == -1) {\n      register_renderer(events, OutputArea);\n    }\n  }\n  if (typeof (root._bokeh_timeout) === \"undefined\" || force === true) {\n    root._bokeh_timeout = Date.now() + 5000;\n    root._bokeh_failed_load = false;\n  }\n\n  const NB_LOAD_WARNING = {'data': {'text/html':\n     \"<div style='background-color: #fdd'>\\n\"+\n     \"<p>\\n\"+\n     \"BokehJS does not appear to have successfully loaded. If loading BokehJS from CDN, this \\n\"+\n     \"may be due to a slow or bad network connection. Possible fixes:\\n\"+\n     \"</p>\\n\"+\n     \"<ul>\\n\"+\n     \"<li>re-rerun `output_notebook()` to attempt to load from CDN again, or</li>\\n\"+\n     \"<li>use INLINE resources instead, as so:</li>\\n\"+\n     \"</ul>\\n\"+\n     \"<code>\\n\"+\n     \"from bokeh.resources import INLINE\\n\"+\n     \"output_notebook(resources=INLINE)\\n\"+\n     \"</code>\\n\"+\n     \"</div>\"}};\n\n  function display_loaded() {\n    const el = document.getElementById(\"p35693\");\n    if (el != null) {\n      el.textContent = \"BokehJS is loading...\";\n    }\n    if (root.Bokeh !== undefined) {\n      if (el != null) {\n        el.textContent = \"BokehJS \" + root.Bokeh.version + \" successfully loaded.\";\n      }\n    } else if (Date.now() < root._bokeh_timeout) {\n      setTimeout(display_loaded, 100)\n    }\n  }\n\n  function run_callbacks() {\n    try {\n      root._bokeh_onload_callbacks.forEach(function(callback) {\n        if (callback != null)\n          callback();\n      });\n    } finally {\n      delete root._bokeh_onload_callbacks\n    }\n    console.debug(\"Bokeh: all callbacks have finished\");\n  }\n\n  function load_libs(css_urls, js_urls, callback) {\n    if (css_urls == null) css_urls = [];\n    if (js_urls == null) js_urls = [];\n\n    root._bokeh_onload_callbacks.push(callback);\n    if (root._bokeh_is_loading > 0) {\n      console.debug(\"Bokeh: BokehJS is being loaded, scheduling callback at\", now());\n      return null;\n    }\n    if (js_urls == null || js_urls.length === 0) {\n      run_callbacks();\n      return null;\n    }\n    console.debug(\"Bokeh: BokehJS not loaded, scheduling load and callback at\", now());\n    root._bokeh_is_loading = css_urls.length + js_urls.length;\n\n    function on_load() {\n      root._bokeh_is_loading--;\n      if (root._bokeh_is_loading === 0) {\n        console.debug(\"Bokeh: all BokehJS libraries/stylesheets loaded\");\n        run_callbacks()\n      }\n    }\n\n    function on_error(url) {\n      console.error(\"failed to load \" + url);\n    }\n\n    for (let i = 0; i < css_urls.length; i++) {\n      const url = css_urls[i];\n      const element = document.createElement(\"link\");\n      element.onload = on_load;\n      element.onerror = on_error.bind(null, url);\n      element.rel = \"stylesheet\";\n      element.type = \"text/css\";\n      element.href = url;\n      console.debug(\"Bokeh: injecting link tag for BokehJS stylesheet: \", url);\n      document.body.appendChild(element);\n    }\n\n    for (let i = 0; i < js_urls.length; i++) {\n      const url = js_urls[i];\n      const element = document.createElement('script');\n      element.onload = on_load;\n      element.onerror = on_error.bind(null, url);\n      element.async = false;\n      element.src = url;\n      console.debug(\"Bokeh: injecting script tag for BokehJS library: \", url);\n      document.head.appendChild(element);\n    }\n  };\n\n  function inject_raw_css(css) {\n    const element = document.createElement(\"style\");\n    element.appendChild(document.createTextNode(css));\n    document.body.appendChild(element);\n  }\n\n  const js_urls = [\"https://cdn.bokeh.org/bokeh/dev/bokeh-3.0.0.dev19.min.js\", \"https://cdn.bokeh.org/bokeh/dev/bokeh-gl-3.0.0.dev19.min.js\", \"https://cdn.bokeh.org/bokeh/dev/bokeh-widgets-3.0.0.dev19.min.js\", \"https://cdn.bokeh.org/bokeh/dev/bokeh-tables-3.0.0.dev19.min.js\", \"https://cdn.bokeh.org/bokeh/dev/bokeh-mathjax-3.0.0.dev19.min.js\"];\n  const css_urls = [];\n\n  const inline_js = [    function(Bokeh) {\n      Bokeh.set_log_level(\"info\");\n    },\nfunction(Bokeh) {\n    }\n  ];\n\n  function run_inline_js() {\n    if (root.Bokeh !== undefined || force === true) {\n          for (let i = 0; i < inline_js.length; i++) {\n      inline_js[i].call(root, root.Bokeh);\n    }\nif (force === true) {\n        display_loaded();\n      }} else if (Date.now() < root._bokeh_timeout) {\n      setTimeout(run_inline_js, 100);\n    } else if (!root._bokeh_failed_load) {\n      console.log(\"Bokeh: BokehJS failed to load within specified timeout.\");\n      root._bokeh_failed_load = true;\n    } else if (force !== true) {\n      const cell = $(document.getElementById(\"p35693\")).parents('.cell').data().cell;\n      cell.output_area.append_execute_result(NB_LOAD_WARNING)\n    }\n  }\n\n  if (root._bokeh_is_loading === 0) {\n    console.debug(\"Bokeh: BokehJS loaded, going straight to plotting\");\n    run_inline_js();\n  } else {\n    load_libs(css_urls, js_urls, function() {\n      console.debug(\"Bokeh: BokehJS plotting callback run at\", now());\n      run_inline_js();\n    });\n  }\n}(window));",
      "application/vnd.bokehjs_load.v0+json": ""
     },
     "metadata": {},
     "output_type": "display_data"
    }
   ],
   "source": [
    "# activate notebook output\n",
    "from bokeh.io import output_notebook\n",
    "output_notebook()\n",
    "\n",
    "# load tutorial data set\n",
    "import sys\n",
    "sys.path.append('../data')\n",
    "from carriers_data import CarrierDataSet\n",
    "data = CarrierDataSet()"
   ]
  },
  {
   "attachments": {},
   "cell_type": "markdown",
   "metadata": {},
   "source": [
    "In this chapter, you will start to customize the appearance of your plots.\n",
    "This includes changing the title, axis labels, and grid lines. You will also learn how\n",
    "to add legends and hover tooltips to your plots.\n",
    "\n",
    "Before diving into how to customize the different emelents of your plots, let's first\n",
    "learn about how Bokeh handles general properties such defining colors or the appearance\n",
    "of lines."
   ]
  },
  {
   "cell_type": "markdown",
   "metadata": {},
   "source": [
    "### Colors in Bokeh\n",
    "\n",
    "Defining colors works the same across all different parts of Bokeh. There are different\n",
    "ways to define colors, including the following:\n",
    "\n",
    "* any of the [140 named HTML/CSS colors](https://www.w3schools.com/colors/colors_names.asp),\n",
    "e.g ``'green'``, ``'indigo'``\n",
    "* an RGB(A) hex value, e.g., ``'#FF0000'``, ``'#44444444'``\n",
    "* a 3-tuple of integers *(r,g,b)* between 0 and 255\n",
    "*  a 4-tuple of *(r,g,b,a)* where *r*, *g*, *b* are integers between 0 and 255 and *a* is a floating point value between 0 and 1\n",
    "\n",
    "Use this code cell to see the different color formats in action:"
   ]
  },
  {
   "cell_type": "code",
   "execution_count": 64,
   "metadata": {},
   "outputs": [
    {
     "data": {
      "text/html": [
       "\n",
       "  <div id=\"1bca9e13-31a8-4c8c-9fe0-3af80fb398e4\" data-root-id=\"p35694\" style=\"display: contents;\"></div>\n"
      ]
     },
     "metadata": {},
     "output_type": "display_data"
    },
    {
     "data": {
      "application/javascript": "(function(root) {\n  function embed_document(root) {\n  const docs_json = {\"ebb1bc78-aa53-478f-966a-7e38bc232f52\":{\"version\":\"3.0.0.dev19+11.g6094ec91\",\"title\":\"Bokeh Application\",\"defs\":[],\"roots\":[{\"type\":\"object\",\"name\":\"Figure\",\"id\":\"p35694\",\"attributes\":{\"height\":350,\"x_range\":{\"type\":\"object\",\"name\":\"FactorRange\",\"id\":\"p35703\",\"attributes\":{\"factors\":[\"Apples\",\"Pears\",\"Nectarines\",\"Plums\",\"Grapes\",\"Strawberries\"]}},\"y_range\":{\"type\":\"object\",\"name\":\"DataRange1d\",\"id\":\"p35696\"},\"x_scale\":{\"type\":\"object\",\"name\":\"CategoricalScale\",\"id\":\"p35707\"},\"y_scale\":{\"type\":\"object\",\"name\":\"LinearScale\",\"id\":\"p35709\"},\"title\":{\"type\":\"object\",\"name\":\"Title\",\"id\":\"p35697\"},\"renderers\":[{\"type\":\"object\",\"name\":\"GlyphRenderer\",\"id\":\"p35745\",\"attributes\":{\"data_source\":{\"type\":\"object\",\"name\":\"ColumnDataSource\",\"id\":\"p35739\",\"attributes\":{\"selected\":{\"type\":\"object\",\"name\":\"Selection\",\"id\":\"p35740\",\"attributes\":{\"indices\":[],\"line_indices\":[]}},\"selection_policy\":{\"type\":\"object\",\"name\":\"UnionRenderers\",\"id\":\"p35741\"},\"data\":{\"type\":\"map\",\"entries\":[[\"x\",[\"Apples\",\"Pears\",\"Nectarines\",\"Plums\",\"Grapes\",\"Strawberries\"]],[\"top\",[5,3,4,2,4,6]]]}}},\"view\":{\"type\":\"object\",\"name\":\"CDSView\",\"id\":\"p35746\",\"attributes\":{\"filter\":{\"type\":\"object\",\"name\":\"AllIndices\",\"id\":\"p35747\"}}},\"glyph\":{\"type\":\"object\",\"name\":\"VBar\",\"id\":\"p35742\",\"attributes\":{\"x\":{\"type\":\"field\",\"field\":\"x\"},\"width\":{\"type\":\"value\",\"value\":0.9},\"top\":{\"type\":\"field\",\"field\":\"top\"},\"line_color\":{\"type\":\"value\",\"value\":\"indigo\"},\"fill_color\":{\"type\":\"value\",\"value\":\"indigo\"},\"hatch_color\":{\"type\":\"value\",\"value\":\"indigo\"}}},\"nonselection_glyph\":{\"type\":\"object\",\"name\":\"VBar\",\"id\":\"p35743\",\"attributes\":{\"x\":{\"type\":\"field\",\"field\":\"x\"},\"width\":{\"type\":\"value\",\"value\":0.9},\"top\":{\"type\":\"field\",\"field\":\"top\"},\"line_color\":{\"type\":\"value\",\"value\":\"indigo\"},\"line_alpha\":{\"type\":\"value\",\"value\":0.1},\"fill_color\":{\"type\":\"value\",\"value\":\"indigo\"},\"fill_alpha\":{\"type\":\"value\",\"value\":0.1},\"hatch_color\":{\"type\":\"value\",\"value\":\"indigo\"},\"hatch_alpha\":{\"type\":\"value\",\"value\":0.1}}},\"muted_glyph\":{\"type\":\"object\",\"name\":\"VBar\",\"id\":\"p35744\",\"attributes\":{\"x\":{\"type\":\"field\",\"field\":\"x\"},\"width\":{\"type\":\"value\",\"value\":0.9},\"top\":{\"type\":\"field\",\"field\":\"top\"},\"line_color\":{\"type\":\"value\",\"value\":\"indigo\"},\"line_alpha\":{\"type\":\"value\",\"value\":0.2},\"fill_color\":{\"type\":\"value\",\"value\":\"indigo\"},\"fill_alpha\":{\"type\":\"value\",\"value\":0.2},\"hatch_color\":{\"type\":\"value\",\"value\":\"indigo\"},\"hatch_alpha\":{\"type\":\"value\",\"value\":0.2}}}}}],\"toolbar\":{\"type\":\"object\",\"name\":\"Toolbar\",\"id\":\"p35700\",\"attributes\":{\"tools\":[{\"type\":\"object\",\"name\":\"PanTool\",\"id\":\"p35724\"},{\"type\":\"object\",\"name\":\"WheelZoomTool\",\"id\":\"p35725\"},{\"type\":\"object\",\"name\":\"BoxZoomTool\",\"id\":\"p35726\",\"attributes\":{\"overlay\":{\"type\":\"object\",\"name\":\"BoxAnnotation\",\"id\":\"p35727\",\"attributes\":{\"syncable\":false,\"level\":\"overlay\",\"visible\":false,\"left_units\":\"canvas\",\"right_units\":\"canvas\",\"bottom_units\":\"canvas\",\"top_units\":\"canvas\",\"line_color\":\"black\",\"line_alpha\":1.0,\"line_width\":2,\"line_dash\":[4,4],\"fill_color\":\"lightgrey\",\"fill_alpha\":0.5}}}},{\"type\":\"object\",\"name\":\"SaveTool\",\"id\":\"p35728\"},{\"type\":\"object\",\"name\":\"ResetTool\",\"id\":\"p35729\"},{\"type\":\"object\",\"name\":\"HelpTool\",\"id\":\"p35730\"}]}},\"left\":[{\"type\":\"object\",\"name\":\"LinearAxis\",\"id\":\"p35717\",\"attributes\":{\"ticker\":{\"type\":\"object\",\"name\":\"BasicTicker\",\"id\":\"p35720\",\"attributes\":{\"mantissas\":[1,2,5]}},\"formatter\":{\"type\":\"object\",\"name\":\"BasicTickFormatter\",\"id\":\"p35718\"},\"major_label_policy\":{\"type\":\"object\",\"name\":\"AllLabels\",\"id\":\"p35719\"}}}],\"below\":[{\"type\":\"object\",\"name\":\"CategoricalAxis\",\"id\":\"p35711\",\"attributes\":{\"ticker\":{\"type\":\"object\",\"name\":\"CategoricalTicker\",\"id\":\"p35714\"},\"formatter\":{\"type\":\"object\",\"name\":\"CategoricalTickFormatter\",\"id\":\"p35712\"},\"major_label_policy\":{\"type\":\"object\",\"name\":\"AllLabels\",\"id\":\"p35713\"}}}],\"center\":[{\"type\":\"object\",\"name\":\"Grid\",\"id\":\"p35716\",\"attributes\":{\"axis\":{\"id\":\"p35711\"}}},{\"type\":\"object\",\"name\":\"Grid\",\"id\":\"p35723\",\"attributes\":{\"dimension\":1,\"axis\":{\"id\":\"p35717\"}}}]}}]}};\n  const render_items = [{\"docid\":\"ebb1bc78-aa53-478f-966a-7e38bc232f52\",\"roots\":{\"p35694\":\"1bca9e13-31a8-4c8c-9fe0-3af80fb398e4\"},\"root_ids\":[\"p35694\"]}];\n  root.Bokeh.embed.embed_items_notebook(docs_json, render_items);\n  }\n  if (root.Bokeh !== undefined) {\n    embed_document(root);\n  } else {\n    let attempts = 0;\n    const timer = setInterval(function(root) {\n      if (root.Bokeh !== undefined) {\n        clearInterval(timer);\n        embed_document(root);\n      } else {\n        attempts++;\n        if (attempts > 100) {\n          clearInterval(timer);\n          console.log(\"Bokeh: ERROR: Unable to run BokehJS code because BokehJS library is missing\");\n        }\n      }\n    }, 10, root)\n  }\n})(window);",
      "application/vnd.bokehjs_exec.v0+json": ""
     },
     "metadata": {
      "application/vnd.bokehjs_exec.v0+json": {
       "id": "p35694"
      }
     },
     "output_type": "display_data"
    }
   ],
   "source": [
    "from bokeh.plotting import figure, show\n",
    "\n",
    "fruits = ['Apples', 'Pears', 'Nectarines', 'Plums', 'Grapes', 'Strawberries']  # a set of categories\n",
    "counts = [5, 3, 4, 2, 4, 6]\n",
    "\n",
    "p = figure(x_range=fruits, height=350)\n",
    "\n",
    "## try different ways to define the vbar's color by uncommenting one of the following lines:\n",
    "p.vbar(x=fruits, top=counts, width=0.9, color=\"indigo\")  # using a named CSS color\n",
    "# p.vbar(x=fruits, top=counts, width=0.9, color=\"#00FF00\")  # using a hex color\n",
    "# p.vbar(x=fruits, top=counts, width=0.9, color=(0, 100, 100))  # using a RGB color\n",
    "# p.vbar(x=fruits, top=counts, width=0.9, color=(0, 100, 100, 0.25))  # using a RGBA color\n",
    "\n",
    "show(p)"
   ]
  },
  {
   "cell_type": "markdown",
   "metadata": {},
   "source": [
    "See [Color properties](https://docs.bokeh.org/en/latest/docs/user_guide/styling/visuals.html#color-properties)\n",
    "in the Bokeh user guide for all ways to define colors."
   ]
  },
  {
   "attachments": {},
   "cell_type": "markdown",
   "metadata": {},
   "source": [
    "## Visual properties\n",
    "\n",
    "All the elements of a Bokeh visualization are Python objects. You can customize their\n",
    "appearance by setting these objects' properties.s\n",
    "\n",
    "Bokeh's visual properties work similarly across different kinds of objects.\n",
    "They are organized into four groups:\n",
    "\n",
    "### Line properties\n",
    "\n",
    "Line properties are used to customize the look of lines, such as color, thickness, and\n",
    "dash pattern.\n",
    "\n",
    "All line properties start with ``line_``. For example: ``line_color``,\n",
    "  ``line_alpha``, ``line_width`` and ``line_dash``.\n",
    "\n",
    "### Text properties\n",
    "\n",
    "Text properties are used to change the appearance of text, such as font, size, and\n",
    "color.\n",
    "\n",
    "All text properties start with ``text_``. For example: ``text_font``,\n",
    "  ``text_font_size``, ``text_color``, and ``text_alpha``.\n",
    "\n",
    "### Fill properties\n",
    "\n",
    "Fill properties are used for changing a filled area's color and transparency.\n",
    "\n",
    "Fill properties start with ``fill_``. For example: ``fill_color``, ``fill_alpha``.\n",
    "\n",
    "### Hatch properties\n",
    "\n",
    "Hatch properties are used for changing the appearance of hatches, such as color,\n",
    "pattern, and thickness.\n",
    "\n",
    "Hatch properties start with ``hatch_``. For example: ``hatch_color``,\n",
    "  ``hatch_alpha``, ``hatch_pattern``, and ``hatch_scale``.\n",
    "\n",
    "For more information with code and examples see the\n",
    "[General Visual Properties](https://docs.bokeh.org/en/latest/docs/user_guide/styling/visuals.html)\n",
    "section of the user guide."
   ]
  },
  {
   "attachments": {},
   "cell_type": "markdown",
   "metadata": {},
   "source": [
    "In the following code cell, use the different properties to customize the appearance\n",
    "of the plot. This plot uses the same data set as the previous chapter\n",
    "\n",
    "You'll see the following visual properties in action:\n",
    "* ``text_font_size`` and ``text_color`` (see [Text properties](https://docs.bokeh.org/en/latest/docs/user_guide/styling/visuals.html#text-properties)\n",
    "for more details)\n",
    "* ``line_width``, ``line_color``, ``line_alpha``, and ``line_dash`` (see [Line properties](https://docs.bokeh.org/en/latest/docs/user_guide/styling/visuals.html#line-properties)\n",
    "for more details)\n",
    "* ``fill_color`` and ``fill_alpha`` (see [Fill properties](https://docs.bokeh.org/en/latest/docs/user_guide/styling/visuals.html#fill-properties)\n",
    "for more details)\n",
    "* ``hatch_color``, ``hatch_alpha``, and ``hatch_pattern`` (see [Hatch properties](https://docs.bokeh.org/en/latest/docs/user_guide/styling/visuals.html#hatch-properties)\n",
    "for more details)"
   ]
  },
  {
   "cell_type": "code",
   "execution_count": 65,
   "metadata": {},
   "outputs": [
    {
     "data": {
      "text/html": [
       "\n",
       "  <div id=\"4f585be2-6a79-464f-a5ef-91a5a3e99f09\" data-root-id=\"p36684\" style=\"display: contents;\"></div>\n"
      ]
     },
     "metadata": {},
     "output_type": "display_data"
    },
    {
     "data": {
      "application/javascript": "(function(root) {\n  function embed_document(root) {\n  const docs_json = {\"44b38760-13ec-4106-934e-2a36e459357f\":{\"version\":\"3.0.0.dev19+11.g6094ec91\",\"title\":\"Bokeh Application\",\"defs\":[],\"roots\":[{\"type\":\"object\",\"name\":\"Figure\",\"id\":\"p36684\",\"attributes\":{\"height\":300,\"x_range\":{\"type\":\"object\",\"name\":\"DataRange1d\",\"id\":\"p36685\"},\"y_range\":{\"type\":\"object\",\"name\":\"DataRange1d\",\"id\":\"p36686\"},\"x_scale\":{\"type\":\"object\",\"name\":\"LinearScale\",\"id\":\"p36698\"},\"y_scale\":{\"type\":\"object\",\"name\":\"LinearScale\",\"id\":\"p36700\"},\"title\":{\"type\":\"object\",\"name\":\"Title\",\"id\":\"p36687\",\"attributes\":{\"text\":\"Domestic Freight (2021)\",\"text_color\":\"lightblue\",\"text_font_size\":\"1.2em\"}},\"renderers\":[{\"type\":\"object\",\"name\":\"GlyphRenderer\",\"id\":\"p36737\",\"attributes\":{\"data_source\":{\"type\":\"object\",\"name\":\"ColumnDataSource\",\"id\":\"p36731\",\"attributes\":{\"selected\":{\"type\":\"object\",\"name\":\"Selection\",\"id\":\"p36732\",\"attributes\":{\"indices\":[],\"line_indices\":[]}},\"selection_policy\":{\"type\":\"object\",\"name\":\"UnionRenderers\",\"id\":\"p36733\"},\"data\":{\"type\":\"map\",\"entries\":[[\"x\",{\"type\":\"ndarray\",\"array\":{\"type\":\"bytes\",\"data\":\"AQAAAAIAAAADAAAABAAAAAUAAAAGAAAABwAAAAgAAAAJAAAACgAAAAsAAAAMAAAA\"},\"shape\":[12],\"dtype\":\"int32\",\"order\":\"little\"}],[\"y\",{\"type\":\"ndarray\",\"array\":{\"type\":\"bytes\",\"data\":\"ZqY4BdwKewW/nJMGa+BhBh352wafi+UGsHTdBn5b0QbqldkGN6dIB89MKwcZFlUH\"},\"shape\":[12],\"dtype\":\"int32\",\"order\":\"little\"}]]}}},\"view\":{\"type\":\"object\",\"name\":\"CDSView\",\"id\":\"p36738\",\"attributes\":{\"filter\":{\"type\":\"object\",\"name\":\"AllIndices\",\"id\":\"p36739\"}}},\"glyph\":{\"type\":\"object\",\"name\":\"Line\",\"id\":\"p36734\",\"attributes\":{\"x\":{\"type\":\"field\",\"field\":\"x\"},\"y\":{\"type\":\"field\",\"field\":\"y\"},\"line_color\":\"orange\",\"line_alpha\":0.6,\"line_width\":3,\"line_dash\":[6]}},\"nonselection_glyph\":{\"type\":\"object\",\"name\":\"Line\",\"id\":\"p36735\",\"attributes\":{\"x\":{\"type\":\"field\",\"field\":\"x\"},\"y\":{\"type\":\"field\",\"field\":\"y\"},\"line_color\":\"orange\",\"line_alpha\":0.1,\"line_width\":3,\"line_dash\":[6]}},\"muted_glyph\":{\"type\":\"object\",\"name\":\"Line\",\"id\":\"p36736\",\"attributes\":{\"x\":{\"type\":\"field\",\"field\":\"x\"},\"y\":{\"type\":\"field\",\"field\":\"y\"},\"line_color\":\"orange\",\"line_alpha\":0.2,\"line_width\":3,\"line_dash\":[6]}}}},{\"type\":\"object\",\"name\":\"GlyphRenderer\",\"id\":\"p36746\",\"attributes\":{\"data_source\":{\"type\":\"object\",\"name\":\"ColumnDataSource\",\"id\":\"p36740\",\"attributes\":{\"selected\":{\"type\":\"object\",\"name\":\"Selection\",\"id\":\"p36741\",\"attributes\":{\"indices\":[],\"line_indices\":[]}},\"selection_policy\":{\"type\":\"object\",\"name\":\"UnionRenderers\",\"id\":\"p36742\"},\"data\":{\"type\":\"map\",\"entries\":[[\"x\",{\"type\":\"ndarray\",\"array\":{\"type\":\"bytes\",\"data\":\"AQAAAAIAAAADAAAABAAAAAUAAAAGAAAABwAAAAgAAAAJAAAACgAAAAsAAAAMAAAA\"},\"shape\":[12],\"dtype\":\"int32\",\"order\":\"little\"}],[\"top\",{\"type\":\"ndarray\",\"array\":{\"type\":\"bytes\",\"data\":\"dK7MAjalRgL/B6YCmk/CAscZrQJGxX0CFNjAAo/txQLhoxoCEpqRAhedbgIEkwsD\"},\"shape\":[12],\"dtype\":\"int32\",\"order\":\"little\"}]]}}},\"view\":{\"type\":\"object\",\"name\":\"CDSView\",\"id\":\"p36747\",\"attributes\":{\"filter\":{\"type\":\"object\",\"name\":\"AllIndices\",\"id\":\"p36748\"}}},\"glyph\":{\"type\":\"object\",\"name\":\"VBar\",\"id\":\"p36743\",\"attributes\":{\"x\":{\"type\":\"field\",\"field\":\"x\"},\"width\":{\"type\":\"value\",\"value\":0.9},\"top\":{\"type\":\"field\",\"field\":\"top\"},\"line_color\":{\"type\":\"value\",\"value\":\"#1f77b4\"},\"fill_color\":{\"type\":\"value\",\"value\":\"navy\"},\"fill_alpha\":{\"type\":\"value\",\"value\":0.5},\"hatch_color\":{\"type\":\"value\",\"value\":\"yellow\"},\"hatch_alpha\":{\"type\":\"value\",\"value\":0.5},\"hatch_pattern\":{\"type\":\"value\",\"value\":\"spiral\"}}},\"nonselection_glyph\":{\"type\":\"object\",\"name\":\"VBar\",\"id\":\"p36744\",\"attributes\":{\"x\":{\"type\":\"field\",\"field\":\"x\"},\"width\":{\"type\":\"value\",\"value\":0.9},\"top\":{\"type\":\"field\",\"field\":\"top\"},\"line_color\":{\"type\":\"value\",\"value\":\"#1f77b4\"},\"line_alpha\":{\"type\":\"value\",\"value\":0.1},\"fill_color\":{\"type\":\"value\",\"value\":\"navy\"},\"fill_alpha\":{\"type\":\"value\",\"value\":0.1},\"hatch_color\":{\"type\":\"value\",\"value\":\"yellow\"},\"hatch_alpha\":{\"type\":\"value\",\"value\":0.1},\"hatch_pattern\":{\"type\":\"value\",\"value\":\"spiral\"}}},\"muted_glyph\":{\"type\":\"object\",\"name\":\"VBar\",\"id\":\"p36745\",\"attributes\":{\"x\":{\"type\":\"field\",\"field\":\"x\"},\"width\":{\"type\":\"value\",\"value\":0.9},\"top\":{\"type\":\"field\",\"field\":\"top\"},\"line_color\":{\"type\":\"value\",\"value\":\"#1f77b4\"},\"line_alpha\":{\"type\":\"value\",\"value\":0.2},\"fill_color\":{\"type\":\"value\",\"value\":\"navy\"},\"fill_alpha\":{\"type\":\"value\",\"value\":0.2},\"hatch_color\":{\"type\":\"value\",\"value\":\"yellow\"},\"hatch_alpha\":{\"type\":\"value\",\"value\":0.2},\"hatch_pattern\":{\"type\":\"value\",\"value\":\"spiral\"}}}}}],\"toolbar\":{\"type\":\"object\",\"name\":\"Toolbar\",\"id\":\"p36691\",\"attributes\":{\"tools\":[{\"type\":\"object\",\"name\":\"PanTool\",\"id\":\"p36716\"},{\"type\":\"object\",\"name\":\"WheelZoomTool\",\"id\":\"p36717\"},{\"type\":\"object\",\"name\":\"BoxZoomTool\",\"id\":\"p36718\",\"attributes\":{\"overlay\":{\"type\":\"object\",\"name\":\"BoxAnnotation\",\"id\":\"p36719\",\"attributes\":{\"syncable\":false,\"level\":\"overlay\",\"visible\":false,\"left_units\":\"canvas\",\"right_units\":\"canvas\",\"bottom_units\":\"canvas\",\"top_units\":\"canvas\",\"line_color\":\"black\",\"line_alpha\":1.0,\"line_width\":2,\"line_dash\":[4,4],\"fill_color\":\"lightgrey\",\"fill_alpha\":0.5}}}},{\"type\":\"object\",\"name\":\"SaveTool\",\"id\":\"p36720\"},{\"type\":\"object\",\"name\":\"ResetTool\",\"id\":\"p36721\"},{\"type\":\"object\",\"name\":\"HelpTool\",\"id\":\"p36722\"}]}},\"left\":[{\"type\":\"object\",\"name\":\"LinearAxis\",\"id\":\"p36709\",\"attributes\":{\"ticker\":{\"type\":\"object\",\"name\":\"BasicTicker\",\"id\":\"p36712\",\"attributes\":{\"mantissas\":[1,2,5]}},\"formatter\":{\"type\":\"object\",\"name\":\"BasicTickFormatter\",\"id\":\"p36710\"},\"major_label_policy\":{\"type\":\"object\",\"name\":\"AllLabels\",\"id\":\"p36711\"}}}],\"below\":[{\"type\":\"object\",\"name\":\"LinearAxis\",\"id\":\"p36702\",\"attributes\":{\"ticker\":{\"type\":\"object\",\"name\":\"BasicTicker\",\"id\":\"p36705\",\"attributes\":{\"mantissas\":[1,2,5]}},\"formatter\":{\"type\":\"object\",\"name\":\"BasicTickFormatter\",\"id\":\"p36703\"},\"major_label_policy\":{\"type\":\"object\",\"name\":\"AllLabels\",\"id\":\"p36704\"}}}],\"center\":[{\"type\":\"object\",\"name\":\"Grid\",\"id\":\"p36708\",\"attributes\":{\"axis\":{\"id\":\"p36702\"}}},{\"type\":\"object\",\"name\":\"Grid\",\"id\":\"p36715\",\"attributes\":{\"dimension\":1,\"axis\":{\"id\":\"p36709\"}}}]}}]}};\n  const render_items = [{\"docid\":\"44b38760-13ec-4106-934e-2a36e459357f\",\"roots\":{\"p36684\":\"4f585be2-6a79-464f-a5ef-91a5a3e99f09\"},\"root_ids\":[\"p36684\"]}];\n  root.Bokeh.embed.embed_items_notebook(docs_json, render_items);\n  }\n  if (root.Bokeh !== undefined) {\n    embed_document(root);\n  } else {\n    let attempts = 0;\n    const timer = setInterval(function(root) {\n      if (root.Bokeh !== undefined) {\n        clearInterval(timer);\n        embed_document(root);\n      } else {\n        attempts++;\n        if (attempts > 100) {\n          clearInterval(timer);\n          console.log(\"Bokeh: ERROR: Unable to run BokehJS code because BokehJS library is missing\");\n        }\n      }\n    }, 10, root)\n  }\n})(window);",
      "application/vnd.bokehjs_exec.v0+json": ""
     },
     "metadata": {
      "application/vnd.bokehjs_exec.v0+json": {
       "id": "p36684"
      }
     },
     "output_type": "display_data"
    }
   ],
   "source": [
    "# set up the plot\n",
    "plot = figure(\n",
    "    height=300,\n",
    "    title='Domestic Freight (2021)',\n",
    "    )\n",
    "\n",
    "# load data from the monthly_values_df data set\n",
    "monthly_values_df = data.get_monthly_values()\n",
    "\n",
    "# use data from the monthly_values_df DataFrame\n",
    "x = monthly_values_df.index # x-axis is the number of the month\n",
    "freight = monthly_values_df['freight'] # the amount of freight\n",
    "mail = monthly_values_df['mail'] # the amount of mail\n",
    "\n",
    "# Change the font size of the title\n",
    "plot.title.text_font_size = \"1.2em\"  # using a CSS-style definition of the font size\n",
    "plot.title.text_color = \"lightblue\"  # using a named CSS color\n",
    "\n",
    "# add a line glyph and customize its appearance\n",
    "plot.line(\n",
    "    x, freight,\n",
    "    line_width=3, line_color=\"orange\", line_alpha=0.6, line_dash=\"dashed\",  # line properties\n",
    "    )\n",
    "\n",
    "# add a vbar glyph and customize its appearance\n",
    "plot.vbar(\n",
    "    x=x, top=mail, width=0.9,\n",
    "    fill_alpha=0.5, fill_color=\"navy\",  # fill properties\n",
    "    hatch_pattern=\"spiral\", hatch_alpha=0.5, hatch_color=\"yellow\",  # hatch properties\n",
    ")\n",
    "\n",
    "show(plot)"
   ]
  },
  {
   "attachments": {},
   "cell_type": "markdown",
   "metadata": {},
   "source": [
    "## Styling plots\n",
    "\n",
    "You can define the appearance of many elements of a plot.\n",
    "This includes a plot's outline, border, and background, for example.\n",
    "\n",
    "Customizing the the appearance of a plot's element uses the visual properties\n",
    "that work just like the ones from above."
   ]
  },
  {
   "cell_type": "code",
   "execution_count": 66,
   "metadata": {},
   "outputs": [
    {
     "data": {
      "text/html": [
       "\n",
       "  <div id=\"98973c45-b00f-4571-b3ca-da352591df13\" data-root-id=\"p37730\" style=\"display: contents;\"></div>\n"
      ]
     },
     "metadata": {},
     "output_type": "display_data"
    },
    {
     "data": {
      "application/javascript": "(function(root) {\n  function embed_document(root) {\n  const docs_json = {\"09c39585-7d3e-44ce-9b20-e8150e3122b4\":{\"version\":\"3.0.0.dev19+11.g6094ec91\",\"title\":\"Bokeh Application\",\"defs\":[],\"roots\":[{\"type\":\"object\",\"name\":\"Figure\",\"id\":\"p37730\",\"attributes\":{\"height\":300,\"x_range\":{\"type\":\"object\",\"name\":\"DataRange1d\",\"id\":\"p37731\"},\"y_range\":{\"type\":\"object\",\"name\":\"DataRange1d\",\"id\":\"p37732\"},\"x_scale\":{\"type\":\"object\",\"name\":\"LinearScale\",\"id\":\"p37743\"},\"y_scale\":{\"type\":\"object\",\"name\":\"LinearScale\",\"id\":\"p37745\"},\"title\":{\"type\":\"object\",\"name\":\"Title\",\"id\":\"p37733\"},\"outline_line_color\":\"navy\",\"outline_line_alpha\":0.5,\"outline_line_width\":2,\"renderers\":[{\"type\":\"object\",\"name\":\"GlyphRenderer\",\"id\":\"p37782\",\"attributes\":{\"data_source\":{\"type\":\"object\",\"name\":\"ColumnDataSource\",\"id\":\"p37776\",\"attributes\":{\"selected\":{\"type\":\"object\",\"name\":\"Selection\",\"id\":\"p37777\",\"attributes\":{\"indices\":[],\"line_indices\":[]}},\"selection_policy\":{\"type\":\"object\",\"name\":\"UnionRenderers\",\"id\":\"p37778\"},\"data\":{\"type\":\"map\",\"entries\":[[\"x\",[1,2,3,4,5]],[\"y\",[2,5,8,2,7]]]}}},\"view\":{\"type\":\"object\",\"name\":\"CDSView\",\"id\":\"p37783\",\"attributes\":{\"filter\":{\"type\":\"object\",\"name\":\"AllIndices\",\"id\":\"p37784\"}}},\"glyph\":{\"type\":\"object\",\"name\":\"Circle\",\"id\":\"p37779\",\"attributes\":{\"x\":{\"type\":\"field\",\"field\":\"x\"},\"y\":{\"type\":\"field\",\"field\":\"y\"},\"size\":{\"type\":\"value\",\"value\":10},\"line_color\":{\"type\":\"value\",\"value\":\"#1f77b4\"},\"fill_color\":{\"type\":\"value\",\"value\":\"#1f77b4\"}}},\"nonselection_glyph\":{\"type\":\"object\",\"name\":\"Circle\",\"id\":\"p37780\",\"attributes\":{\"x\":{\"type\":\"field\",\"field\":\"x\"},\"y\":{\"type\":\"field\",\"field\":\"y\"},\"size\":{\"type\":\"value\",\"value\":10},\"line_color\":{\"type\":\"value\",\"value\":\"#1f77b4\"},\"line_alpha\":{\"type\":\"value\",\"value\":0.1},\"fill_color\":{\"type\":\"value\",\"value\":\"#1f77b4\"},\"fill_alpha\":{\"type\":\"value\",\"value\":0.1},\"hatch_alpha\":{\"type\":\"value\",\"value\":0.1}}},\"muted_glyph\":{\"type\":\"object\",\"name\":\"Circle\",\"id\":\"p37781\",\"attributes\":{\"x\":{\"type\":\"field\",\"field\":\"x\"},\"y\":{\"type\":\"field\",\"field\":\"y\"},\"size\":{\"type\":\"value\",\"value\":10},\"line_color\":{\"type\":\"value\",\"value\":\"#1f77b4\"},\"line_alpha\":{\"type\":\"value\",\"value\":0.2},\"fill_color\":{\"type\":\"value\",\"value\":\"#1f77b4\"},\"fill_alpha\":{\"type\":\"value\",\"value\":0.2},\"hatch_alpha\":{\"type\":\"value\",\"value\":0.2}}}}}],\"toolbar\":{\"type\":\"object\",\"name\":\"Toolbar\",\"id\":\"p37736\",\"attributes\":{\"tools\":[{\"type\":\"object\",\"name\":\"PanTool\",\"id\":\"p37761\"},{\"type\":\"object\",\"name\":\"WheelZoomTool\",\"id\":\"p37762\"},{\"type\":\"object\",\"name\":\"BoxZoomTool\",\"id\":\"p37763\",\"attributes\":{\"overlay\":{\"type\":\"object\",\"name\":\"BoxAnnotation\",\"id\":\"p37764\",\"attributes\":{\"syncable\":false,\"level\":\"overlay\",\"visible\":false,\"left_units\":\"canvas\",\"right_units\":\"canvas\",\"bottom_units\":\"canvas\",\"top_units\":\"canvas\",\"line_color\":\"black\",\"line_alpha\":1.0,\"line_width\":2,\"line_dash\":[4,4],\"fill_color\":\"lightgrey\",\"fill_alpha\":0.5}}}},{\"type\":\"object\",\"name\":\"SaveTool\",\"id\":\"p37765\"},{\"type\":\"object\",\"name\":\"ResetTool\",\"id\":\"p37766\"},{\"type\":\"object\",\"name\":\"HelpTool\",\"id\":\"p37767\"}]}},\"left\":[{\"type\":\"object\",\"name\":\"LinearAxis\",\"id\":\"p37754\",\"attributes\":{\"ticker\":{\"type\":\"object\",\"name\":\"BasicTicker\",\"id\":\"p37757\",\"attributes\":{\"mantissas\":[1,2,5]}},\"formatter\":{\"type\":\"object\",\"name\":\"BasicTickFormatter\",\"id\":\"p37755\"},\"major_label_policy\":{\"type\":\"object\",\"name\":\"AllLabels\",\"id\":\"p37756\"}}}],\"below\":[{\"type\":\"object\",\"name\":\"LinearAxis\",\"id\":\"p37747\",\"attributes\":{\"ticker\":{\"type\":\"object\",\"name\":\"BasicTicker\",\"id\":\"p37750\",\"attributes\":{\"mantissas\":[1,2,5]}},\"formatter\":{\"type\":\"object\",\"name\":\"BasicTickFormatter\",\"id\":\"p37748\"},\"major_label_policy\":{\"type\":\"object\",\"name\":\"AllLabels\",\"id\":\"p37749\"}}}],\"center\":[{\"type\":\"object\",\"name\":\"Grid\",\"id\":\"p37753\",\"attributes\":{\"axis\":{\"id\":\"p37747\"},\"grid_line_color\":null}},{\"type\":\"object\",\"name\":\"Grid\",\"id\":\"p37760\",\"attributes\":{\"dimension\":1,\"axis\":{\"id\":\"p37754\"}}}],\"background_fill_color\":\"lightblue\"}}]}};\n  const render_items = [{\"docid\":\"09c39585-7d3e-44ce-9b20-e8150e3122b4\",\"roots\":{\"p37730\":\"98973c45-b00f-4571-b3ca-da352591df13\"},\"root_ids\":[\"p37730\"]}];\n  root.Bokeh.embed.embed_items_notebook(docs_json, render_items);\n  }\n  if (root.Bokeh !== undefined) {\n    embed_document(root);\n  } else {\n    let attempts = 0;\n    const timer = setInterval(function(root) {\n      if (root.Bokeh !== undefined) {\n        clearInterval(timer);\n        embed_document(root);\n      } else {\n        attempts++;\n        if (attempts > 100) {\n          clearInterval(timer);\n          console.log(\"Bokeh: ERROR: Unable to run BokehJS code because BokehJS library is missing\");\n        }\n      }\n    }, 10, root)\n  }\n})(window);",
      "application/vnd.bokehjs_exec.v0+json": ""
     },
     "metadata": {
      "application/vnd.bokehjs_exec.v0+json": {
       "id": "p37730"
      }
     },
     "output_type": "display_data"
    }
   ],
   "source": [
    "# create a new plot\n",
    "plot = figure(height=300)\n",
    "plot.outline_line_color = \"navy\"  # use a CSS color for the plot's outline\n",
    "plot.outline_line_width = 2  # set the width of the outline\n",
    "plot.outline_line_alpha = 0.5 # set the transparency of the outline\n",
    "plot.background_fill_color = \"lightblue\"  # set a background color\n",
    "plot.xgrid.grid_line_color = None  # make the x-axis grid lines invisible\n",
    "\n",
    "plot.circle([1,2,3,4,5], [2,5,8,2,7], size=10)\n",
    "\n",
    "show(plot)"
   ]
  },
  {
   "attachments": {},
   "cell_type": "markdown",
   "metadata": {},
   "source": [
    "See the [Styling plot elements](https://docs.bokeh.org/en/latest/docs/user_guide/styling/plots.html#ug-styling-plots) section of the user guide for more details."
   ]
  },
  {
   "attachments": {},
   "cell_type": "markdown",
   "metadata": {},
   "source": [
    "## Styling Glyphs\n",
    "\n",
    "As you have probably already seen, there are two ways to define properties of a the\n",
    "elements in your plot:\n",
    "\n",
    "You either set the properties of the glyph when you define it for the first time.\n",
    "For example: \n",
    "\n",
    "```python\n",
    "plot.circle(x, y, fill_color='yellow', line_color='red')\n",
    "```\n",
    "\n",
    "Or you can set the properties of the glyph after you have defined it. Use the ``.glyph``\n",
    "attribute to access the visual properties of a glyph. For example:\n",
    "\n",
    "```python\n",
    "circle = plot.circle(x, y)\n",
    "circle.glyph.fill_color = 'green'\n",
    "circle.glyph.line_color = 'blue'\n",
    "```\n",
    "\n",
    "In the following code cell, you can see how the ``fill_color`` and ``line_color`` of the\n",
    "glyph is first set to \"yellow\" and \"red\" when the glyph is defined. \n",
    "Then, the ``fill_color`` is changed to \"green\" and the ``line_color`` is changed to\n",
    "\"blue\":"
   ]
  },
  {
   "cell_type": "code",
   "execution_count": 67,
   "metadata": {},
   "outputs": [
    {
     "data": {
      "text/html": [
       "\n",
       "  <div id=\"b005c28d-e3e6-47b0-81e7-89a670ffaf19\" data-root-id=\"p38753\" style=\"display: contents;\"></div>\n"
      ]
     },
     "metadata": {},
     "output_type": "display_data"
    },
    {
     "data": {
      "application/javascript": "(function(root) {\n  function embed_document(root) {\n  const docs_json = {\"6d9e4567-6640-4752-b91c-24d4e6f6340b\":{\"version\":\"3.0.0.dev19+11.g6094ec91\",\"title\":\"Bokeh Application\",\"defs\":[],\"roots\":[{\"type\":\"object\",\"name\":\"Figure\",\"id\":\"p38753\",\"attributes\":{\"height\":300,\"x_range\":{\"type\":\"object\",\"name\":\"DataRange1d\",\"id\":\"p38754\"},\"y_range\":{\"type\":\"object\",\"name\":\"DataRange1d\",\"id\":\"p38755\"},\"x_scale\":{\"type\":\"object\",\"name\":\"LinearScale\",\"id\":\"p38766\"},\"y_scale\":{\"type\":\"object\",\"name\":\"LinearScale\",\"id\":\"p38768\"},\"title\":{\"type\":\"object\",\"name\":\"Title\",\"id\":\"p38756\"},\"renderers\":[{\"type\":\"object\",\"name\":\"GlyphRenderer\",\"id\":\"p38805\",\"attributes\":{\"data_source\":{\"type\":\"object\",\"name\":\"ColumnDataSource\",\"id\":\"p38799\",\"attributes\":{\"selected\":{\"type\":\"object\",\"name\":\"Selection\",\"id\":\"p38800\",\"attributes\":{\"indices\":[],\"line_indices\":[]}},\"selection_policy\":{\"type\":\"object\",\"name\":\"UnionRenderers\",\"id\":\"p38801\"},\"data\":{\"type\":\"map\",\"entries\":[[\"x\",[1,2,3]],[\"y\",[2,5,8]]]}}},\"view\":{\"type\":\"object\",\"name\":\"CDSView\",\"id\":\"p38806\",\"attributes\":{\"filter\":{\"type\":\"object\",\"name\":\"AllIndices\",\"id\":\"p38807\"}}},\"glyph\":{\"type\":\"object\",\"name\":\"Circle\",\"id\":\"p38802\",\"attributes\":{\"x\":{\"type\":\"field\",\"field\":\"x\"},\"y\":{\"type\":\"field\",\"field\":\"y\"},\"size\":{\"type\":\"value\",\"value\":15},\"line_color\":{\"type\":\"value\",\"value\":\"blue\"},\"fill_color\":{\"type\":\"value\",\"value\":\"green\"}}},\"nonselection_glyph\":{\"type\":\"object\",\"name\":\"Circle\",\"id\":\"p38803\",\"attributes\":{\"x\":{\"type\":\"field\",\"field\":\"x\"},\"y\":{\"type\":\"field\",\"field\":\"y\"},\"size\":{\"type\":\"value\",\"value\":15},\"line_color\":{\"type\":\"value\",\"value\":\"red\"},\"line_alpha\":{\"type\":\"value\",\"value\":0.1},\"fill_color\":{\"type\":\"value\",\"value\":\"yellow\"},\"fill_alpha\":{\"type\":\"value\",\"value\":0.1},\"hatch_alpha\":{\"type\":\"value\",\"value\":0.1}}},\"muted_glyph\":{\"type\":\"object\",\"name\":\"Circle\",\"id\":\"p38804\",\"attributes\":{\"x\":{\"type\":\"field\",\"field\":\"x\"},\"y\":{\"type\":\"field\",\"field\":\"y\"},\"size\":{\"type\":\"value\",\"value\":15},\"line_color\":{\"type\":\"value\",\"value\":\"red\"},\"line_alpha\":{\"type\":\"value\",\"value\":0.2},\"fill_color\":{\"type\":\"value\",\"value\":\"yellow\"},\"fill_alpha\":{\"type\":\"value\",\"value\":0.2},\"hatch_alpha\":{\"type\":\"value\",\"value\":0.2}}}}}],\"toolbar\":{\"type\":\"object\",\"name\":\"Toolbar\",\"id\":\"p38759\",\"attributes\":{\"tools\":[{\"type\":\"object\",\"name\":\"PanTool\",\"id\":\"p38784\"},{\"type\":\"object\",\"name\":\"WheelZoomTool\",\"id\":\"p38785\"},{\"type\":\"object\",\"name\":\"BoxZoomTool\",\"id\":\"p38786\",\"attributes\":{\"overlay\":{\"type\":\"object\",\"name\":\"BoxAnnotation\",\"id\":\"p38787\",\"attributes\":{\"syncable\":false,\"level\":\"overlay\",\"visible\":false,\"left_units\":\"canvas\",\"right_units\":\"canvas\",\"bottom_units\":\"canvas\",\"top_units\":\"canvas\",\"line_color\":\"black\",\"line_alpha\":1.0,\"line_width\":2,\"line_dash\":[4,4],\"fill_color\":\"lightgrey\",\"fill_alpha\":0.5}}}},{\"type\":\"object\",\"name\":\"SaveTool\",\"id\":\"p38788\"},{\"type\":\"object\",\"name\":\"ResetTool\",\"id\":\"p38789\"},{\"type\":\"object\",\"name\":\"HelpTool\",\"id\":\"p38790\"}]}},\"left\":[{\"type\":\"object\",\"name\":\"LinearAxis\",\"id\":\"p38777\",\"attributes\":{\"ticker\":{\"type\":\"object\",\"name\":\"BasicTicker\",\"id\":\"p38780\",\"attributes\":{\"mantissas\":[1,2,5]}},\"formatter\":{\"type\":\"object\",\"name\":\"BasicTickFormatter\",\"id\":\"p38778\"},\"major_label_policy\":{\"type\":\"object\",\"name\":\"AllLabels\",\"id\":\"p38779\"}}}],\"below\":[{\"type\":\"object\",\"name\":\"LinearAxis\",\"id\":\"p38770\",\"attributes\":{\"ticker\":{\"type\":\"object\",\"name\":\"BasicTicker\",\"id\":\"p38773\",\"attributes\":{\"mantissas\":[1,2,5]}},\"formatter\":{\"type\":\"object\",\"name\":\"BasicTickFormatter\",\"id\":\"p38771\"},\"major_label_policy\":{\"type\":\"object\",\"name\":\"AllLabels\",\"id\":\"p38772\"}}}],\"center\":[{\"type\":\"object\",\"name\":\"Grid\",\"id\":\"p38776\",\"attributes\":{\"axis\":{\"id\":\"p38770\"}}},{\"type\":\"object\",\"name\":\"Grid\",\"id\":\"p38783\",\"attributes\":{\"dimension\":1,\"axis\":{\"id\":\"p38777\"}}}]}}]}};\n  const render_items = [{\"docid\":\"6d9e4567-6640-4752-b91c-24d4e6f6340b\",\"roots\":{\"p38753\":\"b005c28d-e3e6-47b0-81e7-89a670ffaf19\"},\"root_ids\":[\"p38753\"]}];\n  root.Bokeh.embed.embed_items_notebook(docs_json, render_items);\n  }\n  if (root.Bokeh !== undefined) {\n    embed_document(root);\n  } else {\n    let attempts = 0;\n    const timer = setInterval(function(root) {\n      if (root.Bokeh !== undefined) {\n        clearInterval(timer);\n        embed_document(root);\n      } else {\n        attempts++;\n        if (attempts > 100) {\n          clearInterval(timer);\n          console.log(\"Bokeh: ERROR: Unable to run BokehJS code because BokehJS library is missing\");\n        }\n      }\n    }, 10, root)\n  }\n})(window);",
      "application/vnd.bokehjs_exec.v0+json": ""
     },
     "metadata": {
      "application/vnd.bokehjs_exec.v0+json": {
       "id": "p38753"
      }
     },
     "output_type": "display_data"
    }
   ],
   "source": [
    "plot = figure(height=300)\n",
    "circle = plot.circle([1,2,3], [2,5,8], size=15, fill_color='yellow', line_color='red')\n",
    "circle.glyph.fill_color = 'green'  # use the .glyph attribute to access the visual properties of the glyph\n",
    "circle.glyph.line_color = 'blue'\n",
    "\n",
    "show(plot)"
   ]
  },
  {
   "attachments": {},
   "cell_type": "markdown",
   "metadata": {},
   "source": [
    "[TBD]Styling Axes"
   ]
  },
  {
   "attachments": {},
   "cell_type": "markdown",
   "metadata": {},
   "source": [
    "[TBD] using themes"
   ]
  },
  {
   "cell_type": "code",
   "execution_count": null,
   "metadata": {},
   "outputs": [],
   "source": []
  }
 ],
 "metadata": {
  "kernelspec": {
   "display_name": "Python 3.10.5 ('bkdev')",
   "language": "python",
   "name": "python3"
  },
  "language_info": {
   "codemirror_mode": {
    "name": "ipython",
    "version": 3
   },
   "file_extension": ".py",
   "mimetype": "text/x-python",
   "name": "python",
   "nbconvert_exporter": "python",
   "pygments_lexer": "ipython3",
   "version": "3.10.5"
  },
  "orig_nbformat": 4,
  "vscode": {
   "interpreter": {
    "hash": "235b19fcaffa5794826dea2ddf7d42fb25e07978c9b4f25fa5170912e20c65ca"
   }
  }
 },
 "nbformat": 4,
 "nbformat_minor": 2
}
