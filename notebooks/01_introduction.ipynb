{
 "cells": [
  {
   "cell_type": "markdown",
   "metadata": {},
   "source": [
    "<table style=\"float:left; border:none\">\n",
    "   <tr style=\"border:none\">\n",
    "       <td style=\"border:none\">\n",
    "           <a href=\"https://bokeh.org/\">\n",
    "           <img\n",
    "               src=\"assets/bokeh-transparent.png\"\n",
    "               style=\"width:50px\"\n",
    "           >\n",
    "           </a>\n",
    "       </td>\n",
    "       <td style=\"border:none\">\n",
    "           <h1>Bokeh Tutorial</h1>\n",
    "       </td>\n",
    "   </tr>\n",
    "</table>\n",
    "\n",
    "<div style=\"float:right;\"><h2>01 Tutorial Overview</h2></div>"
   ]
  },
  {
   "cell_type": "markdown",
   "metadata": {},
   "source": [
    "### What is Bokeh\n",
    "\n",
    "Bokeh is an open source library for creating **interactive visualization for modern web\n",
    "browsers**.\n",
    "\n",
    "With Bokeh, you can use Python to build beautiful graphics, ranging from simple plots to\n",
    "complex dashboards with streaming datasets.\n",
    "In a nutshell: Bokeh lets you create JavaScript-powered visualizations **without having\n",
    "to write any JavaScript yourself**.\n",
    "\n",
    "Bokeh can generate[ stand-alone HTML objects](http://docs.bokeh.org/en/latest/docs/user_guide/embed.html) to use in any kind of website,\n",
    "or you can run Bokeh as a [server](http://docs.bokeh.org/en/latest/docs/user_guide/server.html).\n",
    "But Bokeh also works directly in Jupyter Notebooks.\n",
    "\n",
    "Run the the two notebook cell below to see Bokeh in action:"
   ]
  },
  {
   "cell_type": "code",
   "execution_count": null,
   "metadata": {},
   "outputs": [],
   "source": [
    "# Activate Bokeh output in Jupyter notebook\n",
    "from bokeh.io import output_notebook\n",
    "\n",
    "output_notebook()"
   ]
  },
  {
   "cell_type": "code",
   "execution_count": null,
   "metadata": {},
   "outputs": [],
   "source": [
    "# Create a complex chart with mouse-over tooltips\n",
    "\n",
    "from bokeh.models import ColumnDataSource, HoverTool\n",
    "from bokeh.plotting import figure, show\n",
    "from bokeh.sampledata.autompg import autompg_clean as df\n",
    "from bokeh.transform import factor_cmap\n",
    "\n",
    "df.cyl = df.cyl.astype(str)\n",
    "df.yr = df.yr.astype(str)\n",
    "\n",
    "group = df.groupby(by=[\"cyl\", \"mfr\"])\n",
    "source = ColumnDataSource(group)\n",
    "\n",
    "p = figure(\n",
    "    width=800,\n",
    "    height=300,\n",
    "    title=\"Mean MPG by # Cylinders and Manufacturer\",\n",
    "    x_range=group,\n",
    "    toolbar_location=None,\n",
    "    tools=\"\",\n",
    ")\n",
    "\n",
    "p.xgrid.grid_line_color = None\n",
    "p.xaxis.axis_label = \"Manufacturer grouped by # Cylinders\"\n",
    "p.xaxis.major_label_orientation = 1.2\n",
    "\n",
    "index_cmap = factor_cmap(\n",
    "    \"cyl_mfr\",\n",
    "    palette=[\"#2b83ba\", \"#abdda4\", \"#ffffbf\", \"#fdae61\", \"#d7191c\"],\n",
    "    factors=sorted(df.cyl.unique()),\n",
    "    end=1,\n",
    ")\n",
    "\n",
    "p.vbar(\n",
    "    x=\"cyl_mfr\",\n",
    "    top=\"mpg_mean\",\n",
    "    width=1,\n",
    "    source=source,\n",
    "    line_color=\"white\",\n",
    "    fill_color=index_cmap,\n",
    "    hover_line_color=\"darkgrey\",\n",
    "    hover_fill_color=index_cmap,\n",
    ")\n",
    "\n",
    "p.add_tools(HoverTool(tooltips=[(\"MPG\", \"@mpg_mean\"), (\"Cyl, Mfr\", \"@cyl_mfr\")]))\n",
    "\n",
    "show(p)"
   ]
  },
  {
   "cell_type": "markdown",
   "metadata": {},
   "source": [
    "### What's in this tutorial\n",
    "\n",
    "This tutorial is an interactive way to learn the basics of Bokeh, making use of [Bokeh's\n",
    "tight integration](http://docs.bokeh.org/en/latest/docs/user_guide/jupyter.html) with\n",
    "Jupyter notebooks and JupyterLabs.\n",
    "\n",
    "In the course of this tutorial, you will learn everything you need to know about Bokeh\n",
    "to build this interactive dashboard using the\n",
    "[\"T-100 Domestic Market\"](https://transtats.bts.gov/DL_SelectFields.aspx?gnoyr_VQ=FIL&QO_fu146_anzr=Nv4%20Pn44vr45)\n",
    "dataset of airline routes within the United States (for the year 2021):"
   ]
  },
  {
   "cell_type": "code",
   "execution_count": null,
   "metadata": {},
   "outputs": [],
   "source": [
    "# Load dashboard object\n",
    "import sys\n",
    "\n",
    "sys.path.append(\"../data\")\n",
    "from tutorial_dashboard import dashboard_layout\n",
    "\n",
    "# show dashboard\n",
    "show(dashboard_layout)"
   ]
  },
  {
   "attachments": {},
   "cell_type": "markdown",
   "metadata": {},
   "source": [
    "The tutorial will walk you through all the steps of creating this dashboard, introducing\n",
    "you to the most important concepts and functionalities of Bokeh.\n",
    "\n",
    "The skills you will learn in this tutorial will provide you with a solid\n",
    "foundation to build different kinds of Bokeh visualization. There are a lot more things\n",
    "you can do with Bokeh, however. For more advanced information, you can refer to the\n",
    "[Bokeh user guide](http://docs.bokeh.org/en/latest/docs/user_guide.html) and the\n",
    "[Bokeh reference guide](http://docs.bokeh.org/en/latest/docs/reference.html).\n",
    "\n",
    "You can also jump directly to any section of the tutorial to learn more about a specific aspect of Bokeh.\n",
    "Use the following links:\n",
    "\n",
    "* 01 Introduction\n",
    "* [02 Bokeh installation and setup](02_installation_and_setup.ipynb)\n",
    "* [03 Basic concepts](03_basic_concepts.ipynb)\n",
    "* [04 Basic plotting](04_basic_plots.ipynb)\n",
    "* [05 Styling plots](05_styling.ipynb)\n",
    "* [06 Data sources](06_data_sources.ipynb)\n",
    "* [07 Adding annotations](07_annotations.ipynb)\n",
    "* [08 Plot tools and tooltips](08_plot_tools.ipynb)\n",
    "* [09 More plot types](09_more_plot_types.ipynb)\n",
    "* [10 Layouts](10_layouts.ipynb)\n",
    "* [11 Widgets and interactivity](11_widgets_interactivity.ipynb)\n",
    "* [12 Building the demo dashboard](12_demo_dashboard.ipynb)\n",
    "* [13 Exporting and embedding](13_exporting_embedding.ipynb)\n",
    "* [14 Bokeh Server apps](14_server.ipynb)\n",
    "* [15 Next steps](15_next_steps.ipynb)"
   ]
  },
  {
   "attachments": {},
   "cell_type": "markdown",
   "metadata": {},
   "source": [
    "### How to use this tutorial\n",
    "\n",
    "This tutorial is a series of Jupyter notebooks. Each notebook contains two kinds of\n",
    "cells:\n",
    "\n",
    "* **Text cells**, which contain text and images\n",
    "* **Code cells**, which contain Python code that you can run. You can also modify the code\n",
    "  and run it again.\n",
    "\n",
    "In some of the code cells, you will find instructions to modify the code. These\n",
    "instructions are marked with a comment that starts with 🔁."
   ]
  },
  {
   "cell_type": "code",
   "execution_count": null,
   "metadata": {},
   "outputs": [],
   "source": [
    "# 🔁 Modify the string for title below to change the title of the plot\n",
    "plot = figure(title=\"Please change this title\")\n",
    "\n",
    "plot.circle([1, 2, 3], [6, 7, 4], size=10)\n",
    "show(plot)"
   ]
  },
  {
   "attachments": {},
   "cell_type": "markdown",
   "metadata": {},
   "source": [
    "After you have modified the code, please run the cell again. You will then see the\n",
    "results right underneath that cell.\n",
    "\n",
    "At the bottom of each notebook, you will find a link to the next chapter in the tutorial.\n",
    "When you open a new chapter, all code cells will be in their initial state. Please\n",
    "run each code cell as you make your way through each chapter.\n",
    "\n",
    "Please **run the code cells in the order they are presented** in the notebooks. If you\n",
    "don't run the code cells in the correct order, you might get errors.\n",
    "\n",
    "### What do I need to know to use this tutorial\n",
    "* notebook/binder basics:\n",
    "[TBD]: What you should know about notebooks and the binder platform to use this tutorial\n",
    "https://docs.jupyter.org/en/latest/start/index.html\n",
    "You can also download this tutorial and run it on your own system.\n",
    "See the file REDIRECT.md in the tutorial repository on GitHub for more information.\n",
    "* basic knowledge of Python (functions, classes, basic data types (str, int, float, dicts, lists, etc.) data manipulation, )\n",
    "* optimally: understanding of Pandas and data analysis with Python / Basic sense of JavaScript\n",
    "\n",
    "Note: This tutorial is focused on Bokeh. For clarity and brevity, some of the data processing necessary for the plots in\n",
    "this tutorial is done with Pandas in a separate Python script.\n",
    "This tutorial will reference the data preparation script, but will not go into detail about the data preparation itself.\n",
    "You can find the data processing code in [`carriers_data.py`](../data/carriers_data.py)."
   ]
  },
  {
   "attachments": {},
   "cell_type": "markdown",
   "metadata": {},
   "source": [
    "### Where can I find more help and information?\n",
    "There are several resources that go beyond the scope o this tutorial:\n",
    "\n",
    "* [**Bokeh user guide**](http://docs.bokeh.org/en/latest/docs/user_guide.html): A\n",
    "comprehensive guide to all aspects of Bokeh.\n",
    "* [**Bokeh reference guide**](http://docs.bokeh.org/en/latest/docs/reference.html): A\n",
    "detailed reference of all Bokeh models and functions.\n",
    "\n",
    "You will see the user guide and reference guide referenced throughout this tutorial.\n",
    "\n",
    "Beyond the user guide and reference guide, there are many other resources that you might\n",
    "find helpful:\n",
    "\n",
    "* [**Bokeh first steps**](http://docs.bokeh.org/en/latest/docs/first_steps.html): A\n",
    "quick, high-level introduction to Bokeh.\n",
    "* [**Bokeh gallery**](http://docs.bokeh.org/en/latest/docs/gallery.html): A collection\n",
    "of examples that show how to use Bokeh to create different kinds of plots.\n",
    "* [**Bokeh discourse**](https://discourse.bokeh.org/): A forum for users and developers\n",
    "to ask questions and discuss Bokeh.\n",
    "* [**Bokeh developer guide**](http://docs.bokeh.org/en/latest/docs/dev_guide.html): A\n",
    "resource for developers who want to contribute to Bokeh."
   ]
  },
  {
   "cell_type": "markdown",
   "metadata": {},
   "source": [
    "# Next section\n",
    "\n",
    "[TBD, placeholder]\n",
    "\n",
    "Let's get started!"
   ]
  }
 ],
 "metadata": {
  "kernelspec": {
   "display_name": "Python 3 (ipykernel)",
   "language": "python",
   "name": "python3"
  },
  "language_info": {
   "codemirror_mode": {
    "name": "ipython",
    "version": 3
   },
   "file_extension": ".py",
   "mimetype": "text/x-python",
   "name": "python",
   "nbconvert_exporter": "python",
   "pygments_lexer": "ipython3",
   "version": "3.10.4"
  },
  "vscode": {
   "interpreter": {
    "hash": "ab488fdb8b9aa36105a44cbd221df14ac07fc4003f76992d613ea31bfd3a4f61"
   }
  }
 },
 "nbformat": 4,
 "nbformat_minor": 2
}
