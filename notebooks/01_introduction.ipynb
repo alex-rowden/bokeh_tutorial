{
 "cells": [
  {
   "cell_type": "markdown",
   "metadata": {},
   "source": [
    "<table style=\"float:left; border:none\">\n",
    "   <tr style=\"border:none\">\n",
    "       <td style=\"border:none\">\n",
    "           <a href=\"https://bokeh.org/\">\n",
    "           <img\n",
    "               src=\"assets/bokeh-transparent.png\"\n",
    "               style=\"width:50px\"\n",
    "           >\n",
    "           </a>\n",
    "       </td>\n",
    "       <td style=\"border:none\">\n",
    "           <h1>Bokeh Tutorial</h1>\n",
    "       </td>\n",
    "   </tr>\n",
    "</table>\n",
    "\n",
    "<div style=\"float:right;\"><h2>01 Tutorial Overview</h2></div>"
   ]
  },
  {
   "cell_type": "markdown",
   "metadata": {},
   "source": [
    "### What is Bokeh\n",
    "\n",
    "Bokeh is an open source library for creating **interactive visualization for modern web\n",
    "browsers**.\n",
    "\n",
    "With Bokeh, you can use Python to build beautiful graphics, ranging from simple plots to\n",
    "complex dashboards with streaming datasets.\n",
    "In a nutshell: Bokeh lets you create JavaScript-powered visualizations **without having\n",
    "to write any JavaScript yourself**.\n",
    "\n",
    "Bokeh can generate[ stand-alone HTML objects](http://docs.bokeh.org/en/latest/docs/user_guide/embed.html) to use in any kind of website,\n",
    "or you can run Bokeh as a [server](http://docs.bokeh.org/en/latest/docs/user_guide/server.html).\n",
    "But Bokeh also works directly in Jupyter Notebooks.\n",
    "\n",
    "Run the the two notebook cell below to see Bokeh in action:"
   ]
  },
  {
   "cell_type": "code",
   "execution_count": null,
   "metadata": {},
   "outputs": [],
   "source": [
    "# Activate Bokeh output in Jupyter notebook\n",
    "from bokeh.io import output_notebook\n",
    "\n",
    "output_notebook()"
   ]
  },
  {
   "cell_type": "code",
   "execution_count": null,
   "metadata": {},
   "outputs": [],
   "source": [
    "# Create a complex chart with mouse-over tooltips\n",
    "\n",
    "from bokeh.models import ColumnDataSource, HoverTool\n",
    "from bokeh.plotting import figure, show\n",
    "from bokeh.sampledata.autompg import autompg_clean as df\n",
    "from bokeh.transform import factor_cmap\n",
    "\n",
    "df.cyl = df.cyl.astype(str)\n",
    "df.yr = df.yr.astype(str)\n",
    "\n",
    "group = df.groupby(by=[\"cyl\", \"mfr\"])\n",
    "source = ColumnDataSource(group)\n",
    "\n",
    "p = figure(\n",
    "    plot_width=800,\n",
    "    plot_height=300,\n",
    "    title=\"Mean MPG by # Cylinders and Manufacturer\",\n",
    "    x_range=group,\n",
    "    toolbar_location=None,\n",
    "    tools=\"\",\n",
    ")\n",
    "\n",
    "p.xgrid.grid_line_color = None\n",
    "p.xaxis.axis_label = \"Manufacturer grouped by # Cylinders\"\n",
    "p.xaxis.major_label_orientation = 1.2\n",
    "\n",
    "index_cmap = factor_cmap(\n",
    "    \"cyl_mfr\",\n",
    "    palette=[\"#2b83ba\", \"#abdda4\", \"#ffffbf\", \"#fdae61\", \"#d7191c\"],\n",
    "    factors=sorted(df.cyl.unique()),\n",
    "    end=1,\n",
    ")\n",
    "\n",
    "p.vbar(\n",
    "    x=\"cyl_mfr\",\n",
    "    top=\"mpg_mean\",\n",
    "    width=1,\n",
    "    source=source,\n",
    "    line_color=\"white\",\n",
    "    fill_color=index_cmap,\n",
    "    hover_line_color=\"darkgrey\",\n",
    "    hover_fill_color=index_cmap,\n",
    ")\n",
    "\n",
    "p.add_tools(HoverTool(tooltips=[(\"MPG\", \"@mpg_mean\"), (\"Cyl, Mfr\", \"@cyl_mfr\")]))\n",
    "\n",
    "show(p)"
   ]
  },
  {
   "cell_type": "markdown",
   "metadata": {},
   "source": [
    "### What's in this tutorial\n",
    "\n",
    "This tutorial is an interactive way to learn the basics of Bokeh, making use of [Bokeh's\n",
    "tight integration](http://docs.bokeh.org/en/latest/docs/user_guide/jupyter.html) with\n",
    "Jupyter notebooks and JupyterLabs.\n",
    "\n",
    "In the course of this tutorial, you will learn everything you need to know about Bokeh\n",
    "to build this interactive dashboard using the\n",
    "[\"T-100 Domestic Market\"](https://transtats.bts.gov/DL_SelectFields.aspx?gnoyr_VQ=FIL&QO_fu146_anzr=Nv4%20Pn44vr45)\n",
    "dataset of airline routes within the United States (for the year 2021):"
   ]
  },
  {
   "cell_type": "code",
   "execution_count": null,
   "metadata": {},
   "outputs": [],
   "source": [
    "# Load dashboard object\n",
    "import sys\n",
    "\n",
    "sys.path.append(\"../data\")\n",
    "from tutorial_dashboard import dashboard_layout\n",
    "\n",
    "# show dashboard\n",
    "show(dashboard_layout)"
   ]
  },
  {
   "attachments": {},
   "cell_type": "markdown",
   "metadata": {},
   "source": [
    "The tutorial will walk you through all the steps of creating this dashboard, introducing\n",
    "you to the most important concepts and functionalities of Bokeh.\n",
    "\n",
    "The skills you will learn in this tutorial will provide you with a solid\n",
    "foundation to build different kinds of Bokeh visualization. There are a lot more things\n",
    "you can do with Bokeh, however. For more advanced information, you can refer to the\n",
    "[Bokeh user guide](http://docs.bokeh.org/en/latest/docs/user_guide.html) and the\n",
    "[Bokeh reference guide](http://docs.bokeh.org/en/latest/docs/reference.html).\n",
    "\n",
    "You can also jump directly to any section of the tutorial to learn more about a specific aspect of Bokeh.\n",
    "Use the following links:\n",
    "\n",
    "[TBD]\n",
    "\n",
    "* Installation and environment setup for this tutorial (incl. enabling Bokeh in Jupyter notebook)\n",
    "* High-level overview: basic concepts\n",
    "    * plotting and models interfaces\n",
    "    * Data handling / ColumnDataSource\n",
    "    * interactivity\n",
    "    * Python side - JSON - BokehJS\n",
    "    * Advanced: Server and callbacks\n",
    "    * Basic building blocks: plots, widgets, layouts\n",
    "* Creating basic plots:\n",
    "    * line chart\n",
    "    * bar chart and categorical data (histogram)\n",
    "    * scatter plot (circle, other glyph types) [use WebGL for plots with lots of points!]\n",
    "* styling the plots (colors/pallets, fonts, lines, hatch, latex, themes, etc)\n",
    "* customizing plot elements (add annotations, etc) [also mention LaTeX?]\n",
    "* customizing plot tools: tooltips, Bokeh tool bar\n",
    "* More plot types:\n",
    "    * map plots\n",
    "    * wedge plots\n",
    "    * subplots\n",
    "* Creating layouts (aka dashboards)\n",
    "    * column/row/grid\n",
    "    * sizing modes for layouts\n",
    "* Adding widgets and interactivity\n",
    "* Exporting and embedding\n",
    "    * Export plots and layouts\n",
    "    * Embed a standalone document\n",
    "* Next steps: Bokeh server app\n",
    "    * Basic design of Bokeh server\n",
    "    * data handling and data flow\n",
    "    * creating a Bokeh server app\n",
    "    * Deploy a Bokeh server app\n",
    "    * Connecting to SciPy, CUDF, DaskDF\n",
    "    * High level libraries like hvplot, Panel, etc\n",
    "* Bokeh resources (user guide, reference guide, examples, discord, etc)\n",
    "* Contributing to Bokeh (repo, contributor guide, slack)"
   ]
  },
  {
   "attachments": {},
   "cell_type": "markdown",
   "metadata": {},
   "source": [
    "### What do I need to know to use this tutorial\n",
    "* notebook/binder basics:\n",
    "[TBD]: What you should know about notebooks and the binder platform to use this tutorial\n",
    "https://docs.jupyter.org/en/latest/start/index.html\n",
    "You can also download this tutorial and run it on your own system.\n",
    "See the file REDIRECT.md in the tutorial repository on GitHub for more information.\n",
    "* basic knowledge of Python (functions, classes, basic data types (str, int, float, dicts, lists, etc.) data manipulation, )\n",
    "* optimally: understanding of Pandas and data analysis with Python / Basic sense of JavaScript\n",
    "\n",
    "Note: This tutorial is focused on Bokeh. For clarity and brevity, some of the data processing necessary for the plots in\n",
    "this tutorial is done with Pandas in a separate Python script.\n",
    "This tutorial will reference the data preparation script, but will not go into detail about the data preparation itself.\n",
    "You can find the data processing code in [`carriers_data.py`](../data/carriers_data.py)."
   ]
  },
  {
   "cell_type": "markdown",
   "metadata": {},
   "source": [
    "### Where can I find more help and information?\n",
    "First steps guides: A very quick, high-level intro to Bokeh and its main functionalities.\n",
    "[TBD] Link to docs, link to discourse, link to stackoverflow\n",
    "\n",
    "Let's get started!\n",
    "\n"
   ]
  }
 ],
 "metadata": {
  "kernelspec": {
   "display_name": "Python 3.10.4 ('bk-tutorial')",
   "language": "python",
   "name": "python3"
  },
  "language_info": {
   "codemirror_mode": {
    "name": "ipython",
    "version": 3
   },
   "file_extension": ".py",
   "mimetype": "text/x-python",
   "name": "python",
   "nbconvert_exporter": "python",
   "pygments_lexer": "ipython3",
   "version": "3.10.4 | packaged by conda-forge | (main, Mar 24 2022, 17:34:17) [MSC v.1929 64 bit (AMD64)]"
  },
  "orig_nbformat": 4,
  "vscode": {
   "interpreter": {
    "hash": "ab488fdb8b9aa36105a44cbd221df14ac07fc4003f76992d613ea31bfd3a4f61"
   }
  }
 },
 "nbformat": 4,
 "nbformat_minor": 2
}
